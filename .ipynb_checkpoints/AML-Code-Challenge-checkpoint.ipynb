{
 "cells": [
  {
   "cell_type": "code",
   "execution_count": 2,
   "metadata": {
    "gather": {
     "logged": 1627475852462
    }
   },
   "outputs": [],
   "source": [
    "import pandas as pd\n",
    "import numpy as np\n",
    "import re\n",
    "from datetime import datetime\n",
    "# import xlrd\n",
    "import matplotlib.pyplot as plt\n",
    "\n",
    "from sklearn.impute import KNNImputer\n",
    "from sklearn.model_selection import train_test_split\n",
    "from sklearn.preprocessing import MinMaxScaler\n",
    "\n",
    "from sklearn.compose import TransformedTargetRegressor\n",
    "from sklearn.preprocessing import OrdinalEncoder\n",
    "from sklearn.feature_selection import VarianceThreshold\n",
    "import xgboost as xg\n",
    "from sklearn.pipeline import Pipeline\n",
    "# Check core SDK version number\n",
    "import azureml.core\n",
    "from azureml.core import Workspace, Dataset\n",
    "\n",
    "print('SDK version:', azureml.core.VERSION)"
   ]
  },
  {
   "cell_type": "markdown",
   "metadata": {
    "nteract": {
     "transient": {
      "deleting": false
     }
    }
   },
   "source": [
    "# Data Prepration Class"
   ]
  },
  {
   "cell_type": "code",
   "execution_count": 17,
   "metadata": {
    "collapsed": true,
    "gather": {
     "logged": 1627477288504
    },
    "jupyter": {
     "outputs_hidden": false,
     "source_hidden": false
    },
    "nteract": {
     "transient": {
      "deleting": false
     }
    }
   },
   "outputs": [],
   "source": [
    "# =============================================================================\n",
    "#  DataPrepration Class Definition\n",
    "# =============================================================================\n",
    "class DataPrepration:\n",
    "    \n",
    "    ''' Data preparation class includes below Function:\n",
    "            0. Get Data\n",
    "            1. Map the Target Values to Raw Data\n",
    "            2. Create New KPIs\n",
    "            3. Delete Columns with a high proportion of missing values\n",
    "            4. Convert Catagorical columns to Numerical values\n",
    "            5. Selected Features\n",
    "                * Select Features basd on thier variance\n",
    "                * Remove Duplicate Columns\n",
    "            6. Use Imputation to reGenerate the missed data\n",
    "            7. Shuffling the Dataset '''\n",
    "    # Define Class Variable\n",
    "    df_raw = pd. DataFrame()\n",
    "    df_target = pd. DataFrame()\n",
    "    \n",
    "    def __init__(self, raw_name, target_name):\n",
    "        # Define Instance variable\n",
    "        self.raw_name = raw_name\n",
    "        self.target_name = target_name\n",
    "        \n",
    "    def Get_Data (self):\n",
    "        ''' Load Raw and Target CSV files, since the index column is the first  \n",
    "            unknown column, so the \"Unnamed: 0\" column rename to index '''\n",
    "\n",
    "        subscription_id = 'ec0ad9e6-b046-4a60-81a6-c379f32c659e'\n",
    "        resource_group = 'AML1'\n",
    "        workspace_name = 'AMLocode-Challenge'\n",
    "\n",
    "        workspace = Workspace(subscription_id, resource_group, workspace_name)\n",
    "\n",
    "\n",
    "        df_target = Dataset.get_by_name(workspace, name=self.target_name)\n",
    "        df_target = df_target.to_pandas_dataframe()\n",
    "\n",
    "        df_raw = Dataset.get_by_name(workspace, name=self.raw_name)\n",
    "        df_raw = df_raw.to_pandas_dataframe()\n",
    "        df_raw.rename(columns={'Column1': 'index'}, inplace=True)\n",
    "        return df_raw, df_target\n",
    "\n",
    "    # =========================================================================\n",
    "    #     Establish a correspondence Between Raw and Target\n",
    "    # =========================================================================\n",
    "    def Mapping_Raw_to_Target(self, df_raw, df_target, col1, col2):\n",
    "        \n",
    "        ''' Raw and Target dataset are not matched one-to one correspondence.\n",
    "            By combination of index and groups in Raw and Target dataset, \n",
    "            a new Key has been created, as Index_Groups to map and link \n",
    "            the Target to the Raw data.'''\n",
    "         \n",
    "#        df_raw[col1].astype(float) # Raw Index\n",
    "#        df_raw[col2].astype(float) #Raw Group\n",
    "#        df_target[col1].astype(float) # Target Index\n",
    "#        df_target[col2].astype(float) #Target Group\n",
    "#       \n",
    "        # \n",
    "        df_raw.insert (2,'Index_group', \n",
    "                       [(str(df_raw.loc[i][col1].astype(int)) + '_' +\n",
    "                         str(df_raw.loc[i][col2].astype(int))) \n",
    "                        for i in range (df_raw.shape[0])])\n",
    "        df_target.insert (1,'Index_group', \n",
    "                       [(str(df_target.loc[i][col1].astype(int)) + '_' +\n",
    "                         str(df_target.loc[i][col2].astype(int))) \n",
    "                        for i in range (df_target.shape[0])])\n",
    "            \n",
    "        Converted_Dataset = pd.merge(df_raw, df_target, how=\"inner\", \n",
    "                                     on=[\"Index_group\"] )\n",
    "        Converted_Dataset.drop('index_y',axis = 1, inplace = True)\n",
    "        Converted_Dataset.drop('groups_y',axis = 1, inplace = True)\n",
    "        \n",
    "        return Converted_Dataset\n",
    "\n",
    "    # =============================================================================\n",
    "    # Remove Columns with high Missing values\n",
    "    # =============================================================================\n",
    "    def Drop_missed_Column(self, df, col_to_del):\n",
    "        '''Function to delete Columns with a high proportion of missing values,\n",
    "           or one of the Duplicate columns '''\n",
    "        if type(col_to_del) ==list:\n",
    "            for col in col_to_del:\n",
    "                df.pop(col)\n",
    "        elif type(col_to_del) == str:\n",
    "                df.pop(col_to_del)\n",
    "        return df           \n",
    "    # =============================================================================\n",
    "    #   To Unify time feature \n",
    "    # =============================================================================\n",
    "    def Unifying_timestamp_col(self, df, col_to_convert):\n",
    "        ''' Unifying all types of Date and time to %d/%m/%Y %H:%M\n",
    "            in this part the Regex has been used to find the different types of Date time'''\n",
    "\n",
    "        for col in col_to_convert:\n",
    "            for row in range(df.shape[0]):\n",
    "                if (re.match('[3-4][0-9]{4}.[0-9]',str(df.loc[row:row+1][col]))):\n",
    "                    df.loc[row:row+1][col] = datetime(*xlrd.xldate_as_tuple(float(df.loc[row:row+1][col]), 0)).strftime('%Y-%m-%d %H:%M:%S')\n",
    "                    df.loc[row:row+1][col] = datetime.strptime(df.loc[row:row+1][col], \"%Y/%m/%d %H:%M:%S\").strftime(\"%Y/%m/%d %H:%M:%S\")\n",
    "                elif (re.match('[0-9]{4}/[0-9]{2}/[0-9]',str(df.loc[row:row+1][col]))):\n",
    "                    df.loc[row:row+1][col] = datetime.strptime(str(df.loc[row:row+1][col]), \"%Y/%m/%d %H:%M:%S\").strftime(\"%Y/%m/%d %H:%M:%S\")\n",
    "                        \n",
    "        for col in col_to_convert:\n",
    "    \n",
    "            df[col] = pd.to_datetime(df[col] , format='%d/%m/%Y %H:%M')\n",
    "    \n",
    "        return df    \n",
    "    # =============================================================================\n",
    "    # Find the day gap between two dates\n",
    "    # ============================================================================= \n",
    "    def Second_Between(self, t1, t2):\n",
    "        ''' Calculate the time period between two times, based on Second'''\n",
    "        Distance_sign = str((t2-t1)) # Find To be forward or to be behind. \n",
    "        Distance = str(abs(t2-t1)) # It change to str to use Regex\n",
    "        Date_type = re.findall('[0-9]{2}:[0-9]{2}:[0-9]{2}', Distance)\n",
    "        Sign = Distance_sign.split(' ')[3]\n",
    "        if(len(Date_type)!= 0):\n",
    "            Time = Date_type[0].split(':')\n",
    "            Gap = int(Time[0])*3600+int(Time[1])*60+int(Time[2])\n",
    "            if Sign == '-1':\n",
    "                Gap=Gap*(-1) \n",
    "        else:\n",
    "            Gap = 0\n",
    "\n",
    "        return Gap\n",
    "    # =============================================================================\n",
    "    #                                Create New KPI\n",
    "    # =============================================================================\n",
    "    def New_KPI(self, df, new_kpi, col1, col2):\n",
    "        '''Create new features (KPI) from timestamp values, \n",
    "           it helps us to make the better of timestamp values'''\n",
    "        # Insert new KPI to the Dataset   \n",
    "        df.insert(2, new_kpi, \n",
    "                  [ self.Second_Between(df.loc[i:i][col1],\n",
    "                                                      df.loc[i:i][col2])\n",
    "                                     for i in range(df.shape[0])])\n",
    "        return df\n",
    "    # =============================================================================\n",
    "    # Use Ordinal Encoding to change catagorical columns to numerical values\n",
    "    # =============================================================================\n",
    "    def Catagorical_to_Numerical (self, df, col_to_numerical):\n",
    "        ''' Relpace the Categoricall Features with Numerical \n",
    "            by OrdinalEncoder function'''\n",
    "        enc = OrdinalEncoder()\n",
    "        df[col_to_numerical] = enc.fit_transform(df[col_to_numerical])\n",
    "        return df\n",
    "    \n",
    "    # =============================================================================\n",
    "    #     Remove Duplicate Columns\n",
    "    # =============================================================================\n",
    "    def Transpose (self, df):\n",
    "        ''' To remove duplicate columns'''\n",
    "        \n",
    "        Trans = df.T\n",
    "        Trans.drop_duplicates( inplace = True)\n",
    "        Trans = Trans.T\n",
    "        return Trans \n",
    "    # =============================================================================\n",
    "    # KNN Imputer\n",
    "    # =============================================================================\n",
    "    def KNN_Imputer(self, df):\n",
    "        ''' Replacing NAN (missing) values with \n",
    "            reasonable data with KNN Algorithm.'''\n",
    "        imputer = KNNImputer() # fit on the dataset\n",
    "        imputer.fit(df) \n",
    "        X = imputer.transform(df)  # transform the dataset\n",
    "        return X    \n",
    "    # =============================================================================\n",
    "    # Remove Columns That Have A Low Variance\n",
    "    # =============================================================================      \n",
    "    def Del_Low_Variance(self, df):\n",
    "        '''To make the better performance low variance features have been removed.\n",
    "           Based on tunning hyperparameters the threshold = 0.15 select 26 features \n",
    "           with better performance'''\n",
    "        # define the transform: With this threshold 26 features has been selected\n",
    "        transform = VarianceThreshold(threshold=.15)   \n",
    "        X_sel = transform.fit_transform(df)  # transform the input data\n",
    "        X = pd.DataFrame(X_sel)\n",
    "        return X\n",
    "    # =========================================================================\n",
    "    #     Split Dataset to Train and Test\n",
    "    # =========================================================================   \n",
    "    def Split (self, df, split_percent):\n",
    "        ''' Split the Dataset into Test and Train'''\n",
    "        # X_train, X_test, Y_train, Y_test = train_test_split(df, test_size=split_percent, random_state=10)\n",
    "        X_train, X_test = train_test_split(Converted_Dataset, test_size = split_percent, random_state=223)\n",
    "        return X_train, X_test"
   ]
  },
  {
   "cell_type": "code",
   "execution_count": 18,
   "metadata": {
    "collapsed": true,
    "gather": {
     "logged": 1627477299044
    },
    "jupyter": {
     "outputs_hidden": false,
     "source_hidden": false
    },
    "nteract": {
     "transient": {
      "deleting": false
     }
    }
   },
   "outputs": [],
   "source": [
    "# =============================================================================\n",
    "#  Main Project\n",
    "# =============================================================================\n",
    "\n",
    "target_name = 'Target'\n",
    "raw_name = 'Raw data'\n",
    "data_pre = DataPrepration(raw_name,target_name)\n",
    "df_raw, df_target = data_pre.Get_Data()\n"
   ]
  },
  {
   "cell_type": "code",
   "execution_count": 13,
   "metadata": {
    "gather": {
     "logged": 1627477173891
    },
    "jupyter": {
     "outputs_hidden": false,
     "source_hidden": false
    },
    "nteract": {
     "transient": {
      "deleting": false
     }
    }
   },
   "outputs": [
    {
     "name": "stdout",
     "output_type": "stream",
     "text": [
      "Mapping Raw and Target dataset has done\n",
      "Drop the high missed columns has done\n",
      "Unify the Date time columns has done\n",
      "Create Nea Features has done\n",
      "Convert Categorical to Numerical columns has done\n",
      "Remove un-used columns has done\n",
      "Split dataset to train and test has done\n"
     ]
    }
   ],
   "source": [
    "# Converted_Dataset.drop(\"Index_group\",axis = 1, inplace =  True\n",
    "# Join the Target and Feature Data \n",
    "Converted_Dataset = data_pre.Mapping_Raw_to_Target(df_raw, df_target, 'index', 'groups')\n",
    "print('Mapping Raw and Target dataset has done')\n",
    "\n",
    "# Drop the high missed columns\n",
    "col_to_del = ['etherium_before_start', 'start_critical_subprocess1','raw_kryptonite', 'pure_seastone', 'opened']\n",
    "Converted_Dataset = data_pre.Drop_missed_Column(Converted_Dataset, col_to_del)\n",
    "print(\"Drop the high missed columns has done\")\n",
    "\n",
    "\n",
    "# Unify the Date time columns\n",
    "col_to_convert = [ 'expected_start', 'start_process', 'start_subprocess1',\n",
    "                   'predicted_process_end', 'process_end', 'subprocess1_end',\n",
    "                   'reported_on_tower']\n",
    "Converted_Dataset = data_pre.Unifying_timestamp_col(Converted_Dataset, col_to_convert)\n",
    "print (\"Unify the Date time columns has done\")\n",
    "\n",
    "# Create New KPIs (Feature)\n",
    "Converted_Dataset = data_pre.New_KPI(Converted_Dataset, 'Expected_Start_Process', 'expected_start', 'start_process')\n",
    "Converted_Dataset = data_pre.New_KPI(Converted_Dataset, 'start_time_of_subprocess1', 'start_process', 'start_subprocess1' )\n",
    "Converted_Dataset = data_pre.New_KPI(Converted_Dataset, 'process_duration','start_process', 'process_end')\n",
    "Converted_Dataset = data_pre.New_KPI(Converted_Dataset, 'expected_end_process', 'process_end', 'predicted_process_end' )\n",
    "Converted_Dataset = data_pre.New_KPI(Converted_Dataset, 'subprocess_duration', 'start_process', 'subprocess1_end' )\n",
    "Converted_Dataset = data_pre.New_KPI(Converted_Dataset, 'whole_process', 'start_process', 'reported_on_tower')\n",
    "print ('Create Nea Features has done')\n",
    "\n",
    "# Convert Categorical to Numerical columns\n",
    "col_to_numerical = [\"super_hero_group\",\"crystal_type\", \"crystal_supergroup\", \"Cycle\"]\n",
    "Converted_Dataset = data_pre.Catagorical_to_Numerical (Converted_Dataset, col_to_numerical)\n",
    "print('Convert Categorical to Numerical columns has done')\n",
    "\n",
    "# Remove the old and un-used columns from the DataSet\n",
    "col_to_del = [ 'when', 'expected_start', 'start_process', 'start_subprocess1',\n",
    "                   'predicted_process_end', 'process_end', 'subprocess1_end',\n",
    "                   'reported_on_tower']\n",
    "Converted_Dataset = data_pre.Drop_missed_Column(Converted_Dataset, col_to_del)\n",
    "print('Remove un-used columns has done')\n",
    "\n",
    "X_train, X_test = data_pre.Split(Converted_Dataset, 0.1)\n",
    "print ('Split dataset to train and test has done')"
   ]
  },
  {
   "cell_type": "markdown",
   "metadata": {},
   "source": [
    "# Config and run AML"
   ]
  },
  {
   "cell_type": "code",
   "execution_count": 22,
   "metadata": {
    "collapsed": true,
    "gather": {
     "logged": 1627477342517
    },
    "jupyter": {
     "outputs_hidden": false,
     "source_hidden": false
    },
    "nteract": {
     "transient": {
      "deleting": false
     }
    }
   },
   "outputs": [],
   "source": [
    "import logging\n",
    "x_train, x_test = train_test_split(Converted_Dataset, test_size=0.2, random_state=223)\n",
    "automl_settings = {\n",
    "    \"iteration_timeout_minutes\": 10,\n",
    "    \"experiment_timeout_hours\": 0.3,\n",
    "    \"enable_early_stopping\": True,\n",
    "    \"primary_metric\": 'spearman_correlation',\n",
    "    \"featurization\": 'auto',\n",
    "    \"verbosity\": logging.INFO,\n",
    "    \"n_cross_validations\": 5\n",
    "}\n",
    "\n",
    "from azureml.train.automl import AutoMLConfig\n",
    "\n",
    "automl_config = AutoMLConfig(task='regression',\n",
    "                             debug_log='automated_ml_errors.log',\n",
    "                             training_data=x_train,\n",
    "                             label_column_name=\"target\",\n",
    "                             **automl_settings)"
   ]
  },
  {
   "cell_type": "code",
   "execution_count": 23,
   "metadata": {
    "collapsed": true,
    "gather": {
     "logged": 1627478572367
    },
    "jupyter": {
     "outputs_hidden": false,
     "source_hidden": false
    },
    "nteract": {
     "transient": {
      "deleting": false
     }
    }
   },
   "outputs": [
    {
     "name": "stdout",
     "output_type": "stream",
     "text": [
      "No run_configuration provided, running on local with default configuration\n",
      "Running in the active local environment.\n"
     ]
    },
    {
     "data": {
      "text/html": [
       "<table style=\"width:100%\"><tr><th>Experiment</th><th>Id</th><th>Type</th><th>Status</th><th>Details Page</th><th>Docs Page</th></tr><tr><td>CodeChallenge</td><td>AutoML_473ef8aa-79fa-43c8-92f1-df26625d6d49</td><td>automl</td><td>Preparing</td><td><a href=\"https://ml.azure.com/runs/AutoML_473ef8aa-79fa-43c8-92f1-df26625d6d49?wsid=/subscriptions/ec0ad9e6-b046-4a60-81a6-c379f32c659e/resourcegroups/aml1/workspaces/amlocode-challenge&amp;tid=a58d983a-cc64-44f1-bccb-580bc80f047b\" target=\"_blank\" rel=\"noopener\">Link to Azure Machine Learning studio</a></td><td><a href=\"https://docs.microsoft.com/en-us/python/api/overview/azure/ml/intro?view=azure-ml-py\" target=\"_blank\" rel=\"noopener\">Link to Documentation</a></td></tr></table>"
      ],
      "text/plain": [
       "<IPython.core.display.HTML object>"
      ]
     },
     "metadata": {},
     "output_type": "display_data"
    },
    {
     "name": "stdout",
     "output_type": "stream",
     "text": [
      "Current status: DatasetEvaluation. Gathering dataset statistics.\n",
      "Current status: FeaturesGeneration. Generating features for the dataset.\n",
      "Current status: DatasetFeaturization. Beginning to fit featurizers and featurize the dataset.\n",
      "Current status: DatasetFeaturizationCompleted. Completed fit featurizers and featurizing the dataset.\n",
      "Current status: DatasetCrossValidationSplit. Generating individually featurized CV splits.\n",
      "\n",
      "****************************************************************************************************\n",
      "DATA GUARDRAILS: \n",
      "\n",
      "TYPE:         Missing feature values imputation\n",
      "STATUS:       DONE\n",
      "DESCRIPTION:  If the missing values are expected, let the run complete. Otherwise cancel the current run and use a script to customize the handling of missing feature values that may be more appropriate based on the data type and business requirement.\n",
      "              Learn more about missing value imputation: https://aka.ms/AutomatedMLFeaturization\n",
      "DETAILS:      \n",
      "+---------------------------------+---------------------------------+---------------------------------+\n",
      "|Column name                      |Missing value count              |Imputation type                  |\n",
      "+=================================+=================================+=================================+\n",
      "|Column18                         |2922                             |mean                             |\n",
      "|argon                            |253                              |mean                             |\n",
      "|chemical_x                       |78                               |mean                             |\n",
      "|crystal_weight                   |181                              |mean                             |\n",
      "|final_factor_x                   |2648                             |mean                             |\n",
      "|first_factor_x                   |2922                             |mean                             |\n",
      "|previous_adamantium              |199                              |mean                             |\n",
      "+---------------------------------+---------------------------------+---------------------------------+\n",
      "\n",
      "****************************************************************************************************\n",
      "\n",
      "TYPE:         High cardinality feature detection\n",
      "STATUS:       DONE\n",
      "DESCRIPTION:  The training data had the following high cardinality features which were excluded for training. Please review your data source and possibly filter out these columns. If you want to include these features for training, you can override column purpose with appropriate column type.\n",
      "              Learn more about high cardinality feature handling: https://aka.ms/AutomatedMLFeaturization\n",
      "DETAILS:      High cardinality features refer to columns that contain a large percentage of unique values.\n",
      "+---------------------------------+---------------------------------+\n",
      "|Column name                      |Column Content Type              |\n",
      "+=================================+=================================+\n",
      "|Index_group                      |hashes                           |\n",
      "+---------------------------------+---------------------------------+\n",
      "\n",
      "****************************************************************************************************\n",
      "Current status: ModelSelection. Beginning model selection.\n",
      "\n",
      "****************************************************************************************************\n",
      "ITERATION: The iteration being evaluated.\n",
      "PIPELINE: A summary description of the pipeline being evaluated.\n",
      "DURATION: Time taken for the current iteration.\n",
      "METRIC: The result of computing score on the fitted pipeline.\n",
      "BEST: The best observed score thus far.\n",
      "****************************************************************************************************\n",
      "\n",
      " ITERATION   PIPELINE                                       DURATION      METRIC      BEST\n",
      "         0   MaxAbsScaler LightGBM                          0:00:24       0.9981    0.9981\n",
      "         1   MaxAbsScaler XGBoostRegressor                  0:00:25       0.9848    0.9981\n",
      "         2   MaxAbsScaler RandomForest                      0:00:28       0.9386    0.9981\n",
      "         3   StandardScalerWrapper RandomForest             0:01:23       0.9457    0.9981\n",
      "         4   SparseNormalizer XGBoostRegressor              0:00:23       0.9607    0.9981\n",
      "         5   StandardScalerWrapper XGBoostRegressor         0:00:25       0.9881    0.9981\n",
      "         6   MaxAbsScaler RandomForest                      0:00:28       0.9703    0.9981\n",
      "         7   MaxAbsScaler RandomForest                      0:00:34       0.9807    0.9981\n",
      "         8   StandardScalerWrapper ElasticNet               0:00:21       0.9546    0.9981\n",
      "         9   StandardScalerWrapper DecisionTree             0:00:23       0.9600    0.9981\n",
      "        10   StandardScalerWrapper RandomForest             0:00:26       0.9208    0.9981\n",
      "        11   MaxAbsScaler ExtremeRandomTrees                0:00:47       0.9680    0.9981\n",
      "        12   MaxAbsScaler RandomForest                      0:00:25       0.9137    0.9981\n",
      "        13   MaxAbsScaler ExtremeRandomTrees                0:00:22       0.9489    0.9981\n",
      "        14   StandardScalerWrapper XGBoostRegressor         0:00:22       0.9558    0.9981\n",
      "        15   StandardScalerWrapper XGBoostRegressor         0:00:33       0.9964    0.9981\n",
      "        16   MaxAbsScaler GradientBoosting                  0:00:38       0.9612    0.9981\n",
      "        17   MaxAbsScaler ElasticNet                        0:00:25       0.9546    0.9981\n",
      "        18   StandardScalerWrapper XGBoostRegressor         0:00:33       0.9903    0.9981\n",
      "        19   StandardScalerWrapper ExtremeRandomTrees       0:00:29       0.9655    0.9981\n",
      "        20   MaxAbsScaler RandomForest                      0:00:24       0.9515    0.9981\n",
      "        21   StandardScalerWrapper ElasticNet               0:00:22       0.9546    0.9981\n",
      "        22   StandardScalerWrapper GradientBoosting         0:01:40       0.9921    0.9981\n",
      "        23   StandardScalerWrapper GradientBoosting         0:00:25       0.9642    0.9981\n",
      "        24   StandardScalerWrapper XGBoostRegressor         0:00:29       0.9900    0.9981\n",
      "        25   SparseNormalizer LightGBM                      0:00:24       0.8456    0.9981\n",
      "        26   VotingEnsemble                                 0:00:29       0.9977    0.9981\n",
      "        27   StackEnsemble                                  0:00:29       0.9982    0.9982\n",
      "Stopping criteria reached at iteration 28. Ending experiment.\n",
      "****************************************************************************************************\n",
      "Current status: BestRunExplainModel. Best run model explanations started\n",
      "Current status: ModelExplanationDataSetSetup. Model explanations data setup completed\n",
      "Current status: PickSurrogateModel. Choosing LightGBM as the surrogate model for explanations\n",
      "Current status: EngineeredFeatureExplanations. Computation of engineered features started\n",
      "Current status: EngineeredFeatureExplanations. Computation of engineered features completed\n",
      "Current status: RawFeaturesExplanations. Computation of raw features started\n",
      "Current status: RawFeaturesExplanations. Computation of raw features completed\n",
      "Current status: BestRunExplainModel. Best run model explanations completed\n",
      "****************************************************************************************************\n"
     ]
    }
   ],
   "source": [
    "from azureml.core.workspace import Workspace\n",
    "ws = Workspace.from_config()\n",
    "from azureml.core.experiment import Experiment\n",
    "experiment = Experiment(ws, \"CodeChallenge\")\n",
    "local_run = experiment.submit(automl_config, show_output=True)"
   ]
  },
  {
   "cell_type": "code",
   "execution_count": 24,
   "metadata": {
    "gather": {
     "logged": 1627479157707
    },
    "jupyter": {
     "outputs_hidden": false,
     "source_hidden": false
    },
    "nteract": {
     "transient": {
      "deleting": false
     }
    }
   },
   "outputs": [
    {
     "data": {
      "application/vnd.jupyter.widget-view+json": {
       "model_id": "46339968cb5f4c8fad64f29d061eaaca",
       "version_major": 2,
       "version_minor": 0
      },
      "text/plain": [
       "_AutoMLWidget(widget_settings={'childWidgetDisplay': 'popup', 'send_telemetry': False, 'log_level': 'INFO', 's…"
      ]
     },
     "metadata": {},
     "output_type": "display_data"
    },
    {
     "data": {
      "application/aml.mini.widget.v1": "{\"status\": \"Completed\", \"workbench_run_details_uri\": \"https://ml.azure.com/runs/AutoML_473ef8aa-79fa-43c8-92f1-df26625d6d49?wsid=/subscriptions/ec0ad9e6-b046-4a60-81a6-c379f32c659e/resourcegroups/aml1/workspaces/amlocode-challenge&tid=a58d983a-cc64-44f1-bccb-580bc80f047b\", \"run_id\": \"AutoML_473ef8aa-79fa-43c8-92f1-df26625d6d49\", \"run_properties\": {\"run_id\": \"AutoML_473ef8aa-79fa-43c8-92f1-df26625d6d49\", \"created_utc\": \"2021-07-28T13:02:34.667235Z\", \"properties\": {\"num_iterations\": \"1000\", \"training_type\": \"TrainFull\", \"acquisition_function\": \"EI\", \"primary_metric\": \"spearman_correlation\", \"train_split\": \"0\", \"acquisition_parameter\": \"0\", \"num_cross_validation\": \"5\", \"target\": \"local\", \"AMLSettingsJsonString\": \"{\\\"path\\\":null,\\\"name\\\":\\\"CodeChallenge\\\",\\\"subscription_id\\\":\\\"ec0ad9e6-b046-4a60-81a6-c379f32c659e\\\",\\\"resource_group\\\":\\\"aml1\\\",\\\"workspace_name\\\":\\\"amlocode-challenge\\\",\\\"region\\\":\\\"eastus2\\\",\\\"compute_target\\\":\\\"local\\\",\\\"spark_service\\\":null,\\\"azure_service\\\":\\\"Microsoft.AzureNotebookVM\\\",\\\"many_models\\\":false,\\\"pipeline_fetch_max_batch_size\\\":1,\\\"enable_batch_run\\\":false,\\\"enable_run_restructure\\\":false,\\\"start_auxiliary_runs_before_parent_complete\\\":false,\\\"enable_code_generation\\\":false,\\\"iterations\\\":1000,\\\"primary_metric\\\":\\\"spearman_correlation\\\",\\\"task_type\\\":\\\"regression\\\",\\\"data_script\\\":null,\\\"test_size\\\":0.0,\\\"validation_size\\\":0.0,\\\"n_cross_validations\\\":5,\\\"y_min\\\":null,\\\"y_max\\\":null,\\\"num_classes\\\":null,\\\"featurization\\\":\\\"auto\\\",\\\"_ignore_package_version_incompatibilities\\\":false,\\\"is_timeseries\\\":false,\\\"max_cores_per_iteration\\\":1,\\\"max_concurrent_iterations\\\":1,\\\"iteration_timeout_minutes\\\":10,\\\"mem_in_mb\\\":null,\\\"enforce_time_on_windows\\\":false,\\\"experiment_timeout_minutes\\\":18,\\\"experiment_exit_score\\\":null,\\\"whitelist_models\\\":null,\\\"blacklist_algos\\\":[\\\"TensorFlowDNN\\\",\\\"TensorFlowLinearRegressor\\\"],\\\"supported_models\\\":[\\\"ElasticNet\\\",\\\"SGD\\\",\\\"TensorFlowLinearRegressor\\\",\\\"TensorFlowDNN\\\",\\\"FastLinearRegressor\\\",\\\"RandomForest\\\",\\\"LightGBM\\\",\\\"ExtremeRandomTrees\\\",\\\"GradientBoosting\\\",\\\"XGBoostRegressor\\\",\\\"OnlineGradientDescentRegressor\\\",\\\"LassoLars\\\",\\\"KNN\\\",\\\"DecisionTree\\\"],\\\"private_models\\\":[],\\\"auto_blacklist\\\":true,\\\"blacklist_samples_reached\\\":false,\\\"exclude_nan_labels\\\":true,\\\"verbosity\\\":20,\\\"_debug_log\\\":\\\"automated_ml_errors.log\\\",\\\"show_warnings\\\":false,\\\"model_explainability\\\":true,\\\"service_url\\\":null,\\\"sdk_url\\\":null,\\\"sdk_packages\\\":null,\\\"enable_onnx_compatible_models\\\":false,\\\"enable_split_onnx_featurizer_estimator_models\\\":false,\\\"vm_type\\\":null,\\\"telemetry_verbosity\\\":20,\\\"send_telemetry\\\":true,\\\"enable_dnn\\\":false,\\\"scenario\\\":\\\"SDK-1.13.0\\\",\\\"environment_label\\\":null,\\\"save_mlflow\\\":false,\\\"force_text_dnn\\\":false,\\\"enable_feature_sweeping\\\":true,\\\"enable_early_stopping\\\":true,\\\"early_stopping_n_iters\\\":10,\\\"metrics\\\":null,\\\"enable_metric_confidence\\\":false,\\\"enable_ensembling\\\":true,\\\"enable_stack_ensembling\\\":true,\\\"ensemble_iterations\\\":15,\\\"enable_tf\\\":false,\\\"enable_subsampling\\\":null,\\\"subsample_seed\\\":null,\\\"enable_nimbusml\\\":false,\\\"enable_streaming\\\":false,\\\"force_streaming\\\":false,\\\"track_child_runs\\\":true,\\\"allowed_private_models\\\":[],\\\"label_column_name\\\":\\\"target\\\",\\\"weight_column_name\\\":null,\\\"cv_split_column_names\\\":null,\\\"enable_local_managed\\\":false,\\\"_local_managed_run_id\\\":null,\\\"cost_mode\\\":1,\\\"lag_length\\\":0,\\\"metric_operation\\\":\\\"maximize\\\",\\\"preprocess\\\":true}\", \"DataPrepJsonString\": null, \"EnableSubsampling\": null, \"runTemplate\": \"AutoML\", \"azureml.runsource\": \"automl\", \"display_task_type\": \"regression\", \"dependencies_versions\": \"{\\\"azureml-widgets\\\": \\\"1.31.0\\\", \\\"azureml-train\\\": \\\"1.31.0\\\", \\\"azureml-train-restclients-hyperdrive\\\": \\\"1.31.0\\\", \\\"azureml-train-core\\\": \\\"1.31.0\\\", \\\"azureml-train-automl\\\": \\\"1.31.0\\\", \\\"azureml-train-automl-runtime\\\": \\\"1.31.0\\\", \\\"azureml-train-automl-client\\\": \\\"1.31.0\\\", \\\"azureml-tensorboard\\\": \\\"1.31.0\\\", \\\"azureml-telemetry\\\": \\\"1.31.0\\\", \\\"azureml-sdk\\\": \\\"1.31.0\\\", \\\"azureml-samples\\\": \\\"0+unknown\\\", \\\"azureml-responsibleai\\\": \\\"1.31.0\\\", \\\"azureml-pipeline\\\": \\\"1.31.0\\\", \\\"azureml-pipeline-steps\\\": \\\"1.31.0\\\", \\\"azureml-pipeline-core\\\": \\\"1.31.0\\\", \\\"azureml-opendatasets\\\": \\\"1.31.0\\\", \\\"azureml-model-management-sdk\\\": \\\"1.0.1b6.post1\\\", \\\"azureml-mlflow\\\": \\\"1.31.0\\\", \\\"azureml-interpret\\\": \\\"1.31.0\\\", \\\"azureml-explain-model\\\": \\\"1.31.0\\\", \\\"azureml-defaults\\\": \\\"1.31.0\\\", \\\"azureml-dataset-runtime\\\": \\\"1.31.0\\\", \\\"azureml-dataprep\\\": \\\"2.18.0\\\", \\\"azureml-dataprep-rslex\\\": \\\"1.16.1\\\", \\\"azureml-dataprep-native\\\": \\\"36.0.0\\\", \\\"azureml-datadrift\\\": \\\"1.31.0\\\", \\\"azureml-core\\\": \\\"1.31.0\\\", \\\"azureml-contrib-services\\\": \\\"1.31.0\\\", \\\"azureml-contrib-server\\\": \\\"1.31.0\\\", \\\"azureml-contrib-reinforcementlearning\\\": \\\"1.31.0\\\", \\\"azureml-contrib-pipeline-steps\\\": \\\"1.31.0\\\", \\\"azureml-contrib-notebook\\\": \\\"1.31.0\\\", \\\"azureml-contrib-fairness\\\": \\\"1.31.0\\\", \\\"azureml-contrib-dataset\\\": \\\"1.31.0\\\", \\\"azureml-cli-common\\\": \\\"1.31.0\\\", \\\"azureml-automl-runtime\\\": \\\"1.31.0\\\", \\\"azureml-automl-dnn-nlp\\\": \\\"1.31.0\\\", \\\"azureml-automl-core\\\": \\\"1.31.0\\\", \\\"azureml-accel-models\\\": \\\"1.31.0\\\"}\", \"_aml_system_scenario_identification\": \"Local.Parent\", \"ClientSdkVersion\": \"1.31.0\", \"ClientType\": \"SDK\", \"environment_cpu_name\": \"AzureML-AutoML\", \"environment_cpu_label\": \"prod\", \"environment_gpu_name\": \"AzureML-AutoML-GPU\", \"environment_gpu_label\": \"prod\", \"root_attribution\": \"automl\", \"attribution\": \"AutoML\", \"Orchestrator\": \"AutoML\", \"_azureml.ComputeTargetType\": \"local\", \"ProblemInfoJsonString\": \"{\\\"dataset_num_categorical\\\": 0, \\\"is_sparse\\\": true, \\\"subsampling\\\": false, \\\"has_extra_col\\\": true, \\\"dataset_classes\\\": 5865, \\\"dataset_features\\\": 57, \\\"dataset_samples\\\": 6835, \\\"single_frequency_class_detected\\\": false}\"}, \"tags\": {\"model_explain_run\": \"best_run\", \"best_score\": \"0.9982487413263781\", \"best_pipeline\": \"StackEnsemble\", \"automl_best_child_run_id\": \"AutoML_473ef8aa-79fa-43c8-92f1-df26625d6d49_27\", \"model_explain_best_run_child_id\": \"AutoML_473ef8aa-79fa-43c8-92f1-df26625d6d49_27\"}, \"end_time_utc\": \"2021-07-28T13:21:52.048273Z\", \"status\": \"Completed\", \"log_files\": {}, \"log_groups\": [], \"run_duration\": \"0:19:17\", \"run_number\": \"34\", \"run_queued_details\": {\"status\": \"Completed\", \"details\": null}}, \"child_runs\": [{\"run_id\": \"AutoML_473ef8aa-79fa-43c8-92f1-df26625d6d49_0\", \"run_number\": 35, \"metric\": null, \"status\": \"Completed\", \"run_type\": null, \"training_percent\": \"100\", \"start_time\": \"2021-07-28T13:06:06.041012Z\", \"end_time\": \"2021-07-28T13:06:30.572837Z\", \"created_time\": \"2021-07-28T13:06:05.914132Z\", \"created_time_dt\": \"2021-07-28T13:06:05.914132Z\", \"duration\": \"0:00:24\", \"iteration\": \"0\", \"goal\": \"spearman_correlation_max\", \"run_name\": \"MaxAbsScaler, LightGBM\", \"run_properties\": \"copy=True\", \"primary_metric\": 0.9980988, \"best_metric\": 0.9980988}, {\"run_id\": \"AutoML_473ef8aa-79fa-43c8-92f1-df26625d6d49_1\", \"run_number\": 36, \"metric\": null, \"status\": \"Completed\", \"run_type\": null, \"training_percent\": \"100\", \"start_time\": \"2021-07-28T13:06:30.935683Z\", \"end_time\": \"2021-07-28T13:06:56.476003Z\", \"created_time\": \"2021-07-28T13:06:30.76694Z\", \"created_time_dt\": \"2021-07-28T13:06:30.76694Z\", \"duration\": \"0:00:25\", \"iteration\": \"1\", \"goal\": \"spearman_correlation_max\", \"run_name\": \"MaxAbsScaler, XGBoostRegressor\", \"run_properties\": \"copy=True\", \"primary_metric\": 0.98477857, \"best_metric\": 0.9980988}, {\"run_id\": \"AutoML_473ef8aa-79fa-43c8-92f1-df26625d6d49_2\", \"run_number\": 37, \"metric\": null, \"status\": \"Completed\", \"run_type\": null, \"training_percent\": \"100\", \"start_time\": \"2021-07-28T13:06:57.084275Z\", \"end_time\": \"2021-07-28T13:07:25.652212Z\", \"created_time\": \"2021-07-28T13:06:56.984931Z\", \"created_time_dt\": \"2021-07-28T13:06:56.984931Z\", \"duration\": \"0:00:28\", \"iteration\": \"2\", \"goal\": \"spearman_correlation_max\", \"run_name\": \"MaxAbsScaler, RandomForest\", \"run_properties\": \"copy=True\", \"primary_metric\": 0.93860376, \"best_metric\": 0.9980988}, {\"run_id\": \"AutoML_473ef8aa-79fa-43c8-92f1-df26625d6d49_3\", \"run_number\": 38, \"metric\": null, \"status\": \"Completed\", \"run_type\": null, \"training_percent\": \"100\", \"start_time\": \"2021-07-28T13:07:27.007447Z\", \"end_time\": \"2021-07-28T13:08:50.67837Z\", \"created_time\": \"2021-07-28T13:07:26.901279Z\", \"created_time_dt\": \"2021-07-28T13:07:26.901279Z\", \"duration\": \"0:01:23\", \"iteration\": \"3\", \"goal\": \"spearman_correlation_max\", \"run_name\": \"StandardScalerWrapper, RandomForest\", \"run_properties\": \"\\n    copy=True,\\n    with_mean=False,\\n    with_std=True\\n\", \"primary_metric\": 0.94567175, \"best_metric\": 0.9980988}, {\"run_id\": \"AutoML_473ef8aa-79fa-43c8-92f1-df26625d6d49_4\", \"run_number\": 39, \"metric\": null, \"status\": \"Completed\", \"run_type\": null, \"training_percent\": \"100\", \"start_time\": \"2021-07-28T13:08:51.906085Z\", \"end_time\": \"2021-07-28T13:09:15.475505Z\", \"created_time\": \"2021-07-28T13:08:51.794247Z\", \"created_time_dt\": \"2021-07-28T13:08:51.794247Z\", \"duration\": \"0:00:23\", \"iteration\": \"4\", \"goal\": \"spearman_correlation_max\", \"run_name\": \"SparseNormalizer, XGBoostRegressor\", \"run_properties\": \"copy=True, norm='l1'\", \"primary_metric\": 0.96072158, \"best_metric\": 0.9980988}, {\"run_id\": \"AutoML_473ef8aa-79fa-43c8-92f1-df26625d6d49_5\", \"run_number\": 40, \"metric\": null, \"status\": \"Completed\", \"run_type\": null, \"training_percent\": \"100\", \"start_time\": \"2021-07-28T13:09:16.680792Z\", \"end_time\": \"2021-07-28T13:09:42.295175Z\", \"created_time\": \"2021-07-28T13:09:16.563239Z\", \"created_time_dt\": \"2021-07-28T13:09:16.563239Z\", \"duration\": \"0:00:25\", \"iteration\": \"5\", \"goal\": \"spearman_correlation_max\", \"run_name\": \"StandardScalerWrapper, XGBoostRegressor\", \"run_properties\": \"\\n    copy=True,\\n    with_mean=False,\\n    with_std=False\\n\", \"primary_metric\": 0.98813367, \"best_metric\": 0.9980988}, {\"run_id\": \"AutoML_473ef8aa-79fa-43c8-92f1-df26625d6d49_6\", \"run_number\": 41, \"metric\": null, \"status\": \"Completed\", \"run_type\": null, \"training_percent\": \"100\", \"start_time\": \"2021-07-28T13:09:43.496757Z\", \"end_time\": \"2021-07-28T13:10:11.688199Z\", \"created_time\": \"2021-07-28T13:09:43.386126Z\", \"created_time_dt\": \"2021-07-28T13:09:43.386126Z\", \"duration\": \"0:00:28\", \"iteration\": \"6\", \"goal\": \"spearman_correlation_max\", \"run_name\": \"MaxAbsScaler, RandomForest\", \"run_properties\": \"copy=True\", \"primary_metric\": 0.97029384, \"best_metric\": 0.9980988}, {\"run_id\": \"AutoML_473ef8aa-79fa-43c8-92f1-df26625d6d49_7\", \"run_number\": 42, \"metric\": null, \"status\": \"Completed\", \"run_type\": null, \"training_percent\": \"100\", \"start_time\": \"2021-07-28T13:10:13.039912Z\", \"end_time\": \"2021-07-28T13:10:47.909418Z\", \"created_time\": \"2021-07-28T13:10:12.919422Z\", \"created_time_dt\": \"2021-07-28T13:10:12.919422Z\", \"duration\": \"0:00:34\", \"iteration\": \"7\", \"goal\": \"spearman_correlation_max\", \"run_name\": \"MaxAbsScaler, RandomForest\", \"run_properties\": \"copy=True\", \"primary_metric\": 0.98065579, \"best_metric\": 0.9980988}, {\"run_id\": \"AutoML_473ef8aa-79fa-43c8-92f1-df26625d6d49_8\", \"run_number\": 43, \"metric\": null, \"status\": \"Completed\", \"run_type\": null, \"training_percent\": \"100\", \"start_time\": \"2021-07-28T13:10:49.270083Z\", \"end_time\": \"2021-07-28T13:11:10.506274Z\", \"created_time\": \"2021-07-28T13:10:49.163371Z\", \"created_time_dt\": \"2021-07-28T13:10:49.163371Z\", \"duration\": \"0:00:21\", \"iteration\": \"8\", \"goal\": \"spearman_correlation_max\", \"run_name\": \"StandardScalerWrapper, ElasticNet\", \"run_properties\": \"\\n    copy=True,\\n    with_mean=False,\\n    with_std=True\\n\", \"primary_metric\": 0.95462068, \"best_metric\": 0.9980988}, {\"run_id\": \"AutoML_473ef8aa-79fa-43c8-92f1-df26625d6d49_9\", \"run_number\": 44, \"metric\": null, \"status\": \"Completed\", \"run_type\": null, \"training_percent\": \"100\", \"start_time\": \"2021-07-28T13:11:11.676251Z\", \"end_time\": \"2021-07-28T13:11:35.265341Z\", \"created_time\": \"2021-07-28T13:11:11.570917Z\", \"created_time_dt\": \"2021-07-28T13:11:11.570917Z\", \"duration\": \"0:00:23\", \"iteration\": \"9\", \"goal\": \"spearman_correlation_max\", \"run_name\": \"StandardScalerWrapper, DecisionTree\", \"run_properties\": \"\\n    copy=True,\\n    with_mean=False,\\n    with_std=False\\n\", \"primary_metric\": 0.95996448, \"best_metric\": 0.9980988}, {\"run_id\": \"AutoML_473ef8aa-79fa-43c8-92f1-df26625d6d49_10\", \"run_number\": 45, \"metric\": null, \"status\": \"Completed\", \"run_type\": null, \"training_percent\": \"100\", \"start_time\": \"2021-07-28T13:11:36.741146Z\", \"end_time\": \"2021-07-28T13:12:03.297572Z\", \"created_time\": \"2021-07-28T13:11:36.624221Z\", \"created_time_dt\": \"2021-07-28T13:11:36.624221Z\", \"duration\": \"0:00:26\", \"iteration\": \"10\", \"goal\": \"spearman_correlation_max\", \"run_name\": \"StandardScalerWrapper, RandomForest\", \"run_properties\": \"\\n    copy=True,\\n    with_mean=False,\\n    with_std=True\\n\", \"primary_metric\": 0.92082208, \"best_metric\": 0.9980988}, {\"run_id\": \"AutoML_473ef8aa-79fa-43c8-92f1-df26625d6d49_11\", \"run_number\": 46, \"metric\": null, \"status\": \"Completed\", \"run_type\": null, \"training_percent\": \"100\", \"start_time\": \"2021-07-28T13:12:04.71944Z\", \"end_time\": \"2021-07-28T13:12:52.581828Z\", \"created_time\": \"2021-07-28T13:12:04.597235Z\", \"created_time_dt\": \"2021-07-28T13:12:04.597235Z\", \"duration\": \"0:00:47\", \"iteration\": \"11\", \"goal\": \"spearman_correlation_max\", \"run_name\": \"MaxAbsScaler, ExtremeRandomTrees\", \"run_properties\": \"copy=True\", \"primary_metric\": 0.96803763, \"best_metric\": 0.9980988}, {\"run_id\": \"AutoML_473ef8aa-79fa-43c8-92f1-df26625d6d49_12\", \"run_number\": 47, \"metric\": null, \"status\": \"Completed\", \"run_type\": null, \"training_percent\": \"100\", \"start_time\": \"2021-07-28T13:12:53.982528Z\", \"end_time\": \"2021-07-28T13:13:19.40655Z\", \"created_time\": \"2021-07-28T13:12:53.879286Z\", \"created_time_dt\": \"2021-07-28T13:12:53.879286Z\", \"duration\": \"0:00:25\", \"iteration\": \"12\", \"goal\": \"spearman_correlation_max\", \"run_name\": \"MaxAbsScaler, RandomForest\", \"run_properties\": \"copy=True\", \"primary_metric\": 0.91369114, \"best_metric\": 0.9980988}, {\"run_id\": \"AutoML_473ef8aa-79fa-43c8-92f1-df26625d6d49_13\", \"run_number\": 48, \"metric\": null, \"status\": \"Completed\", \"run_type\": null, \"training_percent\": \"100\", \"start_time\": \"2021-07-28T13:13:20.588287Z\", \"end_time\": \"2021-07-28T13:13:43.418137Z\", \"created_time\": \"2021-07-28T13:13:20.471083Z\", \"created_time_dt\": \"2021-07-28T13:13:20.471083Z\", \"duration\": \"0:00:22\", \"iteration\": \"13\", \"goal\": \"spearman_correlation_max\", \"run_name\": \"MaxAbsScaler, ExtremeRandomTrees\", \"run_properties\": \"copy=True\", \"primary_metric\": 0.94891837, \"best_metric\": 0.9980988}, {\"run_id\": \"AutoML_473ef8aa-79fa-43c8-92f1-df26625d6d49_14\", \"run_number\": 49, \"metric\": null, \"status\": \"Completed\", \"run_type\": null, \"training_percent\": \"100\", \"start_time\": \"2021-07-28T13:13:45.939524Z\", \"end_time\": \"2021-07-28T13:14:08.486408Z\", \"created_time\": \"2021-07-28T13:13:45.802168Z\", \"created_time_dt\": \"2021-07-28T13:13:45.802168Z\", \"duration\": \"0:00:22\", \"iteration\": \"14\", \"goal\": \"spearman_correlation_max\", \"run_name\": \"StandardScalerWrapper, XGBoostRegressor\", \"run_properties\": \"\\n    copy=True,\\n    with_mean=False,\\n    with_std=False\\n\", \"primary_metric\": 0.9558244, \"best_metric\": 0.9980988}, {\"run_id\": \"AutoML_473ef8aa-79fa-43c8-92f1-df26625d6d49_15\", \"run_number\": 50, \"metric\": null, \"status\": \"Completed\", \"run_type\": null, \"training_percent\": \"100\", \"start_time\": \"2021-07-28T13:14:10.282401Z\", \"end_time\": \"2021-07-28T13:14:43.828441Z\", \"created_time\": \"2021-07-28T13:14:10.172134Z\", \"created_time_dt\": \"2021-07-28T13:14:10.172134Z\", \"duration\": \"0:00:33\", \"iteration\": \"15\", \"goal\": \"spearman_correlation_max\", \"run_name\": \"StandardScalerWrapper, XGBoostRegressor\", \"run_properties\": \"\\n    copy=True,\\n    with_mean=False,\\n    with_std=False\\n\", \"primary_metric\": 0.99642739, \"best_metric\": 0.9980988}, {\"run_id\": \"AutoML_473ef8aa-79fa-43c8-92f1-df26625d6d49_16\", \"run_number\": 51, \"metric\": null, \"status\": \"Completed\", \"run_type\": null, \"training_percent\": \"100\", \"start_time\": \"2021-07-28T13:14:45.937347Z\", \"end_time\": \"2021-07-28T13:15:23.843222Z\", \"created_time\": \"2021-07-28T13:14:45.817323Z\", \"created_time_dt\": \"2021-07-28T13:14:45.817323Z\", \"duration\": \"0:00:38\", \"iteration\": \"16\", \"goal\": \"spearman_correlation_max\", \"run_name\": \"MaxAbsScaler, GradientBoosting\", \"run_properties\": \"copy=True\", \"primary_metric\": 0.96116727, \"best_metric\": 0.9980988}, {\"run_id\": \"AutoML_473ef8aa-79fa-43c8-92f1-df26625d6d49_17\", \"run_number\": 52, \"metric\": null, \"status\": \"Completed\", \"run_type\": null, \"training_percent\": \"100\", \"start_time\": \"2021-07-28T13:15:25.221111Z\", \"end_time\": \"2021-07-28T13:15:51.007949Z\", \"created_time\": \"2021-07-28T13:15:25.110503Z\", \"created_time_dt\": \"2021-07-28T13:15:25.110503Z\", \"duration\": \"0:00:25\", \"iteration\": \"17\", \"goal\": \"spearman_correlation_max\", \"run_name\": \"MaxAbsScaler, ElasticNet\", \"run_properties\": \"copy=True\", \"primary_metric\": 0.95456752, \"best_metric\": 0.9980988}, {\"run_id\": \"AutoML_473ef8aa-79fa-43c8-92f1-df26625d6d49_18\", \"run_number\": 53, \"metric\": null, \"status\": \"Completed\", \"run_type\": null, \"training_percent\": \"100\", \"start_time\": \"2021-07-28T13:15:52.262855Z\", \"end_time\": \"2021-07-28T13:16:25.73613Z\", \"created_time\": \"2021-07-28T13:15:52.152075Z\", \"created_time_dt\": \"2021-07-28T13:15:52.152075Z\", \"duration\": \"0:00:33\", \"iteration\": \"18\", \"goal\": \"spearman_correlation_max\", \"run_name\": \"StandardScalerWrapper, XGBoostRegressor\", \"run_properties\": \"\\n    copy=True,\\n    with_mean=False,\\n    with_std=False\\n\", \"primary_metric\": 0.99031019, \"best_metric\": 0.9980988}, {\"run_id\": \"AutoML_473ef8aa-79fa-43c8-92f1-df26625d6d49_19\", \"run_number\": 54, \"metric\": null, \"status\": \"Completed\", \"run_type\": null, \"training_percent\": \"100\", \"start_time\": \"2021-07-28T13:16:27.132198Z\", \"end_time\": \"2021-07-28T13:16:56.593019Z\", \"created_time\": \"2021-07-28T13:16:27.025419Z\", \"created_time_dt\": \"2021-07-28T13:16:27.025419Z\", \"duration\": \"0:00:29\", \"iteration\": \"19\", \"goal\": \"spearman_correlation_max\", \"run_name\": \"StandardScalerWrapper, ExtremeRandomTrees\", \"run_properties\": \"\\n    copy=True,\\n    with_mean=False,\\n    with_std=False\\n\", \"primary_metric\": 0.96547103, \"best_metric\": 0.9980988}, {\"run_id\": \"AutoML_473ef8aa-79fa-43c8-92f1-df26625d6d49_20\", \"run_number\": 55, \"metric\": null, \"status\": \"Completed\", \"run_type\": null, \"training_percent\": \"100\", \"start_time\": \"2021-07-28T13:16:57.938134Z\", \"end_time\": \"2021-07-28T13:17:22.214884Z\", \"created_time\": \"2021-07-28T13:16:57.810525Z\", \"created_time_dt\": \"2021-07-28T13:16:57.810525Z\", \"duration\": \"0:00:24\", \"iteration\": \"20\", \"goal\": \"spearman_correlation_max\", \"run_name\": \"MaxAbsScaler, RandomForest\", \"run_properties\": \"copy=True\", \"primary_metric\": 0.95148596, \"best_metric\": 0.9980988}, {\"run_id\": \"AutoML_473ef8aa-79fa-43c8-92f1-df26625d6d49_21\", \"run_number\": 56, \"metric\": null, \"status\": \"Completed\", \"run_type\": null, \"training_percent\": \"100\", \"start_time\": \"2021-07-28T13:17:23.412222Z\", \"end_time\": \"2021-07-28T13:17:45.904627Z\", \"created_time\": \"2021-07-28T13:17:23.312581Z\", \"created_time_dt\": \"2021-07-28T13:17:23.312581Z\", \"duration\": \"0:00:22\", \"iteration\": \"21\", \"goal\": \"spearman_correlation_max\", \"run_name\": \"StandardScalerWrapper, ElasticNet\", \"run_properties\": \"\\n    copy=True,\\n    with_mean=False,\\n    with_std=True\\n\", \"primary_metric\": 0.95456629, \"best_metric\": 0.9980988}, {\"run_id\": \"AutoML_473ef8aa-79fa-43c8-92f1-df26625d6d49_22\", \"run_number\": 57, \"metric\": null, \"status\": \"Completed\", \"run_type\": null, \"training_percent\": \"100\", \"start_time\": \"2021-07-28T13:17:47.106129Z\", \"end_time\": \"2021-07-28T13:19:27.149007Z\", \"created_time\": \"2021-07-28T13:17:46.993246Z\", \"created_time_dt\": \"2021-07-28T13:17:46.993246Z\", \"duration\": \"0:01:40\", \"iteration\": \"22\", \"goal\": \"spearman_correlation_max\", \"run_name\": \"StandardScalerWrapper, GradientBoosting\", \"run_properties\": \"\\n    copy=True,\\n    with_mean=False,\\n    with_std=False\\n\", \"primary_metric\": 0.99206233, \"best_metric\": 0.9980988}, {\"run_id\": \"AutoML_473ef8aa-79fa-43c8-92f1-df26625d6d49_23\", \"run_number\": 58, \"metric\": null, \"status\": \"Completed\", \"run_type\": null, \"training_percent\": \"100\", \"start_time\": \"2021-07-28T13:19:28.696881Z\", \"end_time\": \"2021-07-28T13:19:54.563521Z\", \"created_time\": \"2021-07-28T13:19:28.591383Z\", \"created_time_dt\": \"2021-07-28T13:19:28.591383Z\", \"duration\": \"0:00:25\", \"iteration\": \"23\", \"goal\": \"spearman_correlation_max\", \"run_name\": \"StandardScalerWrapper, GradientBoosting\", \"run_properties\": \"\\n    copy=True,\\n    with_mean=False,\\n    with_std=True\\n\", \"primary_metric\": 0.96419969, \"best_metric\": 0.9980988}, {\"run_id\": \"AutoML_473ef8aa-79fa-43c8-92f1-df26625d6d49_24\", \"run_number\": 59, \"metric\": null, \"status\": \"Completed\", \"run_type\": null, \"training_percent\": \"100\", \"start_time\": \"2021-07-28T13:19:55.662664Z\", \"end_time\": \"2021-07-28T13:20:25.049076Z\", \"created_time\": \"2021-07-28T13:19:55.547823Z\", \"created_time_dt\": \"2021-07-28T13:19:55.547823Z\", \"duration\": \"0:00:29\", \"iteration\": \"24\", \"goal\": \"spearman_correlation_max\", \"run_name\": \"StandardScalerWrapper, XGBoostRegressor\", \"run_properties\": \"\\n    copy=True,\\n    with_mean=False,\\n    with_std=False\\n\", \"primary_metric\": 0.98995191, \"best_metric\": 0.9980988}, {\"run_id\": \"AutoML_473ef8aa-79fa-43c8-92f1-df26625d6d49_25\", \"run_number\": 60, \"metric\": null, \"status\": \"Completed\", \"run_type\": null, \"training_percent\": \"100\", \"start_time\": \"2021-07-28T13:20:27.185815Z\", \"end_time\": \"2021-07-28T13:20:51.778058Z\", \"created_time\": \"2021-07-28T13:20:27.061782Z\", \"created_time_dt\": \"2021-07-28T13:20:27.061782Z\", \"duration\": \"0:00:24\", \"iteration\": \"25\", \"goal\": \"spearman_correlation_max\", \"run_name\": \"SparseNormalizer, LightGBM\", \"run_properties\": \"copy=True, norm='l2'\", \"primary_metric\": 0.8455806, \"best_metric\": 0.9980988}, {\"run_id\": \"AutoML_473ef8aa-79fa-43c8-92f1-df26625d6d49_26\", \"run_number\": 61, \"metric\": null, \"status\": \"Completed\", \"run_type\": null, \"training_percent\": \"100\", \"start_time\": \"2021-07-28T13:20:52.197956Z\", \"end_time\": \"2021-07-28T13:21:21.873078Z\", \"created_time\": \"2021-07-28T13:20:51.973553Z\", \"created_time_dt\": \"2021-07-28T13:20:51.973553Z\", \"duration\": \"0:00:29\", \"iteration\": \"26\", \"goal\": \"spearman_correlation_max\", \"run_name\": \"VotingEnsemble\", \"run_properties\": \"\\n    estimators=[('0', Pipeline(memory=None,\\n             steps=[('maxabsscaler', MaxAbsScaler(copy=True\", \"primary_metric\": 0.99766777, \"best_metric\": 0.9980988}, {\"run_id\": \"AutoML_473ef8aa-79fa-43c8-92f1-df26625d6d49_27\", \"run_number\": 62, \"metric\": null, \"status\": \"Completed\", \"run_type\": null, \"training_percent\": \"100\", \"start_time\": \"2021-07-28T13:21:22.298739Z\", \"end_time\": \"2021-07-28T13:21:51.732458Z\", \"created_time\": \"2021-07-28T13:21:22.155323Z\", \"created_time_dt\": \"2021-07-28T13:21:22.155323Z\", \"duration\": \"0:00:29\", \"iteration\": \"27\", \"goal\": \"spearman_correlation_max\", \"run_name\": \"StackEnsemble\", \"run_properties\": \"\\n    base_learners=[('0', Pipeline(memory=None,\\n             steps=[('maxabsscaler', MaxAbsScaler(copy=True\", \"primary_metric\": 0.99824874, \"best_metric\": 0.99824874}], \"children_metrics\": {\"categories\": [0], \"series\": {\"mean_absolute_percentage_error\": [{\"categories\": [\"0\", \"1\", \"2\", \"3\", \"4\", \"5\", \"6\", \"7\", \"8\", \"9\", \"10\", \"11\", \"12\", \"13\", \"14\", \"15\", \"16\", \"17\", \"18\", \"19\", \"20\", \"21\", \"22\", \"23\", \"24\", \"25\", \"26\", \"27\"], \"mode\": \"markers\", \"name\": \"mean_absolute_percentage_error\", \"stepped\": false, \"type\": \"scatter\", \"data\": [5.20092445191923, 14.194304874948733, 97.99243600733465, 98.45983566298376, 33.26112167830128, 10.917505399453313, 16.448543421491024, 11.3467280987851, 27.268893281692385, 14.96140608085604, 107.80829600000284, 14.50433359483128, 112.68287463045081, 54.505570295307734, 27.235195293544173, 7.707497087107733, 29.23890744948079, 26.07369548412485, 12.882755917497764, 34.45209943833454, 41.32944305136185, 28.74635623800983, 7.010122735175048, 22.00684263605061, 9.112512473269438, 63.302036894498045, 5.320022133846884, 5.698304640075865]}, {\"categories\": [\"0\", \"1\", \"2\", \"3\", \"4\", \"5\", \"6\", \"7\", \"8\", \"9\", \"10\", \"11\", \"12\", \"13\", \"14\", \"15\", \"16\", \"17\", \"18\", \"19\", \"20\", \"21\", \"22\", \"23\", \"24\", \"25\", \"26\", \"27\"], \"mode\": \"lines\", \"name\": \"mean_absolute_percentage_error_min\", \"stepped\": true, \"type\": \"scatter\", \"data\": [5.20092445191923, 5.20092445191923, 5.20092445191923, 5.20092445191923, 5.20092445191923, 5.20092445191923, 5.20092445191923, 5.20092445191923, 5.20092445191923, 5.20092445191923, 5.20092445191923, 5.20092445191923, 5.20092445191923, 5.20092445191923, 5.20092445191923, 5.20092445191923, 5.20092445191923, 5.20092445191923, 5.20092445191923, 5.20092445191923, 5.20092445191923, 5.20092445191923, 5.20092445191923, 5.20092445191923, 5.20092445191923, 5.20092445191923, 5.20092445191923, 5.20092445191923]}], \"median_absolute_error\": [{\"categories\": [\"0\", \"1\", \"2\", \"3\", \"4\", \"5\", \"6\", \"7\", \"8\", \"9\", \"10\", \"11\", \"12\", \"13\", \"14\", \"15\", \"16\", \"17\", \"18\", \"19\", \"20\", \"21\", \"22\", \"23\", \"24\", \"25\", \"26\", \"27\"], \"mode\": \"markers\", \"name\": \"median_absolute_error\", \"stepped\": false, \"type\": \"scatter\", \"data\": [1.8696650748870582, 5.229776979915428, 18.130690067131045, 17.739772367282345, 10.575584849004247, 5.7017884494228515, 8.02075797615047, 6.003728741798202, 10.452508285330564, 8.997658077808811, 19.443086032527784, 8.9341307526845, 20.8697282816065, 14.279299183091236, 9.241925197592188, 2.537785459442503, 9.62608051388345, 10.313051690295673, 5.725356653029299, 10.58581965462223, 11.829236120063603, 10.795774218521425, 2.261311868663765, 7.592756363732752, 4.324538232720707, 20.172145053874317, 2.089422726015252, 1.7964102229891743]}, {\"categories\": [\"0\", \"1\", \"2\", \"3\", \"4\", \"5\", \"6\", \"7\", \"8\", \"9\", \"10\", \"11\", \"12\", \"13\", \"14\", \"15\", \"16\", \"17\", \"18\", \"19\", \"20\", \"21\", \"22\", \"23\", \"24\", \"25\", \"26\", \"27\"], \"mode\": \"lines\", \"name\": \"median_absolute_error_min\", \"stepped\": true, \"type\": \"scatter\", \"data\": [1.8696650748870582, 1.8696650748870582, 1.8696650748870582, 1.8696650748870582, 1.8696650748870582, 1.8696650748870582, 1.8696650748870582, 1.8696650748870582, 1.8696650748870582, 1.8696650748870582, 1.8696650748870582, 1.8696650748870582, 1.8696650748870582, 1.8696650748870582, 1.8696650748870582, 1.8696650748870582, 1.8696650748870582, 1.8696650748870582, 1.8696650748870582, 1.8696650748870582, 1.8696650748870582, 1.8696650748870582, 1.8696650748870582, 1.8696650748870582, 1.8696650748870582, 1.8696650748870582, 1.8696650748870582, 1.7964102229891743]}], \"explained_variance\": [{\"categories\": [\"0\", \"1\", \"2\", \"3\", \"4\", \"5\", \"6\", \"7\", \"8\", \"9\", \"10\", \"11\", \"12\", \"13\", \"14\", \"15\", \"16\", \"17\", \"18\", \"19\", \"20\", \"21\", \"22\", \"23\", \"24\", \"25\", \"26\", \"27\"], \"mode\": \"markers\", \"name\": \"explained_variance\", \"stepped\": false, \"type\": \"scatter\", \"data\": [0.9940387500727261, 0.9569177020715909, 0.7570555008872704, 0.7598114400750888, 0.8840929843774166, 0.9562348522842313, 0.9251923581908971, 0.9541929958729591, 0.8761522229920946, 0.9016641493641139, 0.7166020164072139, 0.9168672053590055, 0.692838086518712, 0.8382673947335795, 0.873303016374852, 0.9899425988156043, 0.8920865462409179, 0.8764186190303981, 0.9602890230535245, 0.9013118299582512, 0.8697234045797924, 0.8753897888870809, 0.9672612552052859, 0.8990156790341194, 0.9725568690288409, 0.6892858156230731, 0.9921140048542636, 0.9945619487968813]}, {\"categories\": [\"0\", \"1\", \"2\", \"3\", \"4\", \"5\", \"6\", \"7\", \"8\", \"9\", \"10\", \"11\", \"12\", \"13\", \"14\", \"15\", \"16\", \"17\", \"18\", \"19\", \"20\", \"21\", \"22\", \"23\", \"24\", \"25\", \"26\", \"27\"], \"mode\": \"lines\", \"name\": \"explained_variance_max\", \"stepped\": true, \"type\": \"scatter\", \"data\": [0.9940387500727261, 0.9940387500727261, 0.9940387500727261, 0.9940387500727261, 0.9940387500727261, 0.9940387500727261, 0.9940387500727261, 0.9940387500727261, 0.9940387500727261, 0.9940387500727261, 0.9940387500727261, 0.9940387500727261, 0.9940387500727261, 0.9940387500727261, 0.9940387500727261, 0.9940387500727261, 0.9940387500727261, 0.9940387500727261, 0.9940387500727261, 0.9940387500727261, 0.9940387500727261, 0.9940387500727261, 0.9940387500727261, 0.9940387500727261, 0.9940387500727261, 0.9940387500727261, 0.9940387500727261, 0.9945619487968813]}], \"spearman_correlation\": [{\"categories\": [\"0\", \"1\", \"2\", \"3\", \"4\", \"5\", \"6\", \"7\", \"8\", \"9\", \"10\", \"11\", \"12\", \"13\", \"14\", \"15\", \"16\", \"17\", \"18\", \"19\", \"20\", \"21\", \"22\", \"23\", \"24\", \"25\", \"26\", \"27\"], \"mode\": \"markers\", \"name\": \"spearman_correlation\", \"stepped\": false, \"type\": \"scatter\", \"data\": [0.99809880335088, 0.9847785711269929, 0.9386037560202549, 0.9456717524194532, 0.9607215797649298, 0.9881336651929769, 0.9702938362764504, 0.9806557900419517, 0.954620679560397, 0.95996447734541, 0.9208220825347422, 0.9680376304649814, 0.9136911431207281, 0.9489183716406696, 0.9558244033760277, 0.9964273897743876, 0.9611672712970408, 0.9545675196475383, 0.9903101872104226, 0.9654710332271315, 0.9514859565300776, 0.9545662893466075, 0.9920623304900558, 0.9641996857930577, 0.9899519126656321, 0.8455806013766004, 0.9976677732505401, 0.9982487413263781]}, {\"categories\": [\"0\", \"1\", \"2\", \"3\", \"4\", \"5\", \"6\", \"7\", \"8\", \"9\", \"10\", \"11\", \"12\", \"13\", \"14\", \"15\", \"16\", \"17\", \"18\", \"19\", \"20\", \"21\", \"22\", \"23\", \"24\", \"25\", \"26\", \"27\"], \"mode\": \"lines\", \"name\": \"spearman_correlation_max\", \"stepped\": true, \"type\": \"scatter\", \"data\": [0.99809880335088, 0.99809880335088, 0.99809880335088, 0.99809880335088, 0.99809880335088, 0.99809880335088, 0.99809880335088, 0.99809880335088, 0.99809880335088, 0.99809880335088, 0.99809880335088, 0.99809880335088, 0.99809880335088, 0.99809880335088, 0.99809880335088, 0.99809880335088, 0.99809880335088, 0.99809880335088, 0.99809880335088, 0.99809880335088, 0.99809880335088, 0.99809880335088, 0.99809880335088, 0.99809880335088, 0.99809880335088, 0.99809880335088, 0.99809880335088, 0.9982487413263781]}], \"root_mean_squared_log_error\": [{\"categories\": [\"0\", \"1\", \"2\", \"3\", \"4\", \"5\", \"6\", \"7\", \"8\", \"9\", \"10\", \"11\", \"12\", \"13\", \"14\", \"15\", \"16\", \"17\", \"18\", \"19\", \"20\", \"21\", \"22\", \"23\", \"24\", \"25\", \"26\", \"27\"], \"mode\": \"markers\", \"name\": \"root_mean_squared_log_error\", \"stepped\": false, \"type\": \"scatter\", \"data\": [NaN, NaN, 0.6315729266201273, 0.6321491953246412, NaN, 0.1429616859659851, 0.1893812068290409, 0.1387813281742298, NaN, 0.176050501069638, 0.6628797438688208, 0.16455478796867334, 0.6793998047078358, 0.4486706086059994, 0.2965843877107671, NaN, NaN, NaN, 0.16178680945284266, 0.3417327007512537, 0.3825799384150802, NaN, 0.1116053636838077, 0.25391256760334036, 0.11658298755026911, NaN, NaN, NaN]}, {\"categories\": [\"0\", \"1\", \"2\", \"3\", \"4\", \"5\", \"6\", \"7\", \"8\", \"9\", \"10\", \"11\", \"12\", \"13\", \"14\", \"15\", \"16\", \"17\", \"18\", \"19\", \"20\", \"21\", \"22\", \"23\", \"24\", \"25\", \"26\", \"27\"], \"mode\": \"lines\", \"name\": \"root_mean_squared_log_error_min\", \"stepped\": true, \"type\": \"scatter\", \"data\": [NaN, NaN, 0.6315729266201273, 0.6315729266201273, 0.6315729266201273, 0.1429616859659851, 0.1429616859659851, 0.1387813281742298, 0.1387813281742298, 0.1387813281742298, 0.1387813281742298, 0.1387813281742298, 0.1387813281742298, 0.1387813281742298, 0.1387813281742298, 0.1387813281742298, 0.1387813281742298, 0.1387813281742298, 0.1387813281742298, 0.1387813281742298, 0.1387813281742298, 0.1387813281742298, 0.1116053636838077, 0.1116053636838077, 0.1116053636838077, 0.1116053636838077, 0.1116053636838077, 0.1116053636838077]}], \"normalized_mean_absolute_error\": [{\"categories\": [\"0\", \"1\", \"2\", \"3\", \"4\", \"5\", \"6\", \"7\", \"8\", \"9\", \"10\", \"11\", \"12\", \"13\", \"14\", \"15\", \"16\", \"17\", \"18\", \"19\", \"20\", \"21\", \"22\", \"23\", \"24\", \"25\", \"26\", \"27\"], \"mode\": \"markers\", \"name\": \"normalized_mean_absolute_error\", \"stepped\": false, \"type\": \"scatter\", \"data\": [0.010908535608821168, 0.03073117399402045, 0.08295136468006094, 0.08227490397002687, 0.05352903332748883, 0.03578335234980152, 0.042698958439580714, 0.03258451982881433, 0.05538066632010554, 0.04831017305970319, 0.08956453389338229, 0.04540063368083498, 0.09401220144162883, 0.06611177459569621, 0.05483598510441808, 0.014694869399501622, 0.05081809883897476, 0.05524203498600501, 0.03531814030443851, 0.050713438232185284, 0.05812715749908624, 0.055709802518439475, 0.021143730048323036, 0.04634419288078168, 0.025003353762828927, 0.09317297735718354, 0.012458950561471664, 0.010450157616959315]}, {\"categories\": [\"0\", \"1\", \"2\", \"3\", \"4\", \"5\", \"6\", \"7\", \"8\", \"9\", \"10\", \"11\", \"12\", \"13\", \"14\", \"15\", \"16\", \"17\", \"18\", \"19\", \"20\", \"21\", \"22\", \"23\", \"24\", \"25\", \"26\", \"27\"], \"mode\": \"lines\", \"name\": \"normalized_mean_absolute_error_min\", \"stepped\": true, \"type\": \"scatter\", \"data\": [0.010908535608821168, 0.010908535608821168, 0.010908535608821168, 0.010908535608821168, 0.010908535608821168, 0.010908535608821168, 0.010908535608821168, 0.010908535608821168, 0.010908535608821168, 0.010908535608821168, 0.010908535608821168, 0.010908535608821168, 0.010908535608821168, 0.010908535608821168, 0.010908535608821168, 0.010908535608821168, 0.010908535608821168, 0.010908535608821168, 0.010908535608821168, 0.010908535608821168, 0.010908535608821168, 0.010908535608821168, 0.010908535608821168, 0.010908535608821168, 0.010908535608821168, 0.010908535608821168, 0.010908535608821168, 0.010450157616959315]}], \"mean_absolute_error\": [{\"categories\": [\"0\", \"1\", \"2\", \"3\", \"4\", \"5\", \"6\", \"7\", \"8\", \"9\", \"10\", \"11\", \"12\", \"13\", \"14\", \"15\", \"16\", \"17\", \"18\", \"19\", \"20\", \"21\", \"22\", \"23\", \"24\", \"25\", \"26\", \"27\"], \"mode\": \"markers\", \"name\": \"mean_absolute_error\", \"stepped\": false, \"type\": \"scatter\", \"data\": [2.879364958840252, 8.111653911717633, 21.895446035359964, 21.71689069719622, 14.129267976090825, 9.445202780704566, 11.270613134405043, 8.60085422646957, 14.618016177202412, 12.75172254570381, 23.64102659562514, 11.983734427564064, 24.81501167907081, 17.450548264577204, 14.474244724971857, 3.878787542247507, 13.413702656248367, 14.581423712372986, 9.322407631118637, 13.38607694235173, 15.34296687123746, 14.704893396120994, 5.580997998584534, 12.232791807430976, 6.5997658402433546, 24.593494097974723, 3.288605084775564, 2.7583736933762326]}, {\"categories\": [\"0\", \"1\", \"2\", \"3\", \"4\", \"5\", \"6\", \"7\", \"8\", \"9\", \"10\", \"11\", \"12\", \"13\", \"14\", \"15\", \"16\", \"17\", \"18\", \"19\", \"20\", \"21\", \"22\", \"23\", \"24\", \"25\", \"26\", \"27\"], \"mode\": \"lines\", \"name\": \"mean_absolute_error_min\", \"stepped\": true, \"type\": \"scatter\", \"data\": [2.879364958840252, 2.879364958840252, 2.879364958840252, 2.879364958840252, 2.879364958840252, 2.879364958840252, 2.879364958840252, 2.879364958840252, 2.879364958840252, 2.879364958840252, 2.879364958840252, 2.879364958840252, 2.879364958840252, 2.879364958840252, 2.879364958840252, 2.879364958840252, 2.879364958840252, 2.879364958840252, 2.879364958840252, 2.879364958840252, 2.879364958840252, 2.879364958840252, 2.879364958840252, 2.879364958840252, 2.879364958840252, 2.879364958840252, 2.879364958840252, 2.7583736933762326]}], \"r2_score\": [{\"categories\": [\"0\", \"1\", \"2\", \"3\", \"4\", \"5\", \"6\", \"7\", \"8\", \"9\", \"10\", \"11\", \"12\", \"13\", \"14\", \"15\", \"16\", \"17\", \"18\", \"19\", \"20\", \"21\", \"22\", \"23\", \"24\", \"25\", \"26\", \"27\"], \"mode\": \"markers\", \"name\": \"r2_score\", \"stepped\": false, \"type\": \"scatter\", \"data\": [0.9940336903693925, 0.9568307470023244, 0.7566312972851724, 0.7594115131581725, 0.8838186673963484, 0.9372553487852194, 0.9249584460716826, 0.9540798471921434, 0.8758868492694616, 0.9013952996925576, 0.716221213545426, 0.916649649299224, 0.6923378392095726, 0.8380252800968112, 0.8593469757580134, 0.9899278704420688, 0.8911569625866358, 0.8761519191452265, 0.9424752268743237, 0.9010445965058389, 0.8693895550580555, 0.8751290220192892, 0.9656228324191231, 0.8949458128817603, 0.9724122808947078, 0.688651772267125, 0.9919577996014702, 0.9945546867969254]}, {\"categories\": [\"0\", \"1\", \"2\", \"3\", \"4\", \"5\", \"6\", \"7\", \"8\", \"9\", \"10\", \"11\", \"12\", \"13\", \"14\", \"15\", \"16\", \"17\", \"18\", \"19\", \"20\", \"21\", \"22\", \"23\", \"24\", \"25\", \"26\", \"27\"], \"mode\": \"lines\", \"name\": \"r2_score_max\", \"stepped\": true, \"type\": \"scatter\", \"data\": [0.9940336903693925, 0.9940336903693925, 0.9940336903693925, 0.9940336903693925, 0.9940336903693925, 0.9940336903693925, 0.9940336903693925, 0.9940336903693925, 0.9940336903693925, 0.9940336903693925, 0.9940336903693925, 0.9940336903693925, 0.9940336903693925, 0.9940336903693925, 0.9940336903693925, 0.9940336903693925, 0.9940336903693925, 0.9940336903693925, 0.9940336903693925, 0.9940336903693925, 0.9940336903693925, 0.9940336903693925, 0.9940336903693925, 0.9940336903693925, 0.9940336903693925, 0.9940336903693925, 0.9940336903693925, 0.9945546867969254]}], \"normalized_root_mean_squared_error\": [{\"categories\": [\"0\", \"1\", \"2\", \"3\", \"4\", \"5\", \"6\", \"7\", \"8\", \"9\", \"10\", \"11\", \"12\", \"13\", \"14\", \"15\", \"16\", \"17\", \"18\", \"19\", \"20\", \"21\", \"22\", \"23\", \"24\", \"25\", \"26\", \"27\"], \"mode\": \"markers\", \"name\": \"normalized_root_mean_squared_error\", \"stepped\": false, \"type\": \"scatter\", \"data\": [0.016566464689118682, 0.04465748265721362, 0.10601731373179649, 0.10546044955379175, 0.07327494811258457, 0.053847609092519635, 0.058881691757010746, 0.0460488843529544, 0.07574556321707585, 0.06750963989231624, 0.11448071680903919, 0.06205612273159854, 0.11924041085748524, 0.08631455177996206, 0.08061851659049177, 0.021553994318799778, 0.07092943181290823, 0.07566384761991028, 0.05155692888840874, 0.06759848999992493, 0.07769600707923541, 0.07597648910809288, 0.039798121349721785, 0.06966691950923229, 0.035673540210796495, 0.1199285277047564, 0.019251490443536228, 0.015838068344623178]}, {\"categories\": [\"0\", \"1\", \"2\", \"3\", \"4\", \"5\", \"6\", \"7\", \"8\", \"9\", \"10\", \"11\", \"12\", \"13\", \"14\", \"15\", \"16\", \"17\", \"18\", \"19\", \"20\", \"21\", \"22\", \"23\", \"24\", \"25\", \"26\", \"27\"], \"mode\": \"lines\", \"name\": \"normalized_root_mean_squared_error_min\", \"stepped\": true, \"type\": \"scatter\", \"data\": [0.016566464689118682, 0.016566464689118682, 0.016566464689118682, 0.016566464689118682, 0.016566464689118682, 0.016566464689118682, 0.016566464689118682, 0.016566464689118682, 0.016566464689118682, 0.016566464689118682, 0.016566464689118682, 0.016566464689118682, 0.016566464689118682, 0.016566464689118682, 0.016566464689118682, 0.016566464689118682, 0.016566464689118682, 0.016566464689118682, 0.016566464689118682, 0.016566464689118682, 0.016566464689118682, 0.016566464689118682, 0.016566464689118682, 0.016566464689118682, 0.016566464689118682, 0.016566464689118682, 0.016566464689118682, 0.015838068344623178]}], \"root_mean_squared_error\": [{\"categories\": [\"0\", \"1\", \"2\", \"3\", \"4\", \"5\", \"6\", \"7\", \"8\", \"9\", \"10\", \"11\", \"12\", \"13\", \"14\", \"15\", \"16\", \"17\", \"18\", \"19\", \"20\", \"21\", \"22\", \"23\", \"24\", \"25\", \"26\", \"27\"], \"mode\": \"markers\", \"name\": \"root_mean_squared_error\", \"stepped\": false, \"type\": \"scatter\", \"data\": [4.372804895933003, 11.787575832746697, 27.98382378133856, 27.836836572562003, 19.34130533392592, 14.213357713472593, 15.5421301302138, 12.154843578854358, 19.99343709695569, 17.81952211190202, 30.217783235387305, 16.380037768805906, 31.47412934354994, 22.783176839268055, 21.279678595597364, 5.689289395948597, 18.722194053928316, 19.97186783821129, 13.60872070735672, 17.842974561947724, 20.508266943259343, 20.05439119221901, 10.504922030909018, 18.388947336159017, 9.416217292968645, 31.655761380027684, 5.081531470066536, 4.18054087574759]}, {\"categories\": [\"0\", \"1\", \"2\", \"3\", \"4\", \"5\", \"6\", \"7\", \"8\", \"9\", \"10\", \"11\", \"12\", \"13\", \"14\", \"15\", \"16\", \"17\", \"18\", \"19\", \"20\", \"21\", \"22\", \"23\", \"24\", \"25\", \"26\", \"27\"], \"mode\": \"lines\", \"name\": \"root_mean_squared_error_min\", \"stepped\": true, \"type\": \"scatter\", \"data\": [4.372804895933003, 4.372804895933003, 4.372804895933003, 4.372804895933003, 4.372804895933003, 4.372804895933003, 4.372804895933003, 4.372804895933003, 4.372804895933003, 4.372804895933003, 4.372804895933003, 4.372804895933003, 4.372804895933003, 4.372804895933003, 4.372804895933003, 4.372804895933003, 4.372804895933003, 4.372804895933003, 4.372804895933003, 4.372804895933003, 4.372804895933003, 4.372804895933003, 4.372804895933003, 4.372804895933003, 4.372804895933003, 4.372804895933003, 4.372804895933003, 4.18054087574759]}], \"normalized_median_absolute_error\": [{\"categories\": [\"0\", \"1\", \"2\", \"3\", \"4\", \"5\", \"6\", \"7\", \"8\", \"9\", \"10\", \"11\", \"12\", \"13\", \"14\", \"15\", \"16\", \"17\", \"18\", \"19\", \"20\", \"21\", \"22\", \"23\", \"24\", \"25\", \"26\", \"27\"], \"mode\": \"markers\", \"name\": \"normalized_median_absolute_error\", \"stepped\": false, \"type\": \"scatter\", \"data\": [0.007083266045645556, 0.01981312172201293, 0.06868850633282021, 0.06720750628250509, 0.04006582894442763, 0.02160134724968888, 0.03038681280188075, 0.022745254492500165, 0.03959955075578618, 0.034087819689695785, 0.07366054646182488, 0.03384714506242281, 0.07906541107523327, 0.05409742975774116, 0.03501323088706425, 0.00961445438407623, 0.03646861150292375, 0.03907121646868845, 0.021690635892133298, 0.04010460372398114, 0.04481531354498453, 0.04090002107095455, 0.008567028283869998, 0.028765319557213325, 0.01638360540524993, 0.07642260212652055, 0.007915822597840438, 0.006805738475549388]}, {\"categories\": [\"0\", \"1\", \"2\", \"3\", \"4\", \"5\", \"6\", \"7\", \"8\", \"9\", \"10\", \"11\", \"12\", \"13\", \"14\", \"15\", \"16\", \"17\", \"18\", \"19\", \"20\", \"21\", \"22\", \"23\", \"24\", \"25\", \"26\", \"27\"], \"mode\": \"lines\", \"name\": \"normalized_median_absolute_error_min\", \"stepped\": true, \"type\": \"scatter\", \"data\": [0.007083266045645556, 0.007083266045645556, 0.007083266045645556, 0.007083266045645556, 0.007083266045645556, 0.007083266045645556, 0.007083266045645556, 0.007083266045645556, 0.007083266045645556, 0.007083266045645556, 0.007083266045645556, 0.007083266045645556, 0.007083266045645556, 0.007083266045645556, 0.007083266045645556, 0.007083266045645556, 0.007083266045645556, 0.007083266045645556, 0.007083266045645556, 0.007083266045645556, 0.007083266045645556, 0.007083266045645556, 0.007083266045645556, 0.007083266045645556, 0.007083266045645556, 0.007083266045645556, 0.007083266045645556, 0.006805738475549388]}], \"normalized_root_mean_squared_log_error\": [{\"categories\": [\"0\", \"1\", \"2\", \"3\", \"4\", \"5\", \"6\", \"7\", \"8\", \"9\", \"10\", \"11\", \"12\", \"13\", \"14\", \"15\", \"16\", \"17\", \"18\", \"19\", \"20\", \"21\", \"22\", \"23\", \"24\", \"25\", \"26\", \"27\"], \"mode\": \"markers\", \"name\": \"normalized_root_mean_squared_log_error\", \"stepped\": false, \"type\": \"scatter\", \"data\": [NaN, NaN, 0.12973417041555996, 0.12985254430266852, NaN, 0.029366388184594194, 0.038901625963838796, 0.02850768251927077, NaN, 0.0361633071096643, 0.13616504132993923, 0.033801922161658185, 0.1395584996271998, 0.09216340147581102, 0.06092270247202354, NaN, NaN, NaN, 0.033233339530352055, 0.07019681586588741, 0.07858742646479788, NaN, 0.022925348223728357, 0.05215729637492407, 0.02394782381718341, NaN, NaN, NaN]}, {\"categories\": [\"0\", \"1\", \"2\", \"3\", \"4\", \"5\", \"6\", \"7\", \"8\", \"9\", \"10\", \"11\", \"12\", \"13\", \"14\", \"15\", \"16\", \"17\", \"18\", \"19\", \"20\", \"21\", \"22\", \"23\", \"24\", \"25\", \"26\", \"27\"], \"mode\": \"lines\", \"name\": \"normalized_root_mean_squared_log_error_min\", \"stepped\": true, \"type\": \"scatter\", \"data\": [NaN, NaN, 0.12973417041555996, 0.12973417041555996, 0.12973417041555996, 0.029366388184594194, 0.029366388184594194, 0.02850768251927077, 0.02850768251927077, 0.02850768251927077, 0.02850768251927077, 0.02850768251927077, 0.02850768251927077, 0.02850768251927077, 0.02850768251927077, 0.02850768251927077, 0.02850768251927077, 0.02850768251927077, 0.02850768251927077, 0.02850768251927077, 0.02850768251927077, 0.02850768251927077, 0.022925348223728357, 0.022925348223728357, 0.022925348223728357, 0.022925348223728357, 0.022925348223728357, 0.022925348223728357]}]}, \"metricName\": null, \"primaryMetricName\": \"spearman_correlation\", \"showLegend\": false}, \"run_metrics\": [{\"name\": \"root_mean_squared_error\", \"run_id\": \"AutoML_473ef8aa-79fa-43c8-92f1-df26625d6d49\", \"categories\": [0], \"series\": [{\"data\": [4.18054087574759]}]}, {\"name\": \"root_mean_squared_log_error\", \"run_id\": \"AutoML_473ef8aa-79fa-43c8-92f1-df26625d6d49\", \"categories\": [0], \"series\": [{\"data\": [NaN]}]}, {\"name\": \"spearman_correlation\", \"run_id\": \"AutoML_473ef8aa-79fa-43c8-92f1-df26625d6d49\", \"categories\": [0], \"series\": [{\"data\": [0.9982487413263781]}]}, {\"name\": \"mean_absolute_percentage_error\", \"run_id\": \"AutoML_473ef8aa-79fa-43c8-92f1-df26625d6d49\", \"categories\": [0], \"series\": [{\"data\": [5.698304640075865]}]}, {\"name\": \"r2_score\", \"run_id\": \"AutoML_473ef8aa-79fa-43c8-92f1-df26625d6d49\", \"categories\": [0], \"series\": [{\"data\": [0.9945546867969254]}]}, {\"name\": \"normalized_root_mean_squared_log_error\", \"run_id\": \"AutoML_473ef8aa-79fa-43c8-92f1-df26625d6d49\", \"categories\": [0], \"series\": [{\"data\": [NaN]}]}, {\"name\": \"explained_variance\", \"run_id\": \"AutoML_473ef8aa-79fa-43c8-92f1-df26625d6d49\", \"categories\": [0], \"series\": [{\"data\": [0.9945619487968813]}]}, {\"name\": \"mean_absolute_error\", \"run_id\": \"AutoML_473ef8aa-79fa-43c8-92f1-df26625d6d49\", \"categories\": [0], \"series\": [{\"data\": [2.7583736933762326]}]}, {\"name\": \"normalized_mean_absolute_error\", \"run_id\": \"AutoML_473ef8aa-79fa-43c8-92f1-df26625d6d49\", \"categories\": [0], \"series\": [{\"data\": [0.010450157616959315]}]}, {\"name\": \"median_absolute_error\", \"run_id\": \"AutoML_473ef8aa-79fa-43c8-92f1-df26625d6d49\", \"categories\": [0], \"series\": [{\"data\": [1.7964102229891743]}]}, {\"name\": \"normalized_root_mean_squared_error\", \"run_id\": \"AutoML_473ef8aa-79fa-43c8-92f1-df26625d6d49\", \"categories\": [0], \"series\": [{\"data\": [0.015838068344623178]}]}, {\"name\": \"normalized_median_absolute_error\", \"run_id\": \"AutoML_473ef8aa-79fa-43c8-92f1-df26625d6d49\", \"categories\": [0], \"series\": [{\"data\": [0.006805738475549388]}]}], \"run_logs\": \"\\nRun is completed.\", \"graph\": {}, \"widget_settings\": {\"childWidgetDisplay\": \"popup\", \"send_telemetry\": false, \"log_level\": \"INFO\", \"sdk_version\": \"1.31.0\"}, \"loading\": false}"
     },
     "metadata": {},
     "output_type": "display_data"
    }
   ],
   "source": [
    "from azureml.widgets import RunDetails\n",
    "RunDetails(local_run).show()"
   ]
  },
  {
   "cell_type": "code",
   "execution_count": 25,
   "metadata": {
    "collapsed": true,
    "gather": {
     "logged": 1627479265799
    },
    "jupyter": {
     "outputs_hidden": false,
     "source_hidden": false
    },
    "nteract": {
     "transient": {
      "deleting": false
     }
    }
   },
   "outputs": [
    {
     "name": "stdout",
     "output_type": "stream",
     "text": [
      "Run(Experiment: CodeChallenge,\n",
      "Id: AutoML_473ef8aa-79fa-43c8-92f1-df26625d6d49_27,\n",
      "Type: None,\n",
      "Status: Completed)\n",
      "RegressionPipeline(pipeline=Pipeline(memory=None,\n",
      "                                     steps=[('datatransformer',\n",
      "                                             DataTransformer(enable_dnn=False, enable_feature_sweeping=True, feature_sweeping_config={}, feature_sweeping_timeout=86400, featurization_config=None, force_text_dnn=False, is_cross_validation=True, is_onnx_compatible=False, observer=None, task='regression', working_dir='/mnt/batch/ta...\n",
      "), random_state=0, reg_alpha=1.875, reg_lambda=2.5, subsample=1, tree_method='auto'))], verbose=False))], meta_learner=ElasticNetCV(alphas=None, copy_X=True, cv=None, eps=0.001, fit_intercept=True, l1_ratio=0.5, max_iter=1000, n_alphas=100, n_jobs=None, normalize=False, positive=False, precompute='auto', random_state=None, selection='cyclic', tol=0.0001, verbose=0), training_cv_folds=5))],\n",
      "                                     verbose=False),\n",
      "                   stddev=[4.183320614641042])\n"
     ]
    }
   ],
   "source": [
    "best_run, fitted_model = local_run.get_output()\n",
    "print(best_run)\n",
    "print(fitted_model)"
   ]
  },
  {
   "cell_type": "code",
   "execution_count": 30,
   "metadata": {
    "collapsed": true,
    "jupyter": {
     "outputs_hidden": false,
     "source_hidden": false
    },
    "nteract": {
     "transient": {
      "deleting": false
     }
    }
   },
   "outputs": [
    {
     "data": {
      "application/vnd.jupyter.widget-view+json": {
       "model_id": "82582d07e7e64ea29c6988540e9ba4b2",
       "version_major": 2,
       "version_minor": 0
      },
      "text/plain": [
       "Summarize dataset:   0%|          | 0/43 [00:00<?, ?it/s]"
      ]
     },
     "metadata": {},
     "output_type": "display_data"
    },
    {
     "data": {
      "application/vnd.jupyter.widget-view+json": {
       "model_id": "38bef311c33d4194bd435c33d252b445",
       "version_major": 2,
       "version_minor": 0
      },
      "text/plain": [
       "Generate report structure:   0%|          | 0/1 [00:00<?, ?it/s]"
      ]
     },
     "metadata": {},
     "output_type": "display_data"
    },
    {
     "data": {
      "application/vnd.jupyter.widget-view+json": {
       "model_id": "a4332c51e1fb4227842987ab640d443b",
       "version_major": 2,
       "version_minor": 0
      },
      "text/plain": [
       "Render widgets:   0%|          | 0/1 [00:00<?, ?it/s]"
      ]
     },
     "metadata": {},
     "output_type": "display_data"
    }
   ],
   "source": [
    "import pandas_profiling\n",
    "profile = pandas_profiling.ProfileReport(Converted_Dataset, title=\"Pandas Profiling Report\")\n",
    "profile.to_widgets()\n",
    "profile.to_notebook_iframe()"
   ]
  },
  {
   "cell_type": "code",
   "execution_count": 35,
   "metadata": {
    "collapsed": true,
    "gather": {
     "logged": 1627387327346
    },
    "jupyter": {
     "outputs_hidden": false,
     "source_hidden": false
    },
    "nteract": {
     "transient": {
      "deleting": false
     }
    }
   },
   "outputs": [
    {
     "name": "stdout",
     "output_type": "stream",
     "text": [
      "Model MAPE:\n",
      "0.026455020167458935\n",
      "\n",
      "Model Accuracy:\n",
      "0.9735449798325411\n"
     ]
    }
   ],
   "source": [
    "sum_actuals = sum_errors = 0\n",
    "\n",
    "for actual_val, predict_val in zip(y_actual, y_predict):\n",
    "    abs_error = actual_val - predict_val\n",
    "    if abs_error < 0:\n",
    "        abs_error = abs_error * -1\n",
    "\n",
    "    sum_errors = sum_errors + abs_error\n",
    "    sum_actuals = sum_actuals + actual_val\n",
    "\n",
    "mean_abs_percent_error = sum_errors / sum_actuals\n",
    "print(\"Model MAPE:\")\n",
    "print(mean_abs_percent_error)\n",
    "print()\n",
    "print(\"Model Accuracy:\")\n",
    "print(1 - mean_abs_percent_error)"
   ]
  }
 ],
 "metadata": {
  "kernel_info": {
   "name": "python3-azureml"
  },
  "kernelspec": {
   "display_name": "Python 3",
   "language": "python",
   "name": "python3"
  },
  "language_info": {
   "codemirror_mode": {
    "name": "ipython",
    "version": 3
   },
   "file_extension": ".py",
   "mimetype": "text/x-python",
   "name": "python",
   "nbconvert_exporter": "python",
   "pygments_lexer": "ipython3",
   "version": "3.7.0"
  },
  "microsoft": {
   "host": {
    "AzureML": {
     "notebookHasBeenCompleted": true
    }
   }
  },
  "nteract": {
   "version": "nteract-front-end@1.0.0"
  }
 },
 "nbformat": 4,
 "nbformat_minor": 2
}
