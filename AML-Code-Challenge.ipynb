{
  "cells": [
    {
      "cell_type": "code",
      "source": [
        "import pandas as pd\r\n",
        "import numpy as np\r\n",
        "import re\r\n",
        "from datetime import datetime\r\n",
        "# import xlrd\r\n",
        "import matplotlib.pyplot as plt\r\n",
        "\r\n",
        "from sklearn.impute import KNNImputer\r\n",
        "from sklearn.model_selection import train_test_split\r\n",
        "from sklearn.preprocessing import MinMaxScaler\r\n",
        "\r\n",
        "from sklearn.compose import TransformedTargetRegressor\r\n",
        "from sklearn.preprocessing import OrdinalEncoder\r\n",
        "from sklearn.feature_selection import VarianceThreshold\r\n",
        "import xgboost as xg\r\n",
        "from sklearn.pipeline import Pipeline\r\n",
        "# Check core SDK version number\r\n",
        "import azureml.core\r\n",
        "from azureml.core import Workspace, Dataset\r\n",
        "\r\n",
        "print('SDK version:', azureml.core.VERSION)"
      ],
      "outputs": [
        {
          "output_type": "stream",
          "name": "stdout",
          "text": [
            "SDK version: 1.31.0\n"
          ]
        }
      ],
      "execution_count": 1,
      "metadata": {
        "gather": {
          "logged": 1627475852462
        }
      }
    },
    {
      "cell_type": "code",
      "source": [
        "# # =============================================================================\r\n",
        "# #  DataPrepration Class Definition\r\n",
        "# # =============================================================================\r\n",
        "# class DataPrepration:\r\n",
        "    \r\n",
        "#     ''' Data preparation class includes below Function:\r\n",
        "#             0. Get Data\r\n",
        "#             1. Map the Target Values to Raw Data\r\n",
        "#             2. Create New KPIs\r\n",
        "#             3. Delete Columns with a high proportion of missing values\r\n",
        "#             4. Convert Catagorical columns to Numerical values\r\n",
        "#             5. Selected Features\r\n",
        "#                 * Select Features basd on thier variance\r\n",
        "#                 * Remove Duplicate Columns\r\n",
        "#             6. Use Imputation to reGenerate the missed data\r\n",
        "#             7. Shuffling the Dataset '''\r\n",
        "        \r\n",
        "#     def __init__(self, raw_path, target_path):\r\n",
        "#         self.raw_path = raw_path\r\n",
        "#         self.target_path = target_path\r\n",
        "        \r\n",
        "#     def Get_Data (self):\r\n",
        "#         ''' Load Raw and Target CSV files, since the index column is the first  \r\n",
        "#             unknown column, so the \"Unnamed: 0\" column rename to index '''\r\n",
        "#         df_raw = pd.read_csv(self.raw_path,  delimiter=';')\r\n",
        "#         df_target = pd.read_csv(self. target_path,  delimiter=';')\r\n",
        "#         df_raw.rename(columns={'Unnamed: 0': 'index'}, inplace=True)\r\n",
        "#         return df_raw, df_target\r\n",
        "#     # =========================================================================\r\n",
        "#     #     Establish a correspondence Between Raw and Target\r\n",
        "#     # =========================================================================\r\n",
        "#     def Mapping_Raw_to_Target(self, df_raw, df_target, col1, col2):\r\n",
        "        \r\n",
        "#         ''' Raw and Target dataset are not matched one-to one correspondence.\r\n",
        "#             By combination of index and groups in Raw and Target dataset, \r\n",
        "#             a new Key has been created, as Index_Groups to map and link \r\n",
        "#             the Target to the Raw data.'''\r\n",
        "         \r\n",
        "#         df_raw[col1].astype(float) # Raw Index\r\n",
        "#         df_raw[col2].astype(float) #Raw Group\r\n",
        "#         df_target[col1].astype(float) # Target Index\r\n",
        "#         df_target[col2].astype(float) #Target Group\r\n",
        "       \r\n",
        "#         # \r\n",
        "#         df_raw.insert (2,'Index_group', \r\n",
        "#                        [(str(df_raw.loc[i][col1].astype(int)) + '_' +\r\n",
        "#                          str(df_raw.loc[i][col2].astype(int))) \r\n",
        "#                         for i in range (df_raw.shape[0])])\r\n",
        "#         df_target.insert (1,'Index_group', \r\n",
        "#                        [(str(df_target.loc[i][col1].astype(int)) + '_' +\r\n",
        "#                          str(df_target.loc[i][col2].astype(int))) \r\n",
        "#                         for i in range (df_target.shape[0])])\r\n",
        "            \r\n",
        "#         Converted_Dataset = pd.merge(df_raw, df_target, how=\"inner\", \r\n",
        "#                                      on=[\"Index_group\"] )\r\n",
        "#         Converted_Dataset.drop('index_y',axis = 1, inplace = True)\r\n",
        "#         Converted_Dataset.drop('groups_y',axis = 1, inplace = True)\r\n",
        "        \r\n",
        "#         return Converted_Dataset\r\n",
        "\r\n",
        "#     # =============================================================================\r\n",
        "#     # Remove Columns with high Missing values\r\n",
        "#     # =============================================================================\r\n",
        "#     def Drop_missed_Column(self, df, col_to_del):\r\n",
        "#         '''Function to delete Columns with a high proportion of missing values,\r\n",
        "#            or one of the Duplicate columns '''\r\n",
        "#         for col in col_to_del:\r\n",
        "#             df.pop(col)\r\n",
        "#         return df           \r\n",
        "#     # =============================================================================\r\n",
        "#     #   To Unify time feature \r\n",
        "#     # =============================================================================\r\n",
        "#     def Unifying_timestamp_col(self, df, col_to_convert):\r\n",
        "#         ''' Unifying all types of Date and time to %d/%m/%Y %H:%M\r\n",
        "#             in this part the Regex has been used to find the different types of Date time'''\r\n",
        "\r\n",
        "#         for col in col_to_convert:\r\n",
        "#             for row in range(df.shape[0]):\r\n",
        "#                 if (re.match('[3-4][0-9]{4}.[0-9]',str(df.loc[row:row+1][col]))):\r\n",
        "#                     df.loc[row:row+1][col] = datetime(*xlrd.xldate_as_tuple(float(df.loc[row:row+1][col]), 0)).strftime('%Y-%m-%d %H:%M:%S')\r\n",
        "#                     df.loc[row:row+1][col] = datetime.strptime(df.loc[row:row+1][col], \"%Y/%m/%d %H:%M:%S\").strftime(\"%Y/%m/%d %H:%M:%S\")\r\n",
        "#                 elif (re.match('[0-9]{4}/[0-9]{2}/[0-9]',str(df.loc[row:row+1][col]))):\r\n",
        "#                     df.loc[row:row+1][col] = datetime.strptime(str(df.loc[row:row+1][col]), \"%Y/%m/%d %H:%M:%S\").strftime(\"%Y/%m/%d %H:%M:%S\")\r\n",
        "                        \r\n",
        "#         for col in col_to_convert:\r\n",
        "    \r\n",
        "#             df[col] = pd.to_datetime(df[col] , format='%d/%m/%Y %H:%M')\r\n",
        "    \r\n",
        "#         return df    \r\n",
        "#     # =============================================================================\r\n",
        "#     # Find the day gap between two dates\r\n",
        "#     # ============================================================================= \r\n",
        "#     def Second_Between(self, t1, t2):\r\n",
        "#         ''' Calculate the time period between two times, based on Second'''\r\n",
        "#         Distance_sign = str((t2-t1)) # calculate of gap between two times. \r\n",
        "#         Distance = str(abs(t2-t1)) # It change to str to use Regex\r\n",
        "#         Date_type = re.findall('[0-9]{2}:[0-9]{2}:[0-9]{2}', Distance)\r\n",
        "#         Sign = Distance_sign.split(' ')[3]\r\n",
        "#         if(len(Date_type)!= 0):\r\n",
        "#             Time = Date_type[0].split(':')\r\n",
        "#             Gap = int(Time[0])*3600+int(Time[1])*60+int(Time[2])\r\n",
        "#             if Sign == '-1':\r\n",
        "#                 Gap=Gap*(-1) \r\n",
        "#         else:\r\n",
        "#             Gap = 0\r\n",
        "\r\n",
        "#         return Gap\r\n",
        "#     # =============================================================================\r\n",
        "#     #                                Create New KPI\r\n",
        "#     # =============================================================================\r\n",
        "#     def New_KPI(self, df, new_kpi, col1, col2):\r\n",
        "#         '''Create new features (KPI) from timestamp values, \r\n",
        "#            it helps us to make the better of timestamp values'''\r\n",
        "#         # Insert new KPI to the Dataset   \r\n",
        "#         df.insert(2, new_kpi, \r\n",
        "#                   [ self.Second_Between(df.loc[i:i][col1],\r\n",
        "#                                                       df.loc[i:i][col2])\r\n",
        "#                                      for i in range(df.shape[0])])\r\n",
        "#         return df\r\n",
        "#     # =============================================================================\r\n",
        "#     # Use Ordinal Encoding to change catagorical columns to numerical values\r\n",
        "#     # =============================================================================\r\n",
        "#     def Catagorical_to_Numerical (self, df, col_to_numerical):\r\n",
        "#         ''' Relpace the Categoricall Features with Numerical \r\n",
        "#             by OrdinalEncoder function'''\r\n",
        "#         enc = OrdinalEncoder()\r\n",
        "#         df[col_to_numerical] = enc.fit_transform(df[col_to_numerical])\r\n",
        "#         return df\r\n",
        "#     # =============================================================================\r\n",
        "#     # KNN Imputer\r\n",
        "#     # =============================================================================\r\n",
        "#     def KNN_Imputer(self, df):\r\n",
        "#         ''' Replacing NAN (missing) values with \r\n",
        "#             reasonable data with KNN Algorithm.'''\r\n",
        "#         imputer = KNNImputer() # fit on the dataset\r\n",
        "#         imputer.fit(df) \r\n",
        "#         X = imputer.transform(df)  # transform the dataset\r\n",
        "#         return X    \r\n",
        "#     # =============================================================================\r\n",
        "#     # Remove Columns That Have A Low Variance\r\n",
        "#     # =============================================================================      \r\n",
        "#     def Del_Low_Variance(self, df):\r\n",
        "#         '''To make the better performance low variance features have been removed.\r\n",
        "#            Based on tunning hyperparameters the threshold = 0.15 select 26 features \r\n",
        "#            with better performance'''\r\n",
        "#         # define the transform: With this threshold 26 features has been selected\r\n",
        "#         transform = VarianceThreshold(threshold=.15)   \r\n",
        "#         X_sel = transform.fit_transform(df)  # transform the input data\r\n",
        "#         X = pd.DataFrame(X_sel)\r\n",
        "#         return X\r\n"
      ],
      "outputs": [],
      "execution_count": 2,
      "metadata": {
        "collapsed": true,
        "jupyter": {
          "source_hidden": false,
          "outputs_hidden": false
        },
        "nteract": {
          "transient": {
            "deleting": false
          }
        },
        "gather": {
          "logged": 1627475856364
        }
      }
    },
    {
      "cell_type": "markdown",
      "source": [
        "# Revised Data Prepration Class"
      ],
      "metadata": {
        "nteract": {
          "transient": {
            "deleting": false
          }
        }
      }
    },
    {
      "cell_type": "code",
      "source": [
        "# =============================================================================\r\n",
        "#  DataPrepration Class Definition\r\n",
        "# =============================================================================\r\n",
        "class DataPrepration:\r\n",
        "    \r\n",
        "    ''' Data preparation class includes below Function:\r\n",
        "            0. Get Data\r\n",
        "            1. Map the Target Values to Raw Data\r\n",
        "            2. Create New KPIs\r\n",
        "            3. Delete Columns with a high proportion of missing values\r\n",
        "            4. Convert Catagorical columns to Numerical values\r\n",
        "            5. Selected Features\r\n",
        "                * Select Features basd on thier variance\r\n",
        "                * Remove Duplicate Columns\r\n",
        "            6. Use Imputation to reGenerate the missed data\r\n",
        "            7. Shuffling the Dataset '''\r\n",
        "    # Define Class Variable\r\n",
        "    df_raw = pd. DataFrame()\r\n",
        "    df_target = pd. DataFrame()\r\n",
        "    \r\n",
        "    def __init__(self, raw_name, target_name):\r\n",
        "        # Define Instance variable\r\n",
        "        self.raw_name = raw_name\r\n",
        "        self.target_name = target_name\r\n",
        "        \r\n",
        "    def Get_Data (self):\r\n",
        "        ''' Load Raw and Target CSV files, since the index column is the first  \r\n",
        "            unknown column, so the \"Unnamed: 0\" column rename to index '''\r\n",
        "\r\n",
        "        subscription_id = 'ec0ad9e6-b046-4a60-81a6-c379f32c659e'\r\n",
        "        resource_group = 'AML1'\r\n",
        "        workspace_name = 'AMLocode-Challenge'\r\n",
        "\r\n",
        "        workspace = Workspace(subscription_id, resource_group, workspace_name)\r\n",
        "\r\n",
        "\r\n",
        "        df_target = Dataset.get_by_name(workspace, name=self.target_name)\r\n",
        "        df_target = df_target.to_pandas_dataframe()\r\n",
        "\r\n",
        "        df_raw = Dataset.get_by_name(workspace, name=self.raw_name)\r\n",
        "        df_raw = df_raw.to_pandas_dataframe()\r\n",
        "        df_raw.rename(columns={'Column1': 'index'}, inplace=True)\r\n",
        "        return df_raw, df_target\r\n",
        "\r\n",
        "    # =========================================================================\r\n",
        "    #     Establish a correspondence Between Raw and Target\r\n",
        "    # =========================================================================\r\n",
        "    def Mapping_Raw_to_Target(self, df_raw, df_target, col1, col2):\r\n",
        "        \r\n",
        "        ''' Raw and Target dataset are not matched one-to one correspondence.\r\n",
        "            By combination of index and groups in Raw and Target dataset, \r\n",
        "            a new Key has been created, as Index_Groups to map and link \r\n",
        "            the Target to the Raw data.'''\r\n",
        "         \r\n",
        "#        df_raw[col1].astype(float) # Raw Index\r\n",
        "#        df_raw[col2].astype(float) #Raw Group\r\n",
        "#        df_target[col1].astype(float) # Target Index\r\n",
        "#        df_target[col2].astype(float) #Target Group\r\n",
        "#       \r\n",
        "        # \r\n",
        "        df_raw.insert (2,'Index_group', \r\n",
        "                       [(str(df_raw.loc[i][col1].astype(int)) + '_' +\r\n",
        "                         str(df_raw.loc[i][col2].astype(int))) \r\n",
        "                        for i in range (df_raw.shape[0])])\r\n",
        "        df_target.insert (1,'Index_group', \r\n",
        "                       [(str(df_target.loc[i][col1].astype(int)) + '_' +\r\n",
        "                         str(df_target.loc[i][col2].astype(int))) \r\n",
        "                        for i in range (df_target.shape[0])])\r\n",
        "            \r\n",
        "        Converted_Dataset = pd.merge(df_raw, df_target, how=\"inner\", \r\n",
        "                                     on=[\"Index_group\"] )\r\n",
        "        Converted_Dataset.drop('index_y',axis = 1, inplace = True)\r\n",
        "        Converted_Dataset.drop('groups_y',axis = 1, inplace = True)\r\n",
        "        \r\n",
        "        return Converted_Dataset\r\n",
        "\r\n",
        "    # =============================================================================\r\n",
        "    # Remove Columns with high Missing values\r\n",
        "    # =============================================================================\r\n",
        "    def Drop_missed_Column(self, df, col_to_del):\r\n",
        "        '''Function to delete Columns with a high proportion of missing values,\r\n",
        "           or one of the Duplicate columns '''\r\n",
        "        if type(col_to_del) ==list:\r\n",
        "            for col in col_to_del:\r\n",
        "                df.pop(col)\r\n",
        "        elif type(col_to_del) == str:\r\n",
        "                df.pop(col_to_del)\r\n",
        "        return df           \r\n",
        "    # =============================================================================\r\n",
        "    #   To Unify time feature \r\n",
        "    # =============================================================================\r\n",
        "    def Unifying_timestamp_col(self, df, col_to_convert):\r\n",
        "        ''' Unifying all types of Date and time to %d/%m/%Y %H:%M\r\n",
        "            in this part the Regex has been used to find the different types of Date time'''\r\n",
        "\r\n",
        "        for col in col_to_convert:\r\n",
        "            for row in range(df.shape[0]):\r\n",
        "                if (re.match('[3-4][0-9]{4}.[0-9]',str(df.loc[row:row+1][col]))):\r\n",
        "                    df.loc[row:row+1][col] = datetime(*xlrd.xldate_as_tuple(float(df.loc[row:row+1][col]), 0)).strftime('%Y-%m-%d %H:%M:%S')\r\n",
        "                    df.loc[row:row+1][col] = datetime.strptime(df.loc[row:row+1][col], \"%Y/%m/%d %H:%M:%S\").strftime(\"%Y/%m/%d %H:%M:%S\")\r\n",
        "                elif (re.match('[0-9]{4}/[0-9]{2}/[0-9]',str(df.loc[row:row+1][col]))):\r\n",
        "                    df.loc[row:row+1][col] = datetime.strptime(str(df.loc[row:row+1][col]), \"%Y/%m/%d %H:%M:%S\").strftime(\"%Y/%m/%d %H:%M:%S\")\r\n",
        "                        \r\n",
        "        for col in col_to_convert:\r\n",
        "    \r\n",
        "            df[col] = pd.to_datetime(df[col] , format='%d/%m/%Y %H:%M')\r\n",
        "    \r\n",
        "        return df    \r\n",
        "    # =============================================================================\r\n",
        "    # Find the day gap between two dates\r\n",
        "    # ============================================================================= \r\n",
        "    def Second_Between(self, t1, t2):\r\n",
        "        ''' Calculate the time period between two times, based on Second'''\r\n",
        "        Distance_sign = str((t2-t1)) # Find To be forward or to be behind. \r\n",
        "        Distance = str(abs(t2-t1)) # It change to str to use Regex\r\n",
        "        Date_type = re.findall('[0-9]{2}:[0-9]{2}:[0-9]{2}', Distance)\r\n",
        "        Sign = Distance_sign.split(' ')[3]\r\n",
        "        if(len(Date_type)!= 0):\r\n",
        "            Time = Date_type[0].split(':')\r\n",
        "            Gap = int(Time[0])*3600+int(Time[1])*60+int(Time[2])\r\n",
        "            if Sign == '-1':\r\n",
        "                Gap=Gap*(-1) \r\n",
        "        else:\r\n",
        "            Gap = 0\r\n",
        "\r\n",
        "        return Gap\r\n",
        "    # =============================================================================\r\n",
        "    #                                Create New KPI\r\n",
        "    # =============================================================================\r\n",
        "    def New_KPI(self, df, new_kpi, col1, col2):\r\n",
        "        '''Create new features (KPI) from timestamp values, \r\n",
        "           it helps us to make the better of timestamp values'''\r\n",
        "        # Insert new KPI to the Dataset   \r\n",
        "        df.insert(2, new_kpi, \r\n",
        "                  [ self.Second_Between(df.loc[i:i][col1],\r\n",
        "                                                      df.loc[i:i][col2])\r\n",
        "                                     for i in range(df.shape[0])])\r\n",
        "        return df\r\n",
        "    # =============================================================================\r\n",
        "    # Use Ordinal Encoding to change catagorical columns to numerical values\r\n",
        "    # =============================================================================\r\n",
        "    def Catagorical_to_Numerical (self, df, col_to_numerical):\r\n",
        "        ''' Relpace the Categoricall Features with Numerical \r\n",
        "            by OrdinalEncoder function'''\r\n",
        "        enc = OrdinalEncoder()\r\n",
        "        df[col_to_numerical] = enc.fit_transform(df[col_to_numerical])\r\n",
        "        return df\r\n",
        "    \r\n",
        "    # =============================================================================\r\n",
        "    #     Remove Duplicate Columns\r\n",
        "    # =============================================================================\r\n",
        "    def Transpose (self, df):\r\n",
        "        ''' To remove duplicate columns'''\r\n",
        "        \r\n",
        "        Trans = df.T\r\n",
        "        Trans.drop_duplicates( inplace = True)\r\n",
        "        Trans = Trans.T\r\n",
        "        return Trans \r\n",
        "    # =============================================================================\r\n",
        "    # KNN Imputer\r\n",
        "    # =============================================================================\r\n",
        "    def KNN_Imputer(self, df):\r\n",
        "        ''' Replacing NAN (missing) values with \r\n",
        "            reasonable data with KNN Algorithm.'''\r\n",
        "        imputer = KNNImputer() # fit on the dataset\r\n",
        "        imputer.fit(df) \r\n",
        "        X = imputer.transform(df)  # transform the dataset\r\n",
        "        return X    \r\n",
        "    # =============================================================================\r\n",
        "    # Remove Columns That Have A Low Variance\r\n",
        "    # =============================================================================      \r\n",
        "    def Del_Low_Variance(self, df):\r\n",
        "        '''To make the better performance low variance features have been removed.\r\n",
        "           Based on tunning hyperparameters the threshold = 0.15 select 26 features \r\n",
        "           with better performance'''\r\n",
        "        # define the transform: With this threshold 26 features has been selected\r\n",
        "        transform = VarianceThreshold(threshold=.15)   \r\n",
        "        X_sel = transform.fit_transform(df)  # transform the input data\r\n",
        "        X = pd.DataFrame(X_sel)\r\n",
        "        return X\r\n",
        "    # =========================================================================\r\n",
        "    #     Split Dataset to Train and Test\r\n",
        "    # =========================================================================   \r\n",
        "    def Split (self, df, split_percent):\r\n",
        "        ''' Split the Dataset into Test and Train'''\r\n",
        "        # X_train, X_test, Y_train, Y_test = train_test_split(df, test_size=split_percent, random_state=10)\r\n",
        "        X_train, X_test = train_test_split(Converted_Dataset, test_size = split_percent, random_state=223)\r\n",
        "        return X_train, X_test"
      ],
      "outputs": [],
      "execution_count": 17,
      "metadata": {
        "collapsed": true,
        "jupyter": {
          "source_hidden": false,
          "outputs_hidden": false
        },
        "nteract": {
          "transient": {
            "deleting": false
          }
        },
        "gather": {
          "logged": 1627477288504
        }
      }
    },
    {
      "cell_type": "code",
      "source": [
        "# =============================================================================\r\n",
        "#  Main Project\r\n",
        "# =============================================================================\r\n",
        "\r\n",
        "target_name = 'Target'\r\n",
        "raw_name = 'Raw data'\r\n",
        "data_pre = DataPrepration(raw_name,target_name)\r\n",
        "df_raw, df_target = data_pre.Get_Data()\r\n"
      ],
      "outputs": [],
      "execution_count": 18,
      "metadata": {
        "collapsed": true,
        "jupyter": {
          "source_hidden": false,
          "outputs_hidden": false
        },
        "nteract": {
          "transient": {
            "deleting": false
          }
        },
        "gather": {
          "logged": 1627477299044
        }
      }
    },
    {
      "cell_type": "code",
      "source": [
        "# Converted_Dataset.drop(\"Index_group\",axis = 1, inplace =  True\r\n",
        "# Join the Target and Feature Data \r\n",
        "Converted_Dataset = data_pre.Mapping_Raw_to_Target(df_raw, df_target, 'index', 'groups')\r\n",
        "print('Mapping Raw and Target dataset has done')\r\n",
        "\r\n",
        "# Drop the high missed columns\r\n",
        "col_to_del = ['etherium_before_start', 'start_critical_subprocess1','raw_kryptonite', 'pure_seastone', 'opened']\r\n",
        "Converted_Dataset = data_pre.Drop_missed_Column(Converted_Dataset, col_to_del)\r\n",
        "print(\"Drop the high missed columns has done\")\r\n",
        "\r\n",
        "\r\n",
        "# Unify the Date time columns\r\n",
        "col_to_convert = [ 'expected_start', 'start_process', 'start_subprocess1',\r\n",
        "                   'predicted_process_end', 'process_end', 'subprocess1_end',\r\n",
        "                   'reported_on_tower']\r\n",
        "Converted_Dataset = data_pre.Unifying_timestamp_col(Converted_Dataset, col_to_convert)\r\n",
        "print (\"Unify the Date time columns has done\")\r\n",
        "\r\n",
        "# Create New KPIs (Feature)\r\n",
        "Converted_Dataset = data_pre.New_KPI(Converted_Dataset, 'Expected_Start_Process', 'expected_start', 'start_process')\r\n",
        "Converted_Dataset = data_pre.New_KPI(Converted_Dataset, 'start_time_of_subprocess1', 'start_process', 'start_subprocess1' )\r\n",
        "Converted_Dataset = data_pre.New_KPI(Converted_Dataset, 'process_duration','start_process', 'process_end')\r\n",
        "Converted_Dataset = data_pre.New_KPI(Converted_Dataset, 'expected_end_process', 'process_end', 'predicted_process_end' )\r\n",
        "Converted_Dataset = data_pre.New_KPI(Converted_Dataset, 'subprocess_duration', 'start_process', 'subprocess1_end' )\r\n",
        "Converted_Dataset = data_pre.New_KPI(Converted_Dataset, 'whole_process', 'start_process', 'reported_on_tower')\r\n",
        "print ('Create Nea Features has done')\r\n",
        "\r\n",
        "# Convert Categorical to Numerical columns\r\n",
        "col_to_numerical = [\"super_hero_group\",\"crystal_type\", \"crystal_supergroup\", \"Cycle\"]\r\n",
        "Converted_Dataset = data_pre.Catagorical_to_Numerical (Converted_Dataset, col_to_numerical)\r\n",
        "print('Convert Categorical to Numerical columns has done')\r\n",
        "\r\n",
        "# Remove the old and un-used columns from the DataSet\r\n",
        "col_to_del = [ 'when', 'expected_start', 'start_process', 'start_subprocess1',\r\n",
        "                   'predicted_process_end', 'process_end', 'subprocess1_end',\r\n",
        "                   'reported_on_tower']\r\n",
        "Converted_Dataset = data_pre.Drop_missed_Column(Converted_Dataset, col_to_del)\r\n",
        "print('Remove un-used columns has done')\r\n",
        "\r\n",
        "# x_train, x_test = train_test_split(Converted_Dataset, test_size = 0.2, random_state=223)\r\n",
        "# X_train, X_test, Y_train, Y_test = data_pre.SplitConverted_Dataset, test_size = 0.1)\r\n",
        "print ('Split dataset to train and test has done')"
      ],
      "outputs": [
        {
          "output_type": "stream",
          "name": "stdout",
          "text": [
            "Mapping Raw and Target dataset has done\n",
            "Drop the high missed columns has done\n",
            "Unify the Date time columns has done\n",
            "Create Nea Features has done\n",
            "Convert Categorical to Numerical columns has done\n",
            "Remove un-used columns has done\n",
            "Split dataset to train and test has done\n"
          ]
        }
      ],
      "execution_count": 13,
      "metadata": {
        "collapsed": true,
        "jupyter": {
          "source_hidden": false,
          "outputs_hidden": false
        },
        "nteract": {
          "transient": {
            "deleting": false
          }
        },
        "gather": {
          "logged": 1627477173891
        }
      }
    },
    {
      "cell_type": "code",
      "source": [
        " X_train, X_test = data_pre.Split(Converted_Dataset, 0.1)\r\n",
        " X_test"
      ],
      "outputs": [
        {
          "output_type": "execute_result",
          "execution_count": 21,
          "data": {
            "text/plain": "      index_x  whole_process  subprocess_duration  expected_end_process  \\\n7192      100           2040                 1440                   120   \n8077      118           3300                 1740                   120   \n7215      123           3120                 1680                  1560   \n1218       97           2220                 1560                  -300   \n1847       72           4440                 3540                 -1620   \n...       ...            ...                  ...                   ...   \n659       112           3240                 1800                   120   \n8082        0           2640                 2100                  -180   \n6731       16           2340                 1620                  1260   \n4789       57           3000                 2100                  -240   \n6739       24           2400                 1740                   900   \n\n      process_duration  start_time_of_subprocess1  Expected_Start_Process  \\\n7192              1560                        300                     120   \n8077              2160                        300                     300   \n7215              1920                        420                       0   \n1218              1620                        180                     600   \n1847              4020                        180                     540   \n...                ...                        ...                     ...   \n659               2280                        420                    -120   \n8082              2280                        240                      60   \n6731              1800                        180                    -120   \n4789              2520                        120                    -240   \n6739              1860                        180                     120   \n\n     Index_group  super_hero_group  tracking  ...  expected_final_factor_x  \\\n7192      100_37               3.0     57471  ...                   1573.0   \n8077      118_60               0.0    540601  ...                   1545.0   \n7215      123_37               3.0     58701  ...                   1579.0   \n1218       97_27               1.0     86621  ...                   1578.0   \n1847       72_40               2.0     89371  ...                   1551.0   \n...          ...               ...       ...  ...                      ...   \n659       112_10               3.0    612021  ...                   1572.0   \n8082        0_61               2.0    546411  ...                   1578.0   \n6731       16_32               2.0     63411  ...                   1571.0   \n4789        57_7               0.0    618551  ...                   1570.0   \n6739       24_32               0.0     63541  ...                   1568.0   \n\n      final_factor_x  previous_adamantium  Column18  chemical_x       argon  \\\n7192             NaN               0.2390       NaN   18.566667    0.000000   \n8077             NaN               0.0383       NaN   24.050000   93.641464   \n7215          1586.0               0.0031       NaN   21.066667    0.000000   \n1218          1580.0               0.0334    1614.0   23.333333    0.000000   \n1847          1559.0               0.0394    1577.0   55.500000  502.150321   \n...              ...                  ...       ...         ...         ...   \n659           1586.0               0.0212    1613.0   23.766667    0.000000   \n8082          1572.0               0.2530       NaN   30.800000  402.778686   \n6731             NaN               0.0062       NaN   24.050000  237.728790   \n4789             NaN               0.0032       NaN   33.783333  252.047010   \n6739             NaN               0.0510       NaN   26.650000  200.887436   \n\n      crystal_supergroup  Cycle  groups_x      target  \n7192                 0.0    1.0      37.0  128.791946  \n8077                 0.0    1.0      60.0  183.821138  \n7215                 0.0    1.0      37.0  158.120805  \n1218                 0.0    2.0      27.0  132.631579  \n1847                 0.0    1.0      40.0  157.716049  \n...                  ...    ...       ...         ...  \n659                  0.0    2.0      10.0  200.000000  \n8082                 1.0    2.0      61.0    1.774194  \n6731                 0.0    2.0      32.0   23.906250  \n4789                 0.0    1.0       7.0   80.437956  \n6739                 0.0    2.0      32.0   35.156250  \n\n[855 rows x 30 columns]",
            "text/html": "<div>\n<style scoped>\n    .dataframe tbody tr th:only-of-type {\n        vertical-align: middle;\n    }\n\n    .dataframe tbody tr th {\n        vertical-align: top;\n    }\n\n    .dataframe thead th {\n        text-align: right;\n    }\n</style>\n<table border=\"1\" class=\"dataframe\">\n  <thead>\n    <tr style=\"text-align: right;\">\n      <th></th>\n      <th>index_x</th>\n      <th>whole_process</th>\n      <th>subprocess_duration</th>\n      <th>expected_end_process</th>\n      <th>process_duration</th>\n      <th>start_time_of_subprocess1</th>\n      <th>Expected_Start_Process</th>\n      <th>Index_group</th>\n      <th>super_hero_group</th>\n      <th>tracking</th>\n      <th>...</th>\n      <th>expected_final_factor_x</th>\n      <th>final_factor_x</th>\n      <th>previous_adamantium</th>\n      <th>Column18</th>\n      <th>chemical_x</th>\n      <th>argon</th>\n      <th>crystal_supergroup</th>\n      <th>Cycle</th>\n      <th>groups_x</th>\n      <th>target</th>\n    </tr>\n  </thead>\n  <tbody>\n    <tr>\n      <th>7192</th>\n      <td>100</td>\n      <td>2040</td>\n      <td>1440</td>\n      <td>120</td>\n      <td>1560</td>\n      <td>300</td>\n      <td>120</td>\n      <td>100_37</td>\n      <td>3.0</td>\n      <td>57471</td>\n      <td>...</td>\n      <td>1573.0</td>\n      <td>NaN</td>\n      <td>0.2390</td>\n      <td>NaN</td>\n      <td>18.566667</td>\n      <td>0.000000</td>\n      <td>0.0</td>\n      <td>1.0</td>\n      <td>37.0</td>\n      <td>128.791946</td>\n    </tr>\n    <tr>\n      <th>8077</th>\n      <td>118</td>\n      <td>3300</td>\n      <td>1740</td>\n      <td>120</td>\n      <td>2160</td>\n      <td>300</td>\n      <td>300</td>\n      <td>118_60</td>\n      <td>0.0</td>\n      <td>540601</td>\n      <td>...</td>\n      <td>1545.0</td>\n      <td>NaN</td>\n      <td>0.0383</td>\n      <td>NaN</td>\n      <td>24.050000</td>\n      <td>93.641464</td>\n      <td>0.0</td>\n      <td>1.0</td>\n      <td>60.0</td>\n      <td>183.821138</td>\n    </tr>\n    <tr>\n      <th>7215</th>\n      <td>123</td>\n      <td>3120</td>\n      <td>1680</td>\n      <td>1560</td>\n      <td>1920</td>\n      <td>420</td>\n      <td>0</td>\n      <td>123_37</td>\n      <td>3.0</td>\n      <td>58701</td>\n      <td>...</td>\n      <td>1579.0</td>\n      <td>1586.0</td>\n      <td>0.0031</td>\n      <td>NaN</td>\n      <td>21.066667</td>\n      <td>0.000000</td>\n      <td>0.0</td>\n      <td>1.0</td>\n      <td>37.0</td>\n      <td>158.120805</td>\n    </tr>\n    <tr>\n      <th>1218</th>\n      <td>97</td>\n      <td>2220</td>\n      <td>1560</td>\n      <td>-300</td>\n      <td>1620</td>\n      <td>180</td>\n      <td>600</td>\n      <td>97_27</td>\n      <td>1.0</td>\n      <td>86621</td>\n      <td>...</td>\n      <td>1578.0</td>\n      <td>1580.0</td>\n      <td>0.0334</td>\n      <td>1614.0</td>\n      <td>23.333333</td>\n      <td>0.000000</td>\n      <td>0.0</td>\n      <td>2.0</td>\n      <td>27.0</td>\n      <td>132.631579</td>\n    </tr>\n    <tr>\n      <th>1847</th>\n      <td>72</td>\n      <td>4440</td>\n      <td>3540</td>\n      <td>-1620</td>\n      <td>4020</td>\n      <td>180</td>\n      <td>540</td>\n      <td>72_40</td>\n      <td>2.0</td>\n      <td>89371</td>\n      <td>...</td>\n      <td>1551.0</td>\n      <td>1559.0</td>\n      <td>0.0394</td>\n      <td>1577.0</td>\n      <td>55.500000</td>\n      <td>502.150321</td>\n      <td>0.0</td>\n      <td>1.0</td>\n      <td>40.0</td>\n      <td>157.716049</td>\n    </tr>\n    <tr>\n      <th>...</th>\n      <td>...</td>\n      <td>...</td>\n      <td>...</td>\n      <td>...</td>\n      <td>...</td>\n      <td>...</td>\n      <td>...</td>\n      <td>...</td>\n      <td>...</td>\n      <td>...</td>\n      <td>...</td>\n      <td>...</td>\n      <td>...</td>\n      <td>...</td>\n      <td>...</td>\n      <td>...</td>\n      <td>...</td>\n      <td>...</td>\n      <td>...</td>\n      <td>...</td>\n      <td>...</td>\n    </tr>\n    <tr>\n      <th>659</th>\n      <td>112</td>\n      <td>3240</td>\n      <td>1800</td>\n      <td>120</td>\n      <td>2280</td>\n      <td>420</td>\n      <td>-120</td>\n      <td>112_10</td>\n      <td>3.0</td>\n      <td>612021</td>\n      <td>...</td>\n      <td>1572.0</td>\n      <td>1586.0</td>\n      <td>0.0212</td>\n      <td>1613.0</td>\n      <td>23.766667</td>\n      <td>0.000000</td>\n      <td>0.0</td>\n      <td>2.0</td>\n      <td>10.0</td>\n      <td>200.000000</td>\n    </tr>\n    <tr>\n      <th>8082</th>\n      <td>0</td>\n      <td>2640</td>\n      <td>2100</td>\n      <td>-180</td>\n      <td>2280</td>\n      <td>240</td>\n      <td>60</td>\n      <td>0_61</td>\n      <td>2.0</td>\n      <td>546411</td>\n      <td>...</td>\n      <td>1578.0</td>\n      <td>1572.0</td>\n      <td>0.2530</td>\n      <td>NaN</td>\n      <td>30.800000</td>\n      <td>402.778686</td>\n      <td>1.0</td>\n      <td>2.0</td>\n      <td>61.0</td>\n      <td>1.774194</td>\n    </tr>\n    <tr>\n      <th>6731</th>\n      <td>16</td>\n      <td>2340</td>\n      <td>1620</td>\n      <td>1260</td>\n      <td>1800</td>\n      <td>180</td>\n      <td>-120</td>\n      <td>16_32</td>\n      <td>2.0</td>\n      <td>63411</td>\n      <td>...</td>\n      <td>1571.0</td>\n      <td>NaN</td>\n      <td>0.0062</td>\n      <td>NaN</td>\n      <td>24.050000</td>\n      <td>237.728790</td>\n      <td>0.0</td>\n      <td>2.0</td>\n      <td>32.0</td>\n      <td>23.906250</td>\n    </tr>\n    <tr>\n      <th>4789</th>\n      <td>57</td>\n      <td>3000</td>\n      <td>2100</td>\n      <td>-240</td>\n      <td>2520</td>\n      <td>120</td>\n      <td>-240</td>\n      <td>57_7</td>\n      <td>0.0</td>\n      <td>618551</td>\n      <td>...</td>\n      <td>1570.0</td>\n      <td>NaN</td>\n      <td>0.0032</td>\n      <td>NaN</td>\n      <td>33.783333</td>\n      <td>252.047010</td>\n      <td>0.0</td>\n      <td>1.0</td>\n      <td>7.0</td>\n      <td>80.437956</td>\n    </tr>\n    <tr>\n      <th>6739</th>\n      <td>24</td>\n      <td>2400</td>\n      <td>1740</td>\n      <td>900</td>\n      <td>1860</td>\n      <td>180</td>\n      <td>120</td>\n      <td>24_32</td>\n      <td>0.0</td>\n      <td>63541</td>\n      <td>...</td>\n      <td>1568.0</td>\n      <td>NaN</td>\n      <td>0.0510</td>\n      <td>NaN</td>\n      <td>26.650000</td>\n      <td>200.887436</td>\n      <td>0.0</td>\n      <td>2.0</td>\n      <td>32.0</td>\n      <td>35.156250</td>\n    </tr>\n  </tbody>\n</table>\n<p>855 rows × 30 columns</p>\n</div>"
          },
          "metadata": {}
        }
      ],
      "execution_count": 21,
      "metadata": {
        "collapsed": true,
        "jupyter": {
          "source_hidden": false,
          "outputs_hidden": false
        },
        "nteract": {
          "transient": {
            "deleting": false
          }
        },
        "gather": {
          "logged": 1627477331358
        }
      }
    },
    {
      "cell_type": "code",
      "source": [
        "import logging\r\n",
        "x_train, x_test = train_test_split(Converted_Dataset, test_size=0.2, random_state=223)\r\n",
        "automl_settings = {\r\n",
        "    \"iteration_timeout_minutes\": 10,\r\n",
        "    \"experiment_timeout_hours\": 0.3,\r\n",
        "    \"enable_early_stopping\": True,\r\n",
        "    \"primary_metric\": 'spearman_correlation',\r\n",
        "    \"featurization\": 'auto',\r\n",
        "    \"verbosity\": logging.INFO,\r\n",
        "    \"n_cross_validations\": 5\r\n",
        "}\r\n",
        "\r\n",
        "from azureml.train.automl import AutoMLConfig\r\n",
        "\r\n",
        "automl_config = AutoMLConfig(task='regression',\r\n",
        "                             debug_log='automated_ml_errors.log',\r\n",
        "                             training_data=x_train,\r\n",
        "                             label_column_name=\"target\",\r\n",
        "                             **automl_settings)"
      ],
      "outputs": [],
      "execution_count": 22,
      "metadata": {
        "collapsed": true,
        "jupyter": {
          "source_hidden": false,
          "outputs_hidden": false
        },
        "nteract": {
          "transient": {
            "deleting": false
          }
        },
        "gather": {
          "logged": 1627477342517
        }
      }
    },
    {
      "cell_type": "code",
      "source": [
        "from azureml.core.workspace import Workspace\r\n",
        "ws = Workspace.from_config()\r\n",
        "from azureml.core.experiment import Experiment\r\n",
        "experiment = Experiment(ws, \"CodeChallenge\")\r\n",
        "local_run = experiment.submit(automl_config, show_output=True)"
      ],
      "outputs": [
        {
          "output_type": "stream",
          "name": "stdout",
          "text": [
            "No run_configuration provided, running on local with default configuration\n",
            "Running in the active local environment.\n"
          ]
        },
        {
          "output_type": "display_data",
          "data": {
            "text/plain": "<IPython.core.display.HTML object>",
            "text/html": "<table style=\"width:100%\"><tr><th>Experiment</th><th>Id</th><th>Type</th><th>Status</th><th>Details Page</th><th>Docs Page</th></tr><tr><td>CodeChallenge</td><td>AutoML_473ef8aa-79fa-43c8-92f1-df26625d6d49</td><td>automl</td><td>Preparing</td><td><a href=\"https://ml.azure.com/runs/AutoML_473ef8aa-79fa-43c8-92f1-df26625d6d49?wsid=/subscriptions/ec0ad9e6-b046-4a60-81a6-c379f32c659e/resourcegroups/aml1/workspaces/amlocode-challenge&amp;tid=a58d983a-cc64-44f1-bccb-580bc80f047b\" target=\"_blank\" rel=\"noopener\">Link to Azure Machine Learning studio</a></td><td><a href=\"https://docs.microsoft.com/en-us/python/api/overview/azure/ml/intro?view=azure-ml-py\" target=\"_blank\" rel=\"noopener\">Link to Documentation</a></td></tr></table>"
          },
          "metadata": {}
        },
        {
          "output_type": "stream",
          "name": "stdout",
          "text": [
            "Current status: DatasetEvaluation. Gathering dataset statistics.\n",
            "Current status: FeaturesGeneration. Generating features for the dataset.\n",
            "Current status: DatasetFeaturization. Beginning to fit featurizers and featurize the dataset.\n",
            "Current status: DatasetFeaturizationCompleted. Completed fit featurizers and featurizing the dataset.\n",
            "Current status: DatasetCrossValidationSplit. Generating individually featurized CV splits.\n",
            "\n",
            "****************************************************************************************************\n",
            "DATA GUARDRAILS: \n",
            "\n",
            "TYPE:         Missing feature values imputation\n",
            "STATUS:       DONE\n",
            "DESCRIPTION:  If the missing values are expected, let the run complete. Otherwise cancel the current run and use a script to customize the handling of missing feature values that may be more appropriate based on the data type and business requirement.\n",
            "              Learn more about missing value imputation: https://aka.ms/AutomatedMLFeaturization\n",
            "DETAILS:      \n",
            "+---------------------------------+---------------------------------+---------------------------------+\n",
            "|Column name                      |Missing value count              |Imputation type                  |\n",
            "+=================================+=================================+=================================+\n",
            "|Column18                         |2922                             |mean                             |\n",
            "|argon                            |253                              |mean                             |\n",
            "|chemical_x                       |78                               |mean                             |\n",
            "|crystal_weight                   |181                              |mean                             |\n",
            "|final_factor_x                   |2648                             |mean                             |\n",
            "|first_factor_x                   |2922                             |mean                             |\n",
            "|previous_adamantium              |199                              |mean                             |\n",
            "+---------------------------------+---------------------------------+---------------------------------+\n",
            "\n",
            "****************************************************************************************************\n",
            "\n",
            "TYPE:         High cardinality feature detection\n",
            "STATUS:       DONE\n",
            "DESCRIPTION:  The training data had the following high cardinality features which were excluded for training. Please review your data source and possibly filter out these columns. If you want to include these features for training, you can override column purpose with appropriate column type.\n",
            "              Learn more about high cardinality feature handling: https://aka.ms/AutomatedMLFeaturization\n",
            "DETAILS:      High cardinality features refer to columns that contain a large percentage of unique values.\n",
            "+---------------------------------+---------------------------------+\n",
            "|Column name                      |Column Content Type              |\n",
            "+=================================+=================================+\n",
            "|Index_group                      |hashes                           |\n",
            "+---------------------------------+---------------------------------+\n",
            "\n",
            "****************************************************************************************************\n",
            "Current status: ModelSelection. Beginning model selection.\n",
            "\n",
            "****************************************************************************************************\n",
            "ITERATION: The iteration being evaluated.\n",
            "PIPELINE: A summary description of the pipeline being evaluated.\n",
            "DURATION: Time taken for the current iteration.\n",
            "METRIC: The result of computing score on the fitted pipeline.\n",
            "BEST: The best observed score thus far.\n",
            "****************************************************************************************************\n",
            "\n",
            " ITERATION   PIPELINE                                       DURATION      METRIC      BEST\n",
            "         0   MaxAbsScaler LightGBM                          0:00:24       0.9981    0.9981\n",
            "         1   MaxAbsScaler XGBoostRegressor                  0:00:25       0.9848    0.9981\n",
            "         2   MaxAbsScaler RandomForest                      0:00:28       0.9386    0.9981\n",
            "         3   StandardScalerWrapper RandomForest             0:01:23       0.9457    0.9981\n",
            "         4   SparseNormalizer XGBoostRegressor              0:00:23       0.9607    0.9981\n",
            "         5   StandardScalerWrapper XGBoostRegressor         0:00:25       0.9881    0.9981\n",
            "         6   MaxAbsScaler RandomForest                      0:00:28       0.9703    0.9981\n",
            "         7   MaxAbsScaler RandomForest                      0:00:34       0.9807    0.9981\n",
            "         8   StandardScalerWrapper ElasticNet               0:00:21       0.9546    0.9981\n",
            "         9   StandardScalerWrapper DecisionTree             0:00:23       0.9600    0.9981\n",
            "        10   StandardScalerWrapper RandomForest             0:00:26       0.9208    0.9981\n",
            "        11   MaxAbsScaler ExtremeRandomTrees                0:00:47       0.9680    0.9981\n",
            "        12   MaxAbsScaler RandomForest                      0:00:25       0.9137    0.9981\n",
            "        13   MaxAbsScaler ExtremeRandomTrees                0:00:22       0.9489    0.9981\n",
            "        14   StandardScalerWrapper XGBoostRegressor         0:00:22       0.9558    0.9981\n",
            "        15   StandardScalerWrapper XGBoostRegressor         0:00:33       0.9964    0.9981\n",
            "        16   MaxAbsScaler GradientBoosting                  0:00:38       0.9612    0.9981\n",
            "        17   MaxAbsScaler ElasticNet                        0:00:25       0.9546    0.9981\n",
            "        18   StandardScalerWrapper XGBoostRegressor         0:00:33       0.9903    0.9981\n",
            "        19   StandardScalerWrapper ExtremeRandomTrees       0:00:29       0.9655    0.9981\n",
            "        20   MaxAbsScaler RandomForest                      0:00:24       0.9515    0.9981\n",
            "        21   StandardScalerWrapper ElasticNet               0:00:22       0.9546    0.9981\n",
            "        22   StandardScalerWrapper GradientBoosting         0:01:40       0.9921    0.9981\n",
            "        23   StandardScalerWrapper GradientBoosting         0:00:25       0.9642    0.9981\n",
            "        24   StandardScalerWrapper XGBoostRegressor         0:00:29       0.9900    0.9981\n",
            "        25   SparseNormalizer LightGBM                      0:00:24       0.8456    0.9981\n",
            "        26   VotingEnsemble                                 0:00:29       0.9977    0.9981\n",
            "        27   StackEnsemble                                  0:00:29       0.9982    0.9982\n",
            "Stopping criteria reached at iteration 28. Ending experiment.\n",
            "****************************************************************************************************\n",
            "Current status: BestRunExplainModel. Best run model explanations started\n",
            "Current status: ModelExplanationDataSetSetup. Model explanations data setup completed\n",
            "Current status: PickSurrogateModel. Choosing LightGBM as the surrogate model for explanations\n",
            "Current status: EngineeredFeatureExplanations. Computation of engineered features started\n",
            "Current status: EngineeredFeatureExplanations. Computation of engineered features completed\n",
            "Current status: RawFeaturesExplanations. Computation of raw features started\n",
            "Current status: RawFeaturesExplanations. Computation of raw features completed\n",
            "Current status: BestRunExplainModel. Best run model explanations completed\n",
            "****************************************************************************************************\n"
          ]
        }
      ],
      "execution_count": 23,
      "metadata": {
        "collapsed": true,
        "jupyter": {
          "source_hidden": false,
          "outputs_hidden": false
        },
        "nteract": {
          "transient": {
            "deleting": false
          }
        },
        "gather": {
          "logged": 1627478572367
        }
      }
    },
    {
      "cell_type": "code",
      "source": [
        "from azureml.widgets import RunDetails\r\n",
        "RunDetails(local_run).show()"
      ],
      "outputs": [
        {
          "output_type": "display_data",
          "data": {
            "text/plain": "_AutoMLWidget(widget_settings={'childWidgetDisplay': 'popup', 'send_telemetry': False, 'log_level': 'INFO', 's…",
            "application/vnd.jupyter.widget-view+json": {
              "version_major": 2,
              "version_minor": 0,
              "model_id": "46339968cb5f4c8fad64f29d061eaaca"
            }
          },
          "metadata": {}
        },
        {
          "output_type": "display_data",
          "data": {
            "application/aml.mini.widget.v1": "{\"status\": \"Completed\", \"workbench_run_details_uri\": \"https://ml.azure.com/runs/AutoML_473ef8aa-79fa-43c8-92f1-df26625d6d49?wsid=/subscriptions/ec0ad9e6-b046-4a60-81a6-c379f32c659e/resourcegroups/aml1/workspaces/amlocode-challenge&tid=a58d983a-cc64-44f1-bccb-580bc80f047b\", \"run_id\": \"AutoML_473ef8aa-79fa-43c8-92f1-df26625d6d49\", \"run_properties\": {\"run_id\": \"AutoML_473ef8aa-79fa-43c8-92f1-df26625d6d49\", \"created_utc\": \"2021-07-28T13:02:34.667235Z\", \"properties\": {\"num_iterations\": \"1000\", \"training_type\": \"TrainFull\", \"acquisition_function\": \"EI\", \"primary_metric\": \"spearman_correlation\", \"train_split\": \"0\", \"acquisition_parameter\": \"0\", \"num_cross_validation\": \"5\", \"target\": \"local\", \"AMLSettingsJsonString\": \"{\\\"path\\\":null,\\\"name\\\":\\\"CodeChallenge\\\",\\\"subscription_id\\\":\\\"ec0ad9e6-b046-4a60-81a6-c379f32c659e\\\",\\\"resource_group\\\":\\\"aml1\\\",\\\"workspace_name\\\":\\\"amlocode-challenge\\\",\\\"region\\\":\\\"eastus2\\\",\\\"compute_target\\\":\\\"local\\\",\\\"spark_service\\\":null,\\\"azure_service\\\":\\\"Microsoft.AzureNotebookVM\\\",\\\"many_models\\\":false,\\\"pipeline_fetch_max_batch_size\\\":1,\\\"enable_batch_run\\\":false,\\\"enable_run_restructure\\\":false,\\\"start_auxiliary_runs_before_parent_complete\\\":false,\\\"enable_code_generation\\\":false,\\\"iterations\\\":1000,\\\"primary_metric\\\":\\\"spearman_correlation\\\",\\\"task_type\\\":\\\"regression\\\",\\\"data_script\\\":null,\\\"test_size\\\":0.0,\\\"validation_size\\\":0.0,\\\"n_cross_validations\\\":5,\\\"y_min\\\":null,\\\"y_max\\\":null,\\\"num_classes\\\":null,\\\"featurization\\\":\\\"auto\\\",\\\"_ignore_package_version_incompatibilities\\\":false,\\\"is_timeseries\\\":false,\\\"max_cores_per_iteration\\\":1,\\\"max_concurrent_iterations\\\":1,\\\"iteration_timeout_minutes\\\":10,\\\"mem_in_mb\\\":null,\\\"enforce_time_on_windows\\\":false,\\\"experiment_timeout_minutes\\\":18,\\\"experiment_exit_score\\\":null,\\\"whitelist_models\\\":null,\\\"blacklist_algos\\\":[\\\"TensorFlowDNN\\\",\\\"TensorFlowLinearRegressor\\\"],\\\"supported_models\\\":[\\\"ElasticNet\\\",\\\"SGD\\\",\\\"TensorFlowLinearRegressor\\\",\\\"TensorFlowDNN\\\",\\\"FastLinearRegressor\\\",\\\"RandomForest\\\",\\\"LightGBM\\\",\\\"ExtremeRandomTrees\\\",\\\"GradientBoosting\\\",\\\"XGBoostRegressor\\\",\\\"OnlineGradientDescentRegressor\\\",\\\"LassoLars\\\",\\\"KNN\\\",\\\"DecisionTree\\\"],\\\"private_models\\\":[],\\\"auto_blacklist\\\":true,\\\"blacklist_samples_reached\\\":false,\\\"exclude_nan_labels\\\":true,\\\"verbosity\\\":20,\\\"_debug_log\\\":\\\"automated_ml_errors.log\\\",\\\"show_warnings\\\":false,\\\"model_explainability\\\":true,\\\"service_url\\\":null,\\\"sdk_url\\\":null,\\\"sdk_packages\\\":null,\\\"enable_onnx_compatible_models\\\":false,\\\"enable_split_onnx_featurizer_estimator_models\\\":false,\\\"vm_type\\\":null,\\\"telemetry_verbosity\\\":20,\\\"send_telemetry\\\":true,\\\"enable_dnn\\\":false,\\\"scenario\\\":\\\"SDK-1.13.0\\\",\\\"environment_label\\\":null,\\\"save_mlflow\\\":false,\\\"force_text_dnn\\\":false,\\\"enable_feature_sweeping\\\":true,\\\"enable_early_stopping\\\":true,\\\"early_stopping_n_iters\\\":10,\\\"metrics\\\":null,\\\"enable_metric_confidence\\\":false,\\\"enable_ensembling\\\":true,\\\"enable_stack_ensembling\\\":true,\\\"ensemble_iterations\\\":15,\\\"enable_tf\\\":false,\\\"enable_subsampling\\\":null,\\\"subsample_seed\\\":null,\\\"enable_nimbusml\\\":false,\\\"enable_streaming\\\":false,\\\"force_streaming\\\":false,\\\"track_child_runs\\\":true,\\\"allowed_private_models\\\":[],\\\"label_column_name\\\":\\\"target\\\",\\\"weight_column_name\\\":null,\\\"cv_split_column_names\\\":null,\\\"enable_local_managed\\\":false,\\\"_local_managed_run_id\\\":null,\\\"cost_mode\\\":1,\\\"lag_length\\\":0,\\\"metric_operation\\\":\\\"maximize\\\",\\\"preprocess\\\":true}\", \"DataPrepJsonString\": null, \"EnableSubsampling\": null, \"runTemplate\": \"AutoML\", \"azureml.runsource\": \"automl\", \"display_task_type\": \"regression\", \"dependencies_versions\": \"{\\\"azureml-widgets\\\": \\\"1.31.0\\\", \\\"azureml-train\\\": \\\"1.31.0\\\", \\\"azureml-train-restclients-hyperdrive\\\": \\\"1.31.0\\\", \\\"azureml-train-core\\\": \\\"1.31.0\\\", \\\"azureml-train-automl\\\": \\\"1.31.0\\\", \\\"azureml-train-automl-runtime\\\": \\\"1.31.0\\\", \\\"azureml-train-automl-client\\\": \\\"1.31.0\\\", \\\"azureml-tensorboard\\\": \\\"1.31.0\\\", \\\"azureml-telemetry\\\": \\\"1.31.0\\\", \\\"azureml-sdk\\\": \\\"1.31.0\\\", \\\"azureml-samples\\\": \\\"0+unknown\\\", \\\"azureml-responsibleai\\\": \\\"1.31.0\\\", \\\"azureml-pipeline\\\": \\\"1.31.0\\\", \\\"azureml-pipeline-steps\\\": \\\"1.31.0\\\", \\\"azureml-pipeline-core\\\": \\\"1.31.0\\\", \\\"azureml-opendatasets\\\": \\\"1.31.0\\\", \\\"azureml-model-management-sdk\\\": \\\"1.0.1b6.post1\\\", \\\"azureml-mlflow\\\": \\\"1.31.0\\\", \\\"azureml-interpret\\\": \\\"1.31.0\\\", \\\"azureml-explain-model\\\": \\\"1.31.0\\\", \\\"azureml-defaults\\\": \\\"1.31.0\\\", \\\"azureml-dataset-runtime\\\": \\\"1.31.0\\\", \\\"azureml-dataprep\\\": \\\"2.18.0\\\", \\\"azureml-dataprep-rslex\\\": \\\"1.16.1\\\", \\\"azureml-dataprep-native\\\": \\\"36.0.0\\\", \\\"azureml-datadrift\\\": \\\"1.31.0\\\", \\\"azureml-core\\\": \\\"1.31.0\\\", \\\"azureml-contrib-services\\\": \\\"1.31.0\\\", \\\"azureml-contrib-server\\\": \\\"1.31.0\\\", \\\"azureml-contrib-reinforcementlearning\\\": \\\"1.31.0\\\", \\\"azureml-contrib-pipeline-steps\\\": \\\"1.31.0\\\", \\\"azureml-contrib-notebook\\\": \\\"1.31.0\\\", \\\"azureml-contrib-fairness\\\": \\\"1.31.0\\\", \\\"azureml-contrib-dataset\\\": \\\"1.31.0\\\", \\\"azureml-cli-common\\\": \\\"1.31.0\\\", \\\"azureml-automl-runtime\\\": \\\"1.31.0\\\", \\\"azureml-automl-dnn-nlp\\\": \\\"1.31.0\\\", \\\"azureml-automl-core\\\": \\\"1.31.0\\\", \\\"azureml-accel-models\\\": \\\"1.31.0\\\"}\", \"_aml_system_scenario_identification\": \"Local.Parent\", \"ClientSdkVersion\": \"1.31.0\", \"ClientType\": \"SDK\", \"environment_cpu_name\": \"AzureML-AutoML\", \"environment_cpu_label\": \"prod\", \"environment_gpu_name\": \"AzureML-AutoML-GPU\", \"environment_gpu_label\": \"prod\", \"root_attribution\": \"automl\", \"attribution\": \"AutoML\", \"Orchestrator\": \"AutoML\", \"_azureml.ComputeTargetType\": \"local\", \"ProblemInfoJsonString\": \"{\\\"dataset_num_categorical\\\": 0, \\\"is_sparse\\\": true, \\\"subsampling\\\": false, \\\"has_extra_col\\\": true, \\\"dataset_classes\\\": 5865, \\\"dataset_features\\\": 57, \\\"dataset_samples\\\": 6835, \\\"single_frequency_class_detected\\\": false}\"}, \"tags\": {\"model_explain_run\": \"best_run\", \"best_score\": \"0.9982487413263781\", \"best_pipeline\": \"StackEnsemble\", \"automl_best_child_run_id\": \"AutoML_473ef8aa-79fa-43c8-92f1-df26625d6d49_27\", \"model_explain_best_run_child_id\": \"AutoML_473ef8aa-79fa-43c8-92f1-df26625d6d49_27\"}, \"end_time_utc\": \"2021-07-28T13:21:52.048273Z\", \"status\": \"Completed\", \"log_files\": {}, \"log_groups\": [], \"run_duration\": \"0:19:17\", \"run_number\": \"34\", \"run_queued_details\": {\"status\": \"Completed\", \"details\": null}}, \"child_runs\": [{\"run_id\": \"AutoML_473ef8aa-79fa-43c8-92f1-df26625d6d49_0\", \"run_number\": 35, \"metric\": null, \"status\": \"Completed\", \"run_type\": null, \"training_percent\": \"100\", \"start_time\": \"2021-07-28T13:06:06.041012Z\", \"end_time\": \"2021-07-28T13:06:30.572837Z\", \"created_time\": \"2021-07-28T13:06:05.914132Z\", \"created_time_dt\": \"2021-07-28T13:06:05.914132Z\", \"duration\": \"0:00:24\", \"iteration\": \"0\", \"goal\": \"spearman_correlation_max\", \"run_name\": \"MaxAbsScaler, LightGBM\", \"run_properties\": \"copy=True\", \"primary_metric\": 0.9980988, \"best_metric\": 0.9980988}, {\"run_id\": \"AutoML_473ef8aa-79fa-43c8-92f1-df26625d6d49_1\", \"run_number\": 36, \"metric\": null, \"status\": \"Completed\", \"run_type\": null, \"training_percent\": \"100\", \"start_time\": \"2021-07-28T13:06:30.935683Z\", \"end_time\": \"2021-07-28T13:06:56.476003Z\", \"created_time\": \"2021-07-28T13:06:30.76694Z\", \"created_time_dt\": \"2021-07-28T13:06:30.76694Z\", \"duration\": \"0:00:25\", \"iteration\": \"1\", \"goal\": \"spearman_correlation_max\", \"run_name\": \"MaxAbsScaler, XGBoostRegressor\", \"run_properties\": \"copy=True\", \"primary_metric\": 0.98477857, \"best_metric\": 0.9980988}, {\"run_id\": \"AutoML_473ef8aa-79fa-43c8-92f1-df26625d6d49_2\", \"run_number\": 37, \"metric\": null, \"status\": \"Completed\", \"run_type\": null, \"training_percent\": \"100\", \"start_time\": \"2021-07-28T13:06:57.084275Z\", \"end_time\": \"2021-07-28T13:07:25.652212Z\", \"created_time\": \"2021-07-28T13:06:56.984931Z\", \"created_time_dt\": \"2021-07-28T13:06:56.984931Z\", \"duration\": \"0:00:28\", \"iteration\": \"2\", \"goal\": \"spearman_correlation_max\", \"run_name\": \"MaxAbsScaler, RandomForest\", \"run_properties\": \"copy=True\", \"primary_metric\": 0.93860376, \"best_metric\": 0.9980988}, {\"run_id\": \"AutoML_473ef8aa-79fa-43c8-92f1-df26625d6d49_3\", \"run_number\": 38, \"metric\": null, \"status\": \"Completed\", \"run_type\": null, \"training_percent\": \"100\", \"start_time\": \"2021-07-28T13:07:27.007447Z\", \"end_time\": \"2021-07-28T13:08:50.67837Z\", \"created_time\": \"2021-07-28T13:07:26.901279Z\", \"created_time_dt\": \"2021-07-28T13:07:26.901279Z\", \"duration\": \"0:01:23\", \"iteration\": \"3\", \"goal\": \"spearman_correlation_max\", \"run_name\": \"StandardScalerWrapper, RandomForest\", \"run_properties\": \"\\n    copy=True,\\n    with_mean=False,\\n    with_std=True\\n\", \"primary_metric\": 0.94567175, \"best_metric\": 0.9980988}, {\"run_id\": \"AutoML_473ef8aa-79fa-43c8-92f1-df26625d6d49_4\", \"run_number\": 39, \"metric\": null, \"status\": \"Completed\", \"run_type\": null, \"training_percent\": \"100\", \"start_time\": \"2021-07-28T13:08:51.906085Z\", \"end_time\": \"2021-07-28T13:09:15.475505Z\", \"created_time\": \"2021-07-28T13:08:51.794247Z\", \"created_time_dt\": \"2021-07-28T13:08:51.794247Z\", \"duration\": \"0:00:23\", \"iteration\": \"4\", \"goal\": \"spearman_correlation_max\", \"run_name\": \"SparseNormalizer, XGBoostRegressor\", \"run_properties\": \"copy=True, norm='l1'\", \"primary_metric\": 0.96072158, \"best_metric\": 0.9980988}, {\"run_id\": \"AutoML_473ef8aa-79fa-43c8-92f1-df26625d6d49_5\", \"run_number\": 40, \"metric\": null, \"status\": \"Completed\", \"run_type\": null, \"training_percent\": \"100\", \"start_time\": \"2021-07-28T13:09:16.680792Z\", \"end_time\": \"2021-07-28T13:09:42.295175Z\", \"created_time\": \"2021-07-28T13:09:16.563239Z\", \"created_time_dt\": \"2021-07-28T13:09:16.563239Z\", \"duration\": \"0:00:25\", \"iteration\": \"5\", \"goal\": \"spearman_correlation_max\", \"run_name\": \"StandardScalerWrapper, XGBoostRegressor\", \"run_properties\": \"\\n    copy=True,\\n    with_mean=False,\\n    with_std=False\\n\", \"primary_metric\": 0.98813367, \"best_metric\": 0.9980988}, {\"run_id\": \"AutoML_473ef8aa-79fa-43c8-92f1-df26625d6d49_6\", \"run_number\": 41, \"metric\": null, \"status\": \"Completed\", \"run_type\": null, \"training_percent\": \"100\", \"start_time\": \"2021-07-28T13:09:43.496757Z\", \"end_time\": \"2021-07-28T13:10:11.688199Z\", \"created_time\": \"2021-07-28T13:09:43.386126Z\", \"created_time_dt\": \"2021-07-28T13:09:43.386126Z\", \"duration\": \"0:00:28\", \"iteration\": \"6\", \"goal\": \"spearman_correlation_max\", \"run_name\": \"MaxAbsScaler, RandomForest\", \"run_properties\": \"copy=True\", \"primary_metric\": 0.97029384, \"best_metric\": 0.9980988}, {\"run_id\": \"AutoML_473ef8aa-79fa-43c8-92f1-df26625d6d49_7\", \"run_number\": 42, \"metric\": null, \"status\": \"Completed\", \"run_type\": null, \"training_percent\": \"100\", \"start_time\": \"2021-07-28T13:10:13.039912Z\", \"end_time\": \"2021-07-28T13:10:47.909418Z\", \"created_time\": \"2021-07-28T13:10:12.919422Z\", \"created_time_dt\": \"2021-07-28T13:10:12.919422Z\", \"duration\": \"0:00:34\", \"iteration\": \"7\", \"goal\": \"spearman_correlation_max\", \"run_name\": \"MaxAbsScaler, RandomForest\", \"run_properties\": \"copy=True\", \"primary_metric\": 0.98065579, \"best_metric\": 0.9980988}, {\"run_id\": \"AutoML_473ef8aa-79fa-43c8-92f1-df26625d6d49_8\", \"run_number\": 43, \"metric\": null, \"status\": \"Completed\", \"run_type\": null, \"training_percent\": \"100\", \"start_time\": \"2021-07-28T13:10:49.270083Z\", \"end_time\": \"2021-07-28T13:11:10.506274Z\", \"created_time\": \"2021-07-28T13:10:49.163371Z\", \"created_time_dt\": \"2021-07-28T13:10:49.163371Z\", \"duration\": \"0:00:21\", \"iteration\": \"8\", \"goal\": \"spearman_correlation_max\", \"run_name\": \"StandardScalerWrapper, ElasticNet\", \"run_properties\": \"\\n    copy=True,\\n    with_mean=False,\\n    with_std=True\\n\", \"primary_metric\": 0.95462068, \"best_metric\": 0.9980988}, {\"run_id\": \"AutoML_473ef8aa-79fa-43c8-92f1-df26625d6d49_9\", \"run_number\": 44, \"metric\": null, \"status\": \"Completed\", \"run_type\": null, \"training_percent\": \"100\", \"start_time\": \"2021-07-28T13:11:11.676251Z\", \"end_time\": \"2021-07-28T13:11:35.265341Z\", \"created_time\": \"2021-07-28T13:11:11.570917Z\", \"created_time_dt\": \"2021-07-28T13:11:11.570917Z\", \"duration\": \"0:00:23\", \"iteration\": \"9\", \"goal\": \"spearman_correlation_max\", \"run_name\": \"StandardScalerWrapper, DecisionTree\", \"run_properties\": \"\\n    copy=True,\\n    with_mean=False,\\n    with_std=False\\n\", \"primary_metric\": 0.95996448, \"best_metric\": 0.9980988}, {\"run_id\": \"AutoML_473ef8aa-79fa-43c8-92f1-df26625d6d49_10\", \"run_number\": 45, \"metric\": null, \"status\": \"Completed\", \"run_type\": null, \"training_percent\": \"100\", \"start_time\": \"2021-07-28T13:11:36.741146Z\", \"end_time\": \"2021-07-28T13:12:03.297572Z\", \"created_time\": \"2021-07-28T13:11:36.624221Z\", \"created_time_dt\": \"2021-07-28T13:11:36.624221Z\", \"duration\": \"0:00:26\", \"iteration\": \"10\", \"goal\": \"spearman_correlation_max\", \"run_name\": \"StandardScalerWrapper, RandomForest\", \"run_properties\": \"\\n    copy=True,\\n    with_mean=False,\\n    with_std=True\\n\", \"primary_metric\": 0.92082208, \"best_metric\": 0.9980988}, {\"run_id\": \"AutoML_473ef8aa-79fa-43c8-92f1-df26625d6d49_11\", \"run_number\": 46, \"metric\": null, \"status\": \"Completed\", \"run_type\": null, \"training_percent\": \"100\", \"start_time\": \"2021-07-28T13:12:04.71944Z\", \"end_time\": \"2021-07-28T13:12:52.581828Z\", \"created_time\": \"2021-07-28T13:12:04.597235Z\", \"created_time_dt\": \"2021-07-28T13:12:04.597235Z\", \"duration\": \"0:00:47\", \"iteration\": \"11\", \"goal\": \"spearman_correlation_max\", \"run_name\": \"MaxAbsScaler, ExtremeRandomTrees\", \"run_properties\": \"copy=True\", \"primary_metric\": 0.96803763, \"best_metric\": 0.9980988}, {\"run_id\": \"AutoML_473ef8aa-79fa-43c8-92f1-df26625d6d49_12\", \"run_number\": 47, \"metric\": null, \"status\": \"Completed\", \"run_type\": null, \"training_percent\": \"100\", \"start_time\": \"2021-07-28T13:12:53.982528Z\", \"end_time\": \"2021-07-28T13:13:19.40655Z\", \"created_time\": \"2021-07-28T13:12:53.879286Z\", \"created_time_dt\": \"2021-07-28T13:12:53.879286Z\", \"duration\": \"0:00:25\", \"iteration\": \"12\", \"goal\": \"spearman_correlation_max\", \"run_name\": \"MaxAbsScaler, RandomForest\", \"run_properties\": \"copy=True\", \"primary_metric\": 0.91369114, \"best_metric\": 0.9980988}, {\"run_id\": \"AutoML_473ef8aa-79fa-43c8-92f1-df26625d6d49_13\", \"run_number\": 48, \"metric\": null, \"status\": \"Completed\", \"run_type\": null, \"training_percent\": \"100\", \"start_time\": \"2021-07-28T13:13:20.588287Z\", \"end_time\": \"2021-07-28T13:13:43.418137Z\", \"created_time\": \"2021-07-28T13:13:20.471083Z\", \"created_time_dt\": \"2021-07-28T13:13:20.471083Z\", \"duration\": \"0:00:22\", \"iteration\": \"13\", \"goal\": \"spearman_correlation_max\", \"run_name\": \"MaxAbsScaler, ExtremeRandomTrees\", \"run_properties\": \"copy=True\", \"primary_metric\": 0.94891837, \"best_metric\": 0.9980988}, {\"run_id\": \"AutoML_473ef8aa-79fa-43c8-92f1-df26625d6d49_14\", \"run_number\": 49, \"metric\": null, \"status\": \"Completed\", \"run_type\": null, \"training_percent\": \"100\", \"start_time\": \"2021-07-28T13:13:45.939524Z\", \"end_time\": \"2021-07-28T13:14:08.486408Z\", \"created_time\": \"2021-07-28T13:13:45.802168Z\", \"created_time_dt\": \"2021-07-28T13:13:45.802168Z\", \"duration\": \"0:00:22\", \"iteration\": \"14\", \"goal\": \"spearman_correlation_max\", \"run_name\": \"StandardScalerWrapper, XGBoostRegressor\", \"run_properties\": \"\\n    copy=True,\\n    with_mean=False,\\n    with_std=False\\n\", \"primary_metric\": 0.9558244, \"best_metric\": 0.9980988}, {\"run_id\": \"AutoML_473ef8aa-79fa-43c8-92f1-df26625d6d49_15\", \"run_number\": 50, \"metric\": null, \"status\": \"Completed\", \"run_type\": null, \"training_percent\": \"100\", \"start_time\": \"2021-07-28T13:14:10.282401Z\", \"end_time\": \"2021-07-28T13:14:43.828441Z\", \"created_time\": \"2021-07-28T13:14:10.172134Z\", \"created_time_dt\": \"2021-07-28T13:14:10.172134Z\", \"duration\": \"0:00:33\", \"iteration\": \"15\", \"goal\": \"spearman_correlation_max\", \"run_name\": \"StandardScalerWrapper, XGBoostRegressor\", \"run_properties\": \"\\n    copy=True,\\n    with_mean=False,\\n    with_std=False\\n\", \"primary_metric\": 0.99642739, \"best_metric\": 0.9980988}, {\"run_id\": \"AutoML_473ef8aa-79fa-43c8-92f1-df26625d6d49_16\", \"run_number\": 51, \"metric\": null, \"status\": \"Completed\", \"run_type\": null, \"training_percent\": \"100\", \"start_time\": \"2021-07-28T13:14:45.937347Z\", \"end_time\": \"2021-07-28T13:15:23.843222Z\", \"created_time\": \"2021-07-28T13:14:45.817323Z\", \"created_time_dt\": \"2021-07-28T13:14:45.817323Z\", \"duration\": \"0:00:38\", \"iteration\": \"16\", \"goal\": \"spearman_correlation_max\", \"run_name\": \"MaxAbsScaler, GradientBoosting\", \"run_properties\": \"copy=True\", \"primary_metric\": 0.96116727, \"best_metric\": 0.9980988}, {\"run_id\": \"AutoML_473ef8aa-79fa-43c8-92f1-df26625d6d49_17\", \"run_number\": 52, \"metric\": null, \"status\": \"Completed\", \"run_type\": null, \"training_percent\": \"100\", \"start_time\": \"2021-07-28T13:15:25.221111Z\", \"end_time\": \"2021-07-28T13:15:51.007949Z\", \"created_time\": \"2021-07-28T13:15:25.110503Z\", \"created_time_dt\": \"2021-07-28T13:15:25.110503Z\", \"duration\": \"0:00:25\", \"iteration\": \"17\", \"goal\": \"spearman_correlation_max\", \"run_name\": \"MaxAbsScaler, ElasticNet\", \"run_properties\": \"copy=True\", \"primary_metric\": 0.95456752, \"best_metric\": 0.9980988}, {\"run_id\": \"AutoML_473ef8aa-79fa-43c8-92f1-df26625d6d49_18\", \"run_number\": 53, \"metric\": null, \"status\": \"Completed\", \"run_type\": null, \"training_percent\": \"100\", \"start_time\": \"2021-07-28T13:15:52.262855Z\", \"end_time\": \"2021-07-28T13:16:25.73613Z\", \"created_time\": \"2021-07-28T13:15:52.152075Z\", \"created_time_dt\": \"2021-07-28T13:15:52.152075Z\", \"duration\": \"0:00:33\", \"iteration\": \"18\", \"goal\": \"spearman_correlation_max\", \"run_name\": \"StandardScalerWrapper, XGBoostRegressor\", \"run_properties\": \"\\n    copy=True,\\n    with_mean=False,\\n    with_std=False\\n\", \"primary_metric\": 0.99031019, \"best_metric\": 0.9980988}, {\"run_id\": \"AutoML_473ef8aa-79fa-43c8-92f1-df26625d6d49_19\", \"run_number\": 54, \"metric\": null, \"status\": \"Completed\", \"run_type\": null, \"training_percent\": \"100\", \"start_time\": \"2021-07-28T13:16:27.132198Z\", \"end_time\": \"2021-07-28T13:16:56.593019Z\", \"created_time\": \"2021-07-28T13:16:27.025419Z\", \"created_time_dt\": \"2021-07-28T13:16:27.025419Z\", \"duration\": \"0:00:29\", \"iteration\": \"19\", \"goal\": \"spearman_correlation_max\", \"run_name\": \"StandardScalerWrapper, ExtremeRandomTrees\", \"run_properties\": \"\\n    copy=True,\\n    with_mean=False,\\n    with_std=False\\n\", \"primary_metric\": 0.96547103, \"best_metric\": 0.9980988}, {\"run_id\": \"AutoML_473ef8aa-79fa-43c8-92f1-df26625d6d49_20\", \"run_number\": 55, \"metric\": null, \"status\": \"Completed\", \"run_type\": null, \"training_percent\": \"100\", \"start_time\": \"2021-07-28T13:16:57.938134Z\", \"end_time\": \"2021-07-28T13:17:22.214884Z\", \"created_time\": \"2021-07-28T13:16:57.810525Z\", \"created_time_dt\": \"2021-07-28T13:16:57.810525Z\", \"duration\": \"0:00:24\", \"iteration\": \"20\", \"goal\": \"spearman_correlation_max\", \"run_name\": \"MaxAbsScaler, RandomForest\", \"run_properties\": \"copy=True\", \"primary_metric\": 0.95148596, \"best_metric\": 0.9980988}, {\"run_id\": \"AutoML_473ef8aa-79fa-43c8-92f1-df26625d6d49_21\", \"run_number\": 56, \"metric\": null, \"status\": \"Completed\", \"run_type\": null, \"training_percent\": \"100\", \"start_time\": \"2021-07-28T13:17:23.412222Z\", \"end_time\": \"2021-07-28T13:17:45.904627Z\", \"created_time\": \"2021-07-28T13:17:23.312581Z\", \"created_time_dt\": \"2021-07-28T13:17:23.312581Z\", \"duration\": \"0:00:22\", \"iteration\": \"21\", \"goal\": \"spearman_correlation_max\", \"run_name\": \"StandardScalerWrapper, ElasticNet\", \"run_properties\": \"\\n    copy=True,\\n    with_mean=False,\\n    with_std=True\\n\", \"primary_metric\": 0.95456629, \"best_metric\": 0.9980988}, {\"run_id\": \"AutoML_473ef8aa-79fa-43c8-92f1-df26625d6d49_22\", \"run_number\": 57, \"metric\": null, \"status\": \"Completed\", \"run_type\": null, \"training_percent\": \"100\", \"start_time\": \"2021-07-28T13:17:47.106129Z\", \"end_time\": \"2021-07-28T13:19:27.149007Z\", \"created_time\": \"2021-07-28T13:17:46.993246Z\", \"created_time_dt\": \"2021-07-28T13:17:46.993246Z\", \"duration\": \"0:01:40\", \"iteration\": \"22\", \"goal\": \"spearman_correlation_max\", \"run_name\": \"StandardScalerWrapper, GradientBoosting\", \"run_properties\": \"\\n    copy=True,\\n    with_mean=False,\\n    with_std=False\\n\", \"primary_metric\": 0.99206233, \"best_metric\": 0.9980988}, {\"run_id\": \"AutoML_473ef8aa-79fa-43c8-92f1-df26625d6d49_23\", \"run_number\": 58, \"metric\": null, \"status\": \"Completed\", \"run_type\": null, \"training_percent\": \"100\", \"start_time\": \"2021-07-28T13:19:28.696881Z\", \"end_time\": \"2021-07-28T13:19:54.563521Z\", \"created_time\": \"2021-07-28T13:19:28.591383Z\", \"created_time_dt\": \"2021-07-28T13:19:28.591383Z\", \"duration\": \"0:00:25\", \"iteration\": \"23\", \"goal\": \"spearman_correlation_max\", \"run_name\": \"StandardScalerWrapper, GradientBoosting\", \"run_properties\": \"\\n    copy=True,\\n    with_mean=False,\\n    with_std=True\\n\", \"primary_metric\": 0.96419969, \"best_metric\": 0.9980988}, {\"run_id\": \"AutoML_473ef8aa-79fa-43c8-92f1-df26625d6d49_24\", \"run_number\": 59, \"metric\": null, \"status\": \"Completed\", \"run_type\": null, \"training_percent\": \"100\", \"start_time\": \"2021-07-28T13:19:55.662664Z\", \"end_time\": \"2021-07-28T13:20:25.049076Z\", \"created_time\": \"2021-07-28T13:19:55.547823Z\", \"created_time_dt\": \"2021-07-28T13:19:55.547823Z\", \"duration\": \"0:00:29\", \"iteration\": \"24\", \"goal\": \"spearman_correlation_max\", \"run_name\": \"StandardScalerWrapper, XGBoostRegressor\", \"run_properties\": \"\\n    copy=True,\\n    with_mean=False,\\n    with_std=False\\n\", \"primary_metric\": 0.98995191, \"best_metric\": 0.9980988}, {\"run_id\": \"AutoML_473ef8aa-79fa-43c8-92f1-df26625d6d49_25\", \"run_number\": 60, \"metric\": null, \"status\": \"Completed\", \"run_type\": null, \"training_percent\": \"100\", \"start_time\": \"2021-07-28T13:20:27.185815Z\", \"end_time\": \"2021-07-28T13:20:51.778058Z\", \"created_time\": \"2021-07-28T13:20:27.061782Z\", \"created_time_dt\": \"2021-07-28T13:20:27.061782Z\", \"duration\": \"0:00:24\", \"iteration\": \"25\", \"goal\": \"spearman_correlation_max\", \"run_name\": \"SparseNormalizer, LightGBM\", \"run_properties\": \"copy=True, norm='l2'\", \"primary_metric\": 0.8455806, \"best_metric\": 0.9980988}, {\"run_id\": \"AutoML_473ef8aa-79fa-43c8-92f1-df26625d6d49_26\", \"run_number\": 61, \"metric\": null, \"status\": \"Completed\", \"run_type\": null, \"training_percent\": \"100\", \"start_time\": \"2021-07-28T13:20:52.197956Z\", \"end_time\": \"2021-07-28T13:21:21.873078Z\", \"created_time\": \"2021-07-28T13:20:51.973553Z\", \"created_time_dt\": \"2021-07-28T13:20:51.973553Z\", \"duration\": \"0:00:29\", \"iteration\": \"26\", \"goal\": \"spearman_correlation_max\", \"run_name\": \"VotingEnsemble\", \"run_properties\": \"\\n    estimators=[('0', Pipeline(memory=None,\\n             steps=[('maxabsscaler', MaxAbsScaler(copy=True\", \"primary_metric\": 0.99766777, \"best_metric\": 0.9980988}, {\"run_id\": \"AutoML_473ef8aa-79fa-43c8-92f1-df26625d6d49_27\", \"run_number\": 62, \"metric\": null, \"status\": \"Completed\", \"run_type\": null, \"training_percent\": \"100\", \"start_time\": \"2021-07-28T13:21:22.298739Z\", \"end_time\": \"2021-07-28T13:21:51.732458Z\", \"created_time\": \"2021-07-28T13:21:22.155323Z\", \"created_time_dt\": \"2021-07-28T13:21:22.155323Z\", \"duration\": \"0:00:29\", \"iteration\": \"27\", \"goal\": \"spearman_correlation_max\", \"run_name\": \"StackEnsemble\", \"run_properties\": \"\\n    base_learners=[('0', Pipeline(memory=None,\\n             steps=[('maxabsscaler', MaxAbsScaler(copy=True\", \"primary_metric\": 0.99824874, \"best_metric\": 0.99824874}], \"children_metrics\": {\"categories\": [0], \"series\": {\"mean_absolute_percentage_error\": [{\"categories\": [\"0\", \"1\", \"2\", \"3\", \"4\", \"5\", \"6\", \"7\", \"8\", \"9\", \"10\", \"11\", \"12\", \"13\", \"14\", \"15\", \"16\", \"17\", \"18\", \"19\", \"20\", \"21\", \"22\", \"23\", \"24\", \"25\", \"26\", \"27\"], \"mode\": \"markers\", \"name\": \"mean_absolute_percentage_error\", \"stepped\": false, \"type\": \"scatter\", \"data\": [5.20092445191923, 14.194304874948733, 97.99243600733465, 98.45983566298376, 33.26112167830128, 10.917505399453313, 16.448543421491024, 11.3467280987851, 27.268893281692385, 14.96140608085604, 107.80829600000284, 14.50433359483128, 112.68287463045081, 54.505570295307734, 27.235195293544173, 7.707497087107733, 29.23890744948079, 26.07369548412485, 12.882755917497764, 34.45209943833454, 41.32944305136185, 28.74635623800983, 7.010122735175048, 22.00684263605061, 9.112512473269438, 63.302036894498045, 5.320022133846884, 5.698304640075865]}, {\"categories\": [\"0\", \"1\", \"2\", \"3\", \"4\", \"5\", \"6\", \"7\", \"8\", \"9\", \"10\", \"11\", \"12\", \"13\", \"14\", \"15\", \"16\", \"17\", \"18\", \"19\", \"20\", \"21\", \"22\", \"23\", \"24\", \"25\", \"26\", \"27\"], \"mode\": \"lines\", \"name\": \"mean_absolute_percentage_error_min\", \"stepped\": true, \"type\": \"scatter\", \"data\": [5.20092445191923, 5.20092445191923, 5.20092445191923, 5.20092445191923, 5.20092445191923, 5.20092445191923, 5.20092445191923, 5.20092445191923, 5.20092445191923, 5.20092445191923, 5.20092445191923, 5.20092445191923, 5.20092445191923, 5.20092445191923, 5.20092445191923, 5.20092445191923, 5.20092445191923, 5.20092445191923, 5.20092445191923, 5.20092445191923, 5.20092445191923, 5.20092445191923, 5.20092445191923, 5.20092445191923, 5.20092445191923, 5.20092445191923, 5.20092445191923, 5.20092445191923]}], \"median_absolute_error\": [{\"categories\": [\"0\", \"1\", \"2\", \"3\", \"4\", \"5\", \"6\", \"7\", \"8\", \"9\", \"10\", \"11\", \"12\", \"13\", \"14\", \"15\", \"16\", \"17\", \"18\", \"19\", \"20\", \"21\", \"22\", \"23\", \"24\", \"25\", \"26\", \"27\"], \"mode\": \"markers\", \"name\": \"median_absolute_error\", \"stepped\": false, \"type\": \"scatter\", \"data\": [1.8696650748870582, 5.229776979915428, 18.130690067131045, 17.739772367282345, 10.575584849004247, 5.7017884494228515, 8.02075797615047, 6.003728741798202, 10.452508285330564, 8.997658077808811, 19.443086032527784, 8.9341307526845, 20.8697282816065, 14.279299183091236, 9.241925197592188, 2.537785459442503, 9.62608051388345, 10.313051690295673, 5.725356653029299, 10.58581965462223, 11.829236120063603, 10.795774218521425, 2.261311868663765, 7.592756363732752, 4.324538232720707, 20.172145053874317, 2.089422726015252, 1.7964102229891743]}, {\"categories\": [\"0\", \"1\", \"2\", \"3\", \"4\", \"5\", \"6\", \"7\", \"8\", \"9\", \"10\", \"11\", \"12\", \"13\", \"14\", \"15\", \"16\", \"17\", \"18\", \"19\", \"20\", \"21\", \"22\", \"23\", \"24\", \"25\", \"26\", \"27\"], \"mode\": \"lines\", \"name\": \"median_absolute_error_min\", \"stepped\": true, \"type\": \"scatter\", \"data\": [1.8696650748870582, 1.8696650748870582, 1.8696650748870582, 1.8696650748870582, 1.8696650748870582, 1.8696650748870582, 1.8696650748870582, 1.8696650748870582, 1.8696650748870582, 1.8696650748870582, 1.8696650748870582, 1.8696650748870582, 1.8696650748870582, 1.8696650748870582, 1.8696650748870582, 1.8696650748870582, 1.8696650748870582, 1.8696650748870582, 1.8696650748870582, 1.8696650748870582, 1.8696650748870582, 1.8696650748870582, 1.8696650748870582, 1.8696650748870582, 1.8696650748870582, 1.8696650748870582, 1.8696650748870582, 1.7964102229891743]}], \"explained_variance\": [{\"categories\": [\"0\", \"1\", \"2\", \"3\", \"4\", \"5\", \"6\", \"7\", \"8\", \"9\", \"10\", \"11\", \"12\", \"13\", \"14\", \"15\", \"16\", \"17\", \"18\", \"19\", \"20\", \"21\", \"22\", \"23\", \"24\", \"25\", \"26\", \"27\"], \"mode\": \"markers\", \"name\": \"explained_variance\", \"stepped\": false, \"type\": \"scatter\", \"data\": [0.9940387500727261, 0.9569177020715909, 0.7570555008872704, 0.7598114400750888, 0.8840929843774166, 0.9562348522842313, 0.9251923581908971, 0.9541929958729591, 0.8761522229920946, 0.9016641493641139, 0.7166020164072139, 0.9168672053590055, 0.692838086518712, 0.8382673947335795, 0.873303016374852, 0.9899425988156043, 0.8920865462409179, 0.8764186190303981, 0.9602890230535245, 0.9013118299582512, 0.8697234045797924, 0.8753897888870809, 0.9672612552052859, 0.8990156790341194, 0.9725568690288409, 0.6892858156230731, 0.9921140048542636, 0.9945619487968813]}, {\"categories\": [\"0\", \"1\", \"2\", \"3\", \"4\", \"5\", \"6\", \"7\", \"8\", \"9\", \"10\", \"11\", \"12\", \"13\", \"14\", \"15\", \"16\", \"17\", \"18\", \"19\", \"20\", \"21\", \"22\", \"23\", \"24\", \"25\", \"26\", \"27\"], \"mode\": \"lines\", \"name\": \"explained_variance_max\", \"stepped\": true, \"type\": \"scatter\", \"data\": [0.9940387500727261, 0.9940387500727261, 0.9940387500727261, 0.9940387500727261, 0.9940387500727261, 0.9940387500727261, 0.9940387500727261, 0.9940387500727261, 0.9940387500727261, 0.9940387500727261, 0.9940387500727261, 0.9940387500727261, 0.9940387500727261, 0.9940387500727261, 0.9940387500727261, 0.9940387500727261, 0.9940387500727261, 0.9940387500727261, 0.9940387500727261, 0.9940387500727261, 0.9940387500727261, 0.9940387500727261, 0.9940387500727261, 0.9940387500727261, 0.9940387500727261, 0.9940387500727261, 0.9940387500727261, 0.9945619487968813]}], \"spearman_correlation\": [{\"categories\": [\"0\", \"1\", \"2\", \"3\", \"4\", \"5\", \"6\", \"7\", \"8\", \"9\", \"10\", \"11\", \"12\", \"13\", \"14\", \"15\", \"16\", \"17\", \"18\", \"19\", \"20\", \"21\", \"22\", \"23\", \"24\", \"25\", \"26\", \"27\"], \"mode\": \"markers\", \"name\": \"spearman_correlation\", \"stepped\": false, \"type\": \"scatter\", \"data\": [0.99809880335088, 0.9847785711269929, 0.9386037560202549, 0.9456717524194532, 0.9607215797649298, 0.9881336651929769, 0.9702938362764504, 0.9806557900419517, 0.954620679560397, 0.95996447734541, 0.9208220825347422, 0.9680376304649814, 0.9136911431207281, 0.9489183716406696, 0.9558244033760277, 0.9964273897743876, 0.9611672712970408, 0.9545675196475383, 0.9903101872104226, 0.9654710332271315, 0.9514859565300776, 0.9545662893466075, 0.9920623304900558, 0.9641996857930577, 0.9899519126656321, 0.8455806013766004, 0.9976677732505401, 0.9982487413263781]}, {\"categories\": [\"0\", \"1\", \"2\", \"3\", \"4\", \"5\", \"6\", \"7\", \"8\", \"9\", \"10\", \"11\", \"12\", \"13\", \"14\", \"15\", \"16\", \"17\", \"18\", \"19\", \"20\", \"21\", \"22\", \"23\", \"24\", \"25\", \"26\", \"27\"], \"mode\": \"lines\", \"name\": \"spearman_correlation_max\", \"stepped\": true, \"type\": \"scatter\", \"data\": [0.99809880335088, 0.99809880335088, 0.99809880335088, 0.99809880335088, 0.99809880335088, 0.99809880335088, 0.99809880335088, 0.99809880335088, 0.99809880335088, 0.99809880335088, 0.99809880335088, 0.99809880335088, 0.99809880335088, 0.99809880335088, 0.99809880335088, 0.99809880335088, 0.99809880335088, 0.99809880335088, 0.99809880335088, 0.99809880335088, 0.99809880335088, 0.99809880335088, 0.99809880335088, 0.99809880335088, 0.99809880335088, 0.99809880335088, 0.99809880335088, 0.9982487413263781]}], \"root_mean_squared_log_error\": [{\"categories\": [\"0\", \"1\", \"2\", \"3\", \"4\", \"5\", \"6\", \"7\", \"8\", \"9\", \"10\", \"11\", \"12\", \"13\", \"14\", \"15\", \"16\", \"17\", \"18\", \"19\", \"20\", \"21\", \"22\", \"23\", \"24\", \"25\", \"26\", \"27\"], \"mode\": \"markers\", \"name\": \"root_mean_squared_log_error\", \"stepped\": false, \"type\": \"scatter\", \"data\": [NaN, NaN, 0.6315729266201273, 0.6321491953246412, NaN, 0.1429616859659851, 0.1893812068290409, 0.1387813281742298, NaN, 0.176050501069638, 0.6628797438688208, 0.16455478796867334, 0.6793998047078358, 0.4486706086059994, 0.2965843877107671, NaN, NaN, NaN, 0.16178680945284266, 0.3417327007512537, 0.3825799384150802, NaN, 0.1116053636838077, 0.25391256760334036, 0.11658298755026911, NaN, NaN, NaN]}, {\"categories\": [\"0\", \"1\", \"2\", \"3\", \"4\", \"5\", \"6\", \"7\", \"8\", \"9\", \"10\", \"11\", \"12\", \"13\", \"14\", \"15\", \"16\", \"17\", \"18\", \"19\", \"20\", \"21\", \"22\", \"23\", \"24\", \"25\", \"26\", \"27\"], \"mode\": \"lines\", \"name\": \"root_mean_squared_log_error_min\", \"stepped\": true, \"type\": \"scatter\", \"data\": [NaN, NaN, 0.6315729266201273, 0.6315729266201273, 0.6315729266201273, 0.1429616859659851, 0.1429616859659851, 0.1387813281742298, 0.1387813281742298, 0.1387813281742298, 0.1387813281742298, 0.1387813281742298, 0.1387813281742298, 0.1387813281742298, 0.1387813281742298, 0.1387813281742298, 0.1387813281742298, 0.1387813281742298, 0.1387813281742298, 0.1387813281742298, 0.1387813281742298, 0.1387813281742298, 0.1116053636838077, 0.1116053636838077, 0.1116053636838077, 0.1116053636838077, 0.1116053636838077, 0.1116053636838077]}], \"normalized_mean_absolute_error\": [{\"categories\": [\"0\", \"1\", \"2\", \"3\", \"4\", \"5\", \"6\", \"7\", \"8\", \"9\", \"10\", \"11\", \"12\", \"13\", \"14\", \"15\", \"16\", \"17\", \"18\", \"19\", \"20\", \"21\", \"22\", \"23\", \"24\", \"25\", \"26\", \"27\"], \"mode\": \"markers\", \"name\": \"normalized_mean_absolute_error\", \"stepped\": false, \"type\": \"scatter\", \"data\": [0.010908535608821168, 0.03073117399402045, 0.08295136468006094, 0.08227490397002687, 0.05352903332748883, 0.03578335234980152, 0.042698958439580714, 0.03258451982881433, 0.05538066632010554, 0.04831017305970319, 0.08956453389338229, 0.04540063368083498, 0.09401220144162883, 0.06611177459569621, 0.05483598510441808, 0.014694869399501622, 0.05081809883897476, 0.05524203498600501, 0.03531814030443851, 0.050713438232185284, 0.05812715749908624, 0.055709802518439475, 0.021143730048323036, 0.04634419288078168, 0.025003353762828927, 0.09317297735718354, 0.012458950561471664, 0.010450157616959315]}, {\"categories\": [\"0\", \"1\", \"2\", \"3\", \"4\", \"5\", \"6\", \"7\", \"8\", \"9\", \"10\", \"11\", \"12\", \"13\", \"14\", \"15\", \"16\", \"17\", \"18\", \"19\", \"20\", \"21\", \"22\", \"23\", \"24\", \"25\", \"26\", \"27\"], \"mode\": \"lines\", \"name\": \"normalized_mean_absolute_error_min\", \"stepped\": true, \"type\": \"scatter\", \"data\": [0.010908535608821168, 0.010908535608821168, 0.010908535608821168, 0.010908535608821168, 0.010908535608821168, 0.010908535608821168, 0.010908535608821168, 0.010908535608821168, 0.010908535608821168, 0.010908535608821168, 0.010908535608821168, 0.010908535608821168, 0.010908535608821168, 0.010908535608821168, 0.010908535608821168, 0.010908535608821168, 0.010908535608821168, 0.010908535608821168, 0.010908535608821168, 0.010908535608821168, 0.010908535608821168, 0.010908535608821168, 0.010908535608821168, 0.010908535608821168, 0.010908535608821168, 0.010908535608821168, 0.010908535608821168, 0.010450157616959315]}], \"mean_absolute_error\": [{\"categories\": [\"0\", \"1\", \"2\", \"3\", \"4\", \"5\", \"6\", \"7\", \"8\", \"9\", \"10\", \"11\", \"12\", \"13\", \"14\", \"15\", \"16\", \"17\", \"18\", \"19\", \"20\", \"21\", \"22\", \"23\", \"24\", \"25\", \"26\", \"27\"], \"mode\": \"markers\", \"name\": \"mean_absolute_error\", \"stepped\": false, \"type\": \"scatter\", \"data\": [2.879364958840252, 8.111653911717633, 21.895446035359964, 21.71689069719622, 14.129267976090825, 9.445202780704566, 11.270613134405043, 8.60085422646957, 14.618016177202412, 12.75172254570381, 23.64102659562514, 11.983734427564064, 24.81501167907081, 17.450548264577204, 14.474244724971857, 3.878787542247507, 13.413702656248367, 14.581423712372986, 9.322407631118637, 13.38607694235173, 15.34296687123746, 14.704893396120994, 5.580997998584534, 12.232791807430976, 6.5997658402433546, 24.593494097974723, 3.288605084775564, 2.7583736933762326]}, {\"categories\": [\"0\", \"1\", \"2\", \"3\", \"4\", \"5\", \"6\", \"7\", \"8\", \"9\", \"10\", \"11\", \"12\", \"13\", \"14\", \"15\", \"16\", \"17\", \"18\", \"19\", \"20\", \"21\", \"22\", \"23\", \"24\", \"25\", \"26\", \"27\"], \"mode\": \"lines\", \"name\": \"mean_absolute_error_min\", \"stepped\": true, \"type\": \"scatter\", \"data\": [2.879364958840252, 2.879364958840252, 2.879364958840252, 2.879364958840252, 2.879364958840252, 2.879364958840252, 2.879364958840252, 2.879364958840252, 2.879364958840252, 2.879364958840252, 2.879364958840252, 2.879364958840252, 2.879364958840252, 2.879364958840252, 2.879364958840252, 2.879364958840252, 2.879364958840252, 2.879364958840252, 2.879364958840252, 2.879364958840252, 2.879364958840252, 2.879364958840252, 2.879364958840252, 2.879364958840252, 2.879364958840252, 2.879364958840252, 2.879364958840252, 2.7583736933762326]}], \"r2_score\": [{\"categories\": [\"0\", \"1\", \"2\", \"3\", \"4\", \"5\", \"6\", \"7\", \"8\", \"9\", \"10\", \"11\", \"12\", \"13\", \"14\", \"15\", \"16\", \"17\", \"18\", \"19\", \"20\", \"21\", \"22\", \"23\", \"24\", \"25\", \"26\", \"27\"], \"mode\": \"markers\", \"name\": \"r2_score\", \"stepped\": false, \"type\": \"scatter\", \"data\": [0.9940336903693925, 0.9568307470023244, 0.7566312972851724, 0.7594115131581725, 0.8838186673963484, 0.9372553487852194, 0.9249584460716826, 0.9540798471921434, 0.8758868492694616, 0.9013952996925576, 0.716221213545426, 0.916649649299224, 0.6923378392095726, 0.8380252800968112, 0.8593469757580134, 0.9899278704420688, 0.8911569625866358, 0.8761519191452265, 0.9424752268743237, 0.9010445965058389, 0.8693895550580555, 0.8751290220192892, 0.9656228324191231, 0.8949458128817603, 0.9724122808947078, 0.688651772267125, 0.9919577996014702, 0.9945546867969254]}, {\"categories\": [\"0\", \"1\", \"2\", \"3\", \"4\", \"5\", \"6\", \"7\", \"8\", \"9\", \"10\", \"11\", \"12\", \"13\", \"14\", \"15\", \"16\", \"17\", \"18\", \"19\", \"20\", \"21\", \"22\", \"23\", \"24\", \"25\", \"26\", \"27\"], \"mode\": \"lines\", \"name\": \"r2_score_max\", \"stepped\": true, \"type\": \"scatter\", \"data\": [0.9940336903693925, 0.9940336903693925, 0.9940336903693925, 0.9940336903693925, 0.9940336903693925, 0.9940336903693925, 0.9940336903693925, 0.9940336903693925, 0.9940336903693925, 0.9940336903693925, 0.9940336903693925, 0.9940336903693925, 0.9940336903693925, 0.9940336903693925, 0.9940336903693925, 0.9940336903693925, 0.9940336903693925, 0.9940336903693925, 0.9940336903693925, 0.9940336903693925, 0.9940336903693925, 0.9940336903693925, 0.9940336903693925, 0.9940336903693925, 0.9940336903693925, 0.9940336903693925, 0.9940336903693925, 0.9945546867969254]}], \"normalized_root_mean_squared_error\": [{\"categories\": [\"0\", \"1\", \"2\", \"3\", \"4\", \"5\", \"6\", \"7\", \"8\", \"9\", \"10\", \"11\", \"12\", \"13\", \"14\", \"15\", \"16\", \"17\", \"18\", \"19\", \"20\", \"21\", \"22\", \"23\", \"24\", \"25\", \"26\", \"27\"], \"mode\": \"markers\", \"name\": \"normalized_root_mean_squared_error\", \"stepped\": false, \"type\": \"scatter\", \"data\": [0.016566464689118682, 0.04465748265721362, 0.10601731373179649, 0.10546044955379175, 0.07327494811258457, 0.053847609092519635, 0.058881691757010746, 0.0460488843529544, 0.07574556321707585, 0.06750963989231624, 0.11448071680903919, 0.06205612273159854, 0.11924041085748524, 0.08631455177996206, 0.08061851659049177, 0.021553994318799778, 0.07092943181290823, 0.07566384761991028, 0.05155692888840874, 0.06759848999992493, 0.07769600707923541, 0.07597648910809288, 0.039798121349721785, 0.06966691950923229, 0.035673540210796495, 0.1199285277047564, 0.019251490443536228, 0.015838068344623178]}, {\"categories\": [\"0\", \"1\", \"2\", \"3\", \"4\", \"5\", \"6\", \"7\", \"8\", \"9\", \"10\", \"11\", \"12\", \"13\", \"14\", \"15\", \"16\", \"17\", \"18\", \"19\", \"20\", \"21\", \"22\", \"23\", \"24\", \"25\", \"26\", \"27\"], \"mode\": \"lines\", \"name\": \"normalized_root_mean_squared_error_min\", \"stepped\": true, \"type\": \"scatter\", \"data\": [0.016566464689118682, 0.016566464689118682, 0.016566464689118682, 0.016566464689118682, 0.016566464689118682, 0.016566464689118682, 0.016566464689118682, 0.016566464689118682, 0.016566464689118682, 0.016566464689118682, 0.016566464689118682, 0.016566464689118682, 0.016566464689118682, 0.016566464689118682, 0.016566464689118682, 0.016566464689118682, 0.016566464689118682, 0.016566464689118682, 0.016566464689118682, 0.016566464689118682, 0.016566464689118682, 0.016566464689118682, 0.016566464689118682, 0.016566464689118682, 0.016566464689118682, 0.016566464689118682, 0.016566464689118682, 0.015838068344623178]}], \"root_mean_squared_error\": [{\"categories\": [\"0\", \"1\", \"2\", \"3\", \"4\", \"5\", \"6\", \"7\", \"8\", \"9\", \"10\", \"11\", \"12\", \"13\", \"14\", \"15\", \"16\", \"17\", \"18\", \"19\", \"20\", \"21\", \"22\", \"23\", \"24\", \"25\", \"26\", \"27\"], \"mode\": \"markers\", \"name\": \"root_mean_squared_error\", \"stepped\": false, \"type\": \"scatter\", \"data\": [4.372804895933003, 11.787575832746697, 27.98382378133856, 27.836836572562003, 19.34130533392592, 14.213357713472593, 15.5421301302138, 12.154843578854358, 19.99343709695569, 17.81952211190202, 30.217783235387305, 16.380037768805906, 31.47412934354994, 22.783176839268055, 21.279678595597364, 5.689289395948597, 18.722194053928316, 19.97186783821129, 13.60872070735672, 17.842974561947724, 20.508266943259343, 20.05439119221901, 10.504922030909018, 18.388947336159017, 9.416217292968645, 31.655761380027684, 5.081531470066536, 4.18054087574759]}, {\"categories\": [\"0\", \"1\", \"2\", \"3\", \"4\", \"5\", \"6\", \"7\", \"8\", \"9\", \"10\", \"11\", \"12\", \"13\", \"14\", \"15\", \"16\", \"17\", \"18\", \"19\", \"20\", \"21\", \"22\", \"23\", \"24\", \"25\", \"26\", \"27\"], \"mode\": \"lines\", \"name\": \"root_mean_squared_error_min\", \"stepped\": true, \"type\": \"scatter\", \"data\": [4.372804895933003, 4.372804895933003, 4.372804895933003, 4.372804895933003, 4.372804895933003, 4.372804895933003, 4.372804895933003, 4.372804895933003, 4.372804895933003, 4.372804895933003, 4.372804895933003, 4.372804895933003, 4.372804895933003, 4.372804895933003, 4.372804895933003, 4.372804895933003, 4.372804895933003, 4.372804895933003, 4.372804895933003, 4.372804895933003, 4.372804895933003, 4.372804895933003, 4.372804895933003, 4.372804895933003, 4.372804895933003, 4.372804895933003, 4.372804895933003, 4.18054087574759]}], \"normalized_median_absolute_error\": [{\"categories\": [\"0\", \"1\", \"2\", \"3\", \"4\", \"5\", \"6\", \"7\", \"8\", \"9\", \"10\", \"11\", \"12\", \"13\", \"14\", \"15\", \"16\", \"17\", \"18\", \"19\", \"20\", \"21\", \"22\", \"23\", \"24\", \"25\", \"26\", \"27\"], \"mode\": \"markers\", \"name\": \"normalized_median_absolute_error\", \"stepped\": false, \"type\": \"scatter\", \"data\": [0.007083266045645556, 0.01981312172201293, 0.06868850633282021, 0.06720750628250509, 0.04006582894442763, 0.02160134724968888, 0.03038681280188075, 0.022745254492500165, 0.03959955075578618, 0.034087819689695785, 0.07366054646182488, 0.03384714506242281, 0.07906541107523327, 0.05409742975774116, 0.03501323088706425, 0.00961445438407623, 0.03646861150292375, 0.03907121646868845, 0.021690635892133298, 0.04010460372398114, 0.04481531354498453, 0.04090002107095455, 0.008567028283869998, 0.028765319557213325, 0.01638360540524993, 0.07642260212652055, 0.007915822597840438, 0.006805738475549388]}, {\"categories\": [\"0\", \"1\", \"2\", \"3\", \"4\", \"5\", \"6\", \"7\", \"8\", \"9\", \"10\", \"11\", \"12\", \"13\", \"14\", \"15\", \"16\", \"17\", \"18\", \"19\", \"20\", \"21\", \"22\", \"23\", \"24\", \"25\", \"26\", \"27\"], \"mode\": \"lines\", \"name\": \"normalized_median_absolute_error_min\", \"stepped\": true, \"type\": \"scatter\", \"data\": [0.007083266045645556, 0.007083266045645556, 0.007083266045645556, 0.007083266045645556, 0.007083266045645556, 0.007083266045645556, 0.007083266045645556, 0.007083266045645556, 0.007083266045645556, 0.007083266045645556, 0.007083266045645556, 0.007083266045645556, 0.007083266045645556, 0.007083266045645556, 0.007083266045645556, 0.007083266045645556, 0.007083266045645556, 0.007083266045645556, 0.007083266045645556, 0.007083266045645556, 0.007083266045645556, 0.007083266045645556, 0.007083266045645556, 0.007083266045645556, 0.007083266045645556, 0.007083266045645556, 0.007083266045645556, 0.006805738475549388]}], \"normalized_root_mean_squared_log_error\": [{\"categories\": [\"0\", \"1\", \"2\", \"3\", \"4\", \"5\", \"6\", \"7\", \"8\", \"9\", \"10\", \"11\", \"12\", \"13\", \"14\", \"15\", \"16\", \"17\", \"18\", \"19\", \"20\", \"21\", \"22\", \"23\", \"24\", \"25\", \"26\", \"27\"], \"mode\": \"markers\", \"name\": \"normalized_root_mean_squared_log_error\", \"stepped\": false, \"type\": \"scatter\", \"data\": [NaN, NaN, 0.12973417041555996, 0.12985254430266852, NaN, 0.029366388184594194, 0.038901625963838796, 0.02850768251927077, NaN, 0.0361633071096643, 0.13616504132993923, 0.033801922161658185, 0.1395584996271998, 0.09216340147581102, 0.06092270247202354, NaN, NaN, NaN, 0.033233339530352055, 0.07019681586588741, 0.07858742646479788, NaN, 0.022925348223728357, 0.05215729637492407, 0.02394782381718341, NaN, NaN, NaN]}, {\"categories\": [\"0\", \"1\", \"2\", \"3\", \"4\", \"5\", \"6\", \"7\", \"8\", \"9\", \"10\", \"11\", \"12\", \"13\", \"14\", \"15\", \"16\", \"17\", \"18\", \"19\", \"20\", \"21\", \"22\", \"23\", \"24\", \"25\", \"26\", \"27\"], \"mode\": \"lines\", \"name\": \"normalized_root_mean_squared_log_error_min\", \"stepped\": true, \"type\": \"scatter\", \"data\": [NaN, NaN, 0.12973417041555996, 0.12973417041555996, 0.12973417041555996, 0.029366388184594194, 0.029366388184594194, 0.02850768251927077, 0.02850768251927077, 0.02850768251927077, 0.02850768251927077, 0.02850768251927077, 0.02850768251927077, 0.02850768251927077, 0.02850768251927077, 0.02850768251927077, 0.02850768251927077, 0.02850768251927077, 0.02850768251927077, 0.02850768251927077, 0.02850768251927077, 0.02850768251927077, 0.022925348223728357, 0.022925348223728357, 0.022925348223728357, 0.022925348223728357, 0.022925348223728357, 0.022925348223728357]}]}, \"metricName\": null, \"primaryMetricName\": \"spearman_correlation\", \"showLegend\": false}, \"run_metrics\": [{\"name\": \"root_mean_squared_error\", \"run_id\": \"AutoML_473ef8aa-79fa-43c8-92f1-df26625d6d49\", \"categories\": [0], \"series\": [{\"data\": [4.18054087574759]}]}, {\"name\": \"root_mean_squared_log_error\", \"run_id\": \"AutoML_473ef8aa-79fa-43c8-92f1-df26625d6d49\", \"categories\": [0], \"series\": [{\"data\": [NaN]}]}, {\"name\": \"spearman_correlation\", \"run_id\": \"AutoML_473ef8aa-79fa-43c8-92f1-df26625d6d49\", \"categories\": [0], \"series\": [{\"data\": [0.9982487413263781]}]}, {\"name\": \"mean_absolute_percentage_error\", \"run_id\": \"AutoML_473ef8aa-79fa-43c8-92f1-df26625d6d49\", \"categories\": [0], \"series\": [{\"data\": [5.698304640075865]}]}, {\"name\": \"r2_score\", \"run_id\": \"AutoML_473ef8aa-79fa-43c8-92f1-df26625d6d49\", \"categories\": [0], \"series\": [{\"data\": [0.9945546867969254]}]}, {\"name\": \"normalized_root_mean_squared_log_error\", \"run_id\": \"AutoML_473ef8aa-79fa-43c8-92f1-df26625d6d49\", \"categories\": [0], \"series\": [{\"data\": [NaN]}]}, {\"name\": \"explained_variance\", \"run_id\": \"AutoML_473ef8aa-79fa-43c8-92f1-df26625d6d49\", \"categories\": [0], \"series\": [{\"data\": [0.9945619487968813]}]}, {\"name\": \"mean_absolute_error\", \"run_id\": \"AutoML_473ef8aa-79fa-43c8-92f1-df26625d6d49\", \"categories\": [0], \"series\": [{\"data\": [2.7583736933762326]}]}, {\"name\": \"normalized_mean_absolute_error\", \"run_id\": \"AutoML_473ef8aa-79fa-43c8-92f1-df26625d6d49\", \"categories\": [0], \"series\": [{\"data\": [0.010450157616959315]}]}, {\"name\": \"median_absolute_error\", \"run_id\": \"AutoML_473ef8aa-79fa-43c8-92f1-df26625d6d49\", \"categories\": [0], \"series\": [{\"data\": [1.7964102229891743]}]}, {\"name\": \"normalized_root_mean_squared_error\", \"run_id\": \"AutoML_473ef8aa-79fa-43c8-92f1-df26625d6d49\", \"categories\": [0], \"series\": [{\"data\": [0.015838068344623178]}]}, {\"name\": \"normalized_median_absolute_error\", \"run_id\": \"AutoML_473ef8aa-79fa-43c8-92f1-df26625d6d49\", \"categories\": [0], \"series\": [{\"data\": [0.006805738475549388]}]}], \"run_logs\": \"\\nRun is completed.\", \"graph\": {}, \"widget_settings\": {\"childWidgetDisplay\": \"popup\", \"send_telemetry\": false, \"log_level\": \"INFO\", \"sdk_version\": \"1.31.0\"}, \"loading\": false}"
          },
          "metadata": {}
        }
      ],
      "execution_count": 24,
      "metadata": {
        "collapsed": true,
        "jupyter": {
          "source_hidden": false,
          "outputs_hidden": false
        },
        "nteract": {
          "transient": {
            "deleting": false
          }
        },
        "gather": {
          "logged": 1627479157707
        }
      }
    },
    {
      "cell_type": "code",
      "source": [
        "best_run, fitted_model = local_run.get_output()\r\n",
        "print(best_run)\r\n",
        "print(fitted_model)"
      ],
      "outputs": [
        {
          "output_type": "stream",
          "name": "stdout",
          "text": [
            "Run(Experiment: CodeChallenge,\n",
            "Id: AutoML_473ef8aa-79fa-43c8-92f1-df26625d6d49_27,\n",
            "Type: None,\n",
            "Status: Completed)\n",
            "RegressionPipeline(pipeline=Pipeline(memory=None,\n",
            "                                     steps=[('datatransformer',\n",
            "                                             DataTransformer(enable_dnn=False, enable_feature_sweeping=True, feature_sweeping_config={}, feature_sweeping_timeout=86400, featurization_config=None, force_text_dnn=False, is_cross_validation=True, is_onnx_compatible=False, observer=None, task='regression', working_dir='/mnt/batch/ta...\n",
            "), random_state=0, reg_alpha=1.875, reg_lambda=2.5, subsample=1, tree_method='auto'))], verbose=False))], meta_learner=ElasticNetCV(alphas=None, copy_X=True, cv=None, eps=0.001, fit_intercept=True, l1_ratio=0.5, max_iter=1000, n_alphas=100, n_jobs=None, normalize=False, positive=False, precompute='auto', random_state=None, selection='cyclic', tol=0.0001, verbose=0), training_cv_folds=5))],\n",
            "                                     verbose=False),\n",
            "                   stddev=[4.183320614641042])\n"
          ]
        }
      ],
      "execution_count": 25,
      "metadata": {
        "collapsed": true,
        "jupyter": {
          "source_hidden": false,
          "outputs_hidden": false
        },
        "nteract": {
          "transient": {
            "deleting": false
          }
        },
        "gather": {
          "logged": 1627479265799
        }
      }
    },
    {
      "cell_type": "code",
      "source": [
        "!pip install https://github.com/pandas-profiling/pandas-profiling/archive/master.zip"
      ],
      "outputs": [
        {
          "output_type": "stream",
          "name": "stdout",
          "text": [
            "Collecting https://github.com/pandas-profiling/pandas-profiling/archive/master.zip\n",
            "  Downloading https://github.com/pandas-profiling/pandas-profiling/archive/master.zip\n",
            "\u001b[K     | 34.6 MB 531 kB/s\n",
            "\u001b[?25hRequirement already satisfied: joblib in /anaconda/envs/azureml_py36/lib/python3.6/site-packages (from pandas-profiling==3.0.0) (0.14.1)\n",
            "Requirement already satisfied: scipy>=1.4.1 in /anaconda/envs/azureml_py36/lib/python3.6/site-packages (from pandas-profiling==3.0.0) (1.5.2)\n",
            "Requirement already satisfied: pandas!=1.0.0,!=1.0.1,!=1.0.2,!=1.1.0,>=0.25.3 in /anaconda/envs/azureml_py36/lib/python3.6/site-packages (from pandas-profiling==3.0.0) (0.25.3)\n",
            "Requirement already satisfied: matplotlib>=3.2.0 in /anaconda/envs/azureml_py36/lib/python3.6/site-packages (from pandas-profiling==3.0.0) (3.2.1)\n",
            "Requirement already satisfied: pydantic>=1.8.1 in /anaconda/envs/azureml_py36/lib/python3.6/site-packages (from pandas-profiling==3.0.0) (1.8.2)\n",
            "Requirement already satisfied: PyYAML>=5.0.0 in /anaconda/envs/azureml_py36/lib/python3.6/site-packages (from pandas-profiling==3.0.0) (5.4.1)\n",
            "Requirement already satisfied: jinja2>=2.11.1 in /anaconda/envs/azureml_py36/lib/python3.6/site-packages (from pandas-profiling==3.0.0) (2.11.2)\n",
            "Collecting visions[type_image_path]==0.7.1\n",
            "  Downloading visions-0.7.1-py3-none-any.whl (102 kB)\n",
            "\u001b[K     |████████████████████████████████| 102 kB 5.9 MB/s eta 0:00:01\n",
            "\u001b[?25hRequirement already satisfied: numpy>=1.16.0 in /anaconda/envs/azureml_py36/lib/python3.6/site-packages (from pandas-profiling==3.0.0) (1.18.5)\n",
            "Collecting htmlmin>=0.1.12\n",
            "  Downloading htmlmin-0.1.12.tar.gz (19 kB)\n",
            "Collecting missingno>=0.4.2\n",
            "  Downloading missingno-0.5.0-py3-none-any.whl (8.8 kB)\n",
            "Collecting phik>=0.11.1\n",
            "  Downloading phik-0.12.0-cp36-cp36m-manylinux2010_x86_64.whl (675 kB)\n",
            "\u001b[K     |████████████████████████████████| 675 kB 18.1 MB/s eta 0:00:01\n",
            "\u001b[?25hCollecting tangled-up-in-unicode==0.1.0\n",
            "  Downloading tangled_up_in_unicode-0.1.0-py3-none-any.whl (3.1 MB)\n",
            "\u001b[K     |████████████████████████████████| 3.1 MB 100.0 MB/s eta 0:00:01\n",
            "\u001b[?25hRequirement already satisfied: requests>=2.24.0 in /anaconda/envs/azureml_py36/lib/python3.6/site-packages (from pandas-profiling==3.0.0) (2.25.1)\n",
            "Requirement already satisfied: tqdm>=4.48.2 in /anaconda/envs/azureml_py36/lib/python3.6/site-packages (from pandas-profiling==3.0.0) (4.61.1)\n",
            "Requirement already satisfied: seaborn>=0.10.1 in /anaconda/envs/azureml_py36/lib/python3.6/site-packages (from pandas-profiling==3.0.0) (0.11.1)\n",
            "Requirement already satisfied: python-dateutil>=2.6.1 in /anaconda/envs/azureml_py36/lib/python3.6/site-packages (from pandas!=1.0.0,!=1.0.1,!=1.0.2,!=1.1.0,>=0.25.3->pandas-profiling==3.0.0) (2.8.1)\n",
            "Requirement already satisfied: pytz>=2017.2 in /anaconda/envs/azureml_py36/lib/python3.6/site-packages (from pandas!=1.0.0,!=1.0.1,!=1.0.2,!=1.1.0,>=0.25.3->pandas-profiling==3.0.0) (2021.1)\n",
            "Requirement already satisfied: kiwisolver>=1.0.1 in /anaconda/envs/azureml_py36/lib/python3.6/site-packages (from matplotlib>=3.2.0->pandas-profiling==3.0.0) (1.3.1)\n",
            "Requirement already satisfied: pyparsing!=2.0.4,!=2.1.2,!=2.1.6,>=2.0.1 in /anaconda/envs/azureml_py36/lib/python3.6/site-packages (from matplotlib>=3.2.0->pandas-profiling==3.0.0) (2.4.7)\n",
            "Requirement already satisfied: cycler>=0.10 in /anaconda/envs/azureml_py36/lib/python3.6/site-packages (from matplotlib>=3.2.0->pandas-profiling==3.0.0) (0.10.0)\n",
            "Requirement already satisfied: dataclasses>=0.6; python_version < \"3.7\" in /anaconda/envs/azureml_py36/lib/python3.6/site-packages (from pydantic>=1.8.1->pandas-profiling==3.0.0) (0.8)\n",
            "Requirement already satisfied: typing-extensions>=3.7.4.3 in /anaconda/envs/azureml_py36/lib/python3.6/site-packages (from pydantic>=1.8.1->pandas-profiling==3.0.0) (3.10.0.0)\n",
            "Requirement already satisfied: MarkupSafe>=0.23 in /anaconda/envs/azureml_py36/lib/python3.6/site-packages (from jinja2>=2.11.1->pandas-profiling==3.0.0) (2.0.1)\n",
            "Requirement already satisfied: attrs>=19.3.0 in /anaconda/envs/azureml_py36/lib/python3.6/site-packages (from visions[type_image_path]==0.7.1->pandas-profiling==3.0.0) (21.2.0)\n",
            "Collecting multimethod==1.4\n",
            "  Downloading multimethod-1.4-py2.py3-none-any.whl (7.3 kB)\n",
            "Requirement already satisfied: networkx>=2.4 in /anaconda/envs/azureml_py36/lib/python3.6/site-packages (from visions[type_image_path]==0.7.1->pandas-profiling==3.0.0) (2.5.1)\n",
            "Requirement already satisfied: bottleneck in /anaconda/envs/azureml_py36/lib/python3.6/site-packages (from visions[type_image_path]==0.7.1->pandas-profiling==3.0.0) (1.3.2)\n",
            "Requirement already satisfied: Pillow; extra == \"type_image_path\" in /anaconda/envs/azureml_py36/lib/python3.6/site-packages (from visions[type_image_path]==0.7.1->pandas-profiling==3.0.0) (8.2.0)\n",
            "Collecting imagehash; extra == \"type_image_path\"\n",
            "  Downloading ImageHash-4.2.1.tar.gz (812 kB)\n",
            "\u001b[K     |████████████████████████████████| 812 kB 98.8 MB/s eta 0:00:01\n",
            "\u001b[?25hRequirement already satisfied: urllib3<1.27,>=1.21.1 in /anaconda/envs/azureml_py36/lib/python3.6/site-packages (from requests>=2.24.0->pandas-profiling==3.0.0) (1.25.11)\n",
            "Requirement already satisfied: idna<3,>=2.5 in /anaconda/envs/azureml_py36/lib/python3.6/site-packages (from requests>=2.24.0->pandas-profiling==3.0.0) (2.10)\n",
            "Requirement already satisfied: certifi>=2017.4.17 in /anaconda/envs/azureml_py36/lib/python3.6/site-packages (from requests>=2.24.0->pandas-profiling==3.0.0) (2021.5.30)\n",
            "Requirement already satisfied: chardet<5,>=3.0.2 in /anaconda/envs/azureml_py36/lib/python3.6/site-packages (from requests>=2.24.0->pandas-profiling==3.0.0) (4.0.0)\n",
            "Requirement already satisfied: six>=1.5 in /anaconda/envs/azureml_py36/lib/python3.6/site-packages (from python-dateutil>=2.6.1->pandas!=1.0.0,!=1.0.1,!=1.0.2,!=1.1.0,>=0.25.3->pandas-profiling==3.0.0) (1.16.0)\n",
            "Collecting decorator<5,>=4.3\n",
            "  Downloading decorator-4.4.2-py2.py3-none-any.whl (9.2 kB)\n",
            "Requirement already satisfied: PyWavelets in /anaconda/envs/azureml_py36/lib/python3.6/site-packages (from imagehash; extra == \"type_image_path\"->visions[type_image_path]==0.7.1->pandas-profiling==3.0.0) (1.1.1)\n",
            "Building wheels for collected packages: pandas-profiling, htmlmin, imagehash\n",
            "  Building wheel for pandas-profiling (setup.py) ... \u001b[?25l-\b \b\\\b \b|\b \bdone\n",
            "\u001b[?25h  Created wheel for pandas-profiling: filename=pandas_profiling-3.0.0-py2.py3-none-any.whl size=248503 sha256=7e0217d2653865d358f85e949033209b83c50b1ea0d4fc7ff479742a9b4903fb\n",
            "  Stored in directory: /tmp/pip-ephem-wheel-cache-t4h0p5nh/wheels/b2/af/cb/ca484c1ce66cdc8b79923c05f88baf514e553437bdc6b334f2\n",
            "  Building wheel for htmlmin (setup.py) ... \u001b[?25l-\b \bdone\n",
            "\u001b[?25h  Created wheel for htmlmin: filename=htmlmin-0.1.12-py3-none-any.whl size=27084 sha256=9cd9a88cf648ae02d0d5f73645777f75eccafa2564e69043c074a2fbf9896853\n",
            "  Stored in directory: /home/azureuser/.cache/pip/wheels/c3/fe/0b/4450b38bceb9ae43dd7d0f16e353566f30f5f4d59a58eca2ed\n",
            "  Building wheel for imagehash (setup.py) ... \u001b[?25l-\b \bdone\n",
            "\u001b[?25h  Created wheel for imagehash: filename=ImageHash-4.2.1-py2.py3-none-any.whl size=295199 sha256=65e2fc26dfbb043e2c7de19926c853c062935cacb79def079ac6b5ca1022972f\n",
            "  Stored in directory: /home/azureuser/.cache/pip/wheels/5e/77/4c/7291601777365dd7db8a3b309006122d515ee5ac086f2f5866\n",
            "Successfully built pandas-profiling htmlmin imagehash\n",
            "Installing collected packages: tangled-up-in-unicode, multimethod, imagehash, visions, htmlmin, missingno, phik, pandas-profiling, decorator\n",
            "  Attempting uninstall: decorator\n",
            "    Found existing installation: decorator 5.0.9\n",
            "    Uninstalling decorator-5.0.9:\n",
            "      Successfully uninstalled decorator-5.0.9\n",
            "Successfully installed decorator-4.4.2 htmlmin-0.1.12 imagehash-4.2.1 missingno-0.5.0 multimethod-1.4 pandas-profiling-3.0.0 phik-0.12.0 tangled-up-in-unicode-0.1.0 visions-0.7.1\n"
          ]
        }
      ],
      "execution_count": 28,
      "metadata": {
        "collapsed": true,
        "jupyter": {
          "source_hidden": false,
          "outputs_hidden": false
        },
        "nteract": {
          "transient": {
            "deleting": false
          }
        }
      }
    },
    {
      "cell_type": "code",
      "source": [
        "import pandas_profiling\r\n",
        "profile = pandas_profiling.ProfileReport(Converted_Dataset, title=\"Pandas Profiling Report\")\r\n",
        "profile.to_widgets()\r\n",
        "profile.to_notebook_iframe()"
      ],
      "outputs": [
        {
          "output_type": "display_data",
          "data": {
            "text/plain": "Summarize dataset:   0%|          | 0/43 [00:00<?, ?it/s]",
            "application/vnd.jupyter.widget-view+json": {
              "version_major": 2,
              "version_minor": 0,
              "model_id": "82582d07e7e64ea29c6988540e9ba4b2"
            }
          },
          "metadata": {}
        },
        {
          "output_type": "display_data",
          "data": {
            "text/plain": "Generate report structure:   0%|          | 0/1 [00:00<?, ?it/s]",
            "application/vnd.jupyter.widget-view+json": {
              "version_major": 2,
              "version_minor": 0,
              "model_id": "38bef311c33d4194bd435c33d252b445"
            }
          },
          "metadata": {}
        },
        {
          "output_type": "display_data",
          "data": {
            "text/plain": "Render widgets:   0%|          | 0/1 [00:00<?, ?it/s]",
            "application/vnd.jupyter.widget-view+json": {
              "version_major": 2,
              "version_minor": 0,
              "model_id": "a4332c51e1fb4227842987ab640d443b"
            }
          },
          "metadata": {}
        }
      ],
      "execution_count": 30,
      "metadata": {
        "collapsed": true,
        "jupyter": {
          "source_hidden": false,
          "outputs_hidden": false
        },
        "nteract": {
          "transient": {
            "deleting": false
          }
        }
      }
    },
    {
      "cell_type": "code",
      "source": [
        "y_test = x_test.pop(\"target\")\r\n",
        "\r\n",
        "y_predict = fitted_model.predict(x_test)\r\n",
        "# y_predict = data_pre.\r\n",
        "# (x_test)\r\n",
        "# y_test = x\r\n",
        "print(y_predict[:10])"
      ],
      "outputs": [
        {
          "output_type": "error",
          "ename": "KeyError",
          "evalue": "'target'",
          "traceback": [
            "\u001b[0;31m---------------------------------------------------------------------------\u001b[0m",
            "\u001b[0;31mKeyError\u001b[0m                                  Traceback (most recent call last)",
            "\u001b[0;32m/anaconda/envs/azureml_py36/lib/python3.6/site-packages/pandas/core/indexes/base.py\u001b[0m in \u001b[0;36mget_loc\u001b[0;34m(self, key, method, tolerance)\u001b[0m\n\u001b[1;32m   2896\u001b[0m             \u001b[0;32mtry\u001b[0m\u001b[0;34m:\u001b[0m\u001b[0;34m\u001b[0m\u001b[0;34m\u001b[0m\u001b[0m\n\u001b[0;32m-> 2897\u001b[0;31m                 \u001b[0;32mreturn\u001b[0m \u001b[0mself\u001b[0m\u001b[0;34m.\u001b[0m\u001b[0m_engine\u001b[0m\u001b[0;34m.\u001b[0m\u001b[0mget_loc\u001b[0m\u001b[0;34m(\u001b[0m\u001b[0mkey\u001b[0m\u001b[0;34m)\u001b[0m\u001b[0;34m\u001b[0m\u001b[0;34m\u001b[0m\u001b[0m\n\u001b[0m\u001b[1;32m   2898\u001b[0m             \u001b[0;32mexcept\u001b[0m \u001b[0mKeyError\u001b[0m\u001b[0;34m:\u001b[0m\u001b[0;34m\u001b[0m\u001b[0;34m\u001b[0m\u001b[0m\n",
            "\u001b[0;32mpandas/_libs/index.pyx\u001b[0m in \u001b[0;36mpandas._libs.index.IndexEngine.get_loc\u001b[0;34m()\u001b[0m\n",
            "\u001b[0;32mpandas/_libs/index.pyx\u001b[0m in \u001b[0;36mpandas._libs.index.IndexEngine.get_loc\u001b[0;34m()\u001b[0m\n",
            "\u001b[0;32mpandas/_libs/hashtable_class_helper.pxi\u001b[0m in \u001b[0;36mpandas._libs.hashtable.PyObjectHashTable.get_item\u001b[0;34m()\u001b[0m\n",
            "\u001b[0;32mpandas/_libs/hashtable_class_helper.pxi\u001b[0m in \u001b[0;36mpandas._libs.hashtable.PyObjectHashTable.get_item\u001b[0;34m()\u001b[0m\n",
            "\u001b[0;31mKeyError\u001b[0m: 'target'",
            "\nDuring handling of the above exception, another exception occurred:\n",
            "\u001b[0;31mKeyError\u001b[0m                                  Traceback (most recent call last)",
            "\u001b[0;32m<ipython-input-32-2629d02283ee>\u001b[0m in \u001b[0;36m<module>\u001b[0;34m\u001b[0m\n\u001b[0;32m----> 1\u001b[0;31m \u001b[0my_test\u001b[0m \u001b[0;34m=\u001b[0m \u001b[0mx_test\u001b[0m\u001b[0;34m.\u001b[0m\u001b[0mpop\u001b[0m\u001b[0;34m(\u001b[0m\u001b[0;34m\"target\"\u001b[0m\u001b[0;34m)\u001b[0m\u001b[0;34m\u001b[0m\u001b[0;34m\u001b[0m\u001b[0m\n\u001b[0m\u001b[1;32m      2\u001b[0m \u001b[0;34m\u001b[0m\u001b[0m\n\u001b[1;32m      3\u001b[0m \u001b[0my_predict\u001b[0m \u001b[0;34m=\u001b[0m \u001b[0mfitted_model\u001b[0m\u001b[0;34m.\u001b[0m\u001b[0mpredict\u001b[0m\u001b[0;34m(\u001b[0m\u001b[0mx_test\u001b[0m\u001b[0;34m)\u001b[0m\u001b[0;34m\u001b[0m\u001b[0;34m\u001b[0m\u001b[0m\n\u001b[1;32m      4\u001b[0m \u001b[0;31m# y_predict = data_pre.\u001b[0m\u001b[0;34m\u001b[0m\u001b[0;34m\u001b[0m\u001b[0;34m\u001b[0m\u001b[0m\n\u001b[1;32m      5\u001b[0m \u001b[0;34m(\u001b[0m\u001b[0mx_test\u001b[0m\u001b[0;34m)\u001b[0m\u001b[0;34m\u001b[0m\u001b[0;34m\u001b[0m\u001b[0m\n",
            "\u001b[0;32m/anaconda/envs/azureml_py36/lib/python3.6/site-packages/pandas/core/generic.py\u001b[0m in \u001b[0;36mpop\u001b[0;34m(self, item)\u001b[0m\n\u001b[1;32m    860\u001b[0m         \u001b[0;36m3\u001b[0m  \u001b[0mmonkey\u001b[0m        \u001b[0mNaN\u001b[0m\u001b[0;34m\u001b[0m\u001b[0;34m\u001b[0m\u001b[0m\n\u001b[1;32m    861\u001b[0m         \"\"\"\n\u001b[0;32m--> 862\u001b[0;31m         \u001b[0mresult\u001b[0m \u001b[0;34m=\u001b[0m \u001b[0mself\u001b[0m\u001b[0;34m[\u001b[0m\u001b[0mitem\u001b[0m\u001b[0;34m]\u001b[0m\u001b[0;34m\u001b[0m\u001b[0;34m\u001b[0m\u001b[0m\n\u001b[0m\u001b[1;32m    863\u001b[0m         \u001b[0;32mdel\u001b[0m \u001b[0mself\u001b[0m\u001b[0;34m[\u001b[0m\u001b[0mitem\u001b[0m\u001b[0;34m]\u001b[0m\u001b[0;34m\u001b[0m\u001b[0;34m\u001b[0m\u001b[0m\n\u001b[1;32m    864\u001b[0m         \u001b[0;32mtry\u001b[0m\u001b[0;34m:\u001b[0m\u001b[0;34m\u001b[0m\u001b[0;34m\u001b[0m\u001b[0m\n",
            "\u001b[0;32m/anaconda/envs/azureml_py36/lib/python3.6/site-packages/pandas/core/frame.py\u001b[0m in \u001b[0;36m__getitem__\u001b[0;34m(self, key)\u001b[0m\n\u001b[1;32m   2993\u001b[0m             \u001b[0;32mif\u001b[0m \u001b[0mself\u001b[0m\u001b[0;34m.\u001b[0m\u001b[0mcolumns\u001b[0m\u001b[0;34m.\u001b[0m\u001b[0mnlevels\u001b[0m \u001b[0;34m>\u001b[0m \u001b[0;36m1\u001b[0m\u001b[0;34m:\u001b[0m\u001b[0;34m\u001b[0m\u001b[0;34m\u001b[0m\u001b[0m\n\u001b[1;32m   2994\u001b[0m                 \u001b[0;32mreturn\u001b[0m \u001b[0mself\u001b[0m\u001b[0;34m.\u001b[0m\u001b[0m_getitem_multilevel\u001b[0m\u001b[0;34m(\u001b[0m\u001b[0mkey\u001b[0m\u001b[0;34m)\u001b[0m\u001b[0;34m\u001b[0m\u001b[0;34m\u001b[0m\u001b[0m\n\u001b[0;32m-> 2995\u001b[0;31m             \u001b[0mindexer\u001b[0m \u001b[0;34m=\u001b[0m \u001b[0mself\u001b[0m\u001b[0;34m.\u001b[0m\u001b[0mcolumns\u001b[0m\u001b[0;34m.\u001b[0m\u001b[0mget_loc\u001b[0m\u001b[0;34m(\u001b[0m\u001b[0mkey\u001b[0m\u001b[0;34m)\u001b[0m\u001b[0;34m\u001b[0m\u001b[0;34m\u001b[0m\u001b[0m\n\u001b[0m\u001b[1;32m   2996\u001b[0m             \u001b[0;32mif\u001b[0m \u001b[0mis_integer\u001b[0m\u001b[0;34m(\u001b[0m\u001b[0mindexer\u001b[0m\u001b[0;34m)\u001b[0m\u001b[0;34m:\u001b[0m\u001b[0;34m\u001b[0m\u001b[0;34m\u001b[0m\u001b[0m\n\u001b[1;32m   2997\u001b[0m                 \u001b[0mindexer\u001b[0m \u001b[0;34m=\u001b[0m \u001b[0;34m[\u001b[0m\u001b[0mindexer\u001b[0m\u001b[0;34m]\u001b[0m\u001b[0;34m\u001b[0m\u001b[0;34m\u001b[0m\u001b[0m\n",
            "\u001b[0;32m/anaconda/envs/azureml_py36/lib/python3.6/site-packages/pandas/core/indexes/base.py\u001b[0m in \u001b[0;36mget_loc\u001b[0;34m(self, key, method, tolerance)\u001b[0m\n\u001b[1;32m   2897\u001b[0m                 \u001b[0;32mreturn\u001b[0m \u001b[0mself\u001b[0m\u001b[0;34m.\u001b[0m\u001b[0m_engine\u001b[0m\u001b[0;34m.\u001b[0m\u001b[0mget_loc\u001b[0m\u001b[0;34m(\u001b[0m\u001b[0mkey\u001b[0m\u001b[0;34m)\u001b[0m\u001b[0;34m\u001b[0m\u001b[0;34m\u001b[0m\u001b[0m\n\u001b[1;32m   2898\u001b[0m             \u001b[0;32mexcept\u001b[0m \u001b[0mKeyError\u001b[0m\u001b[0;34m:\u001b[0m\u001b[0;34m\u001b[0m\u001b[0;34m\u001b[0m\u001b[0m\n\u001b[0;32m-> 2899\u001b[0;31m                 \u001b[0;32mreturn\u001b[0m \u001b[0mself\u001b[0m\u001b[0;34m.\u001b[0m\u001b[0m_engine\u001b[0m\u001b[0;34m.\u001b[0m\u001b[0mget_loc\u001b[0m\u001b[0;34m(\u001b[0m\u001b[0mself\u001b[0m\u001b[0;34m.\u001b[0m\u001b[0m_maybe_cast_indexer\u001b[0m\u001b[0;34m(\u001b[0m\u001b[0mkey\u001b[0m\u001b[0;34m)\u001b[0m\u001b[0;34m)\u001b[0m\u001b[0;34m\u001b[0m\u001b[0;34m\u001b[0m\u001b[0m\n\u001b[0m\u001b[1;32m   2900\u001b[0m         \u001b[0mindexer\u001b[0m \u001b[0;34m=\u001b[0m \u001b[0mself\u001b[0m\u001b[0;34m.\u001b[0m\u001b[0mget_indexer\u001b[0m\u001b[0;34m(\u001b[0m\u001b[0;34m[\u001b[0m\u001b[0mkey\u001b[0m\u001b[0;34m]\u001b[0m\u001b[0;34m,\u001b[0m \u001b[0mmethod\u001b[0m\u001b[0;34m=\u001b[0m\u001b[0mmethod\u001b[0m\u001b[0;34m,\u001b[0m \u001b[0mtolerance\u001b[0m\u001b[0;34m=\u001b[0m\u001b[0mtolerance\u001b[0m\u001b[0;34m)\u001b[0m\u001b[0;34m\u001b[0m\u001b[0;34m\u001b[0m\u001b[0m\n\u001b[1;32m   2901\u001b[0m         \u001b[0;32mif\u001b[0m \u001b[0mindexer\u001b[0m\u001b[0;34m.\u001b[0m\u001b[0mndim\u001b[0m \u001b[0;34m>\u001b[0m \u001b[0;36m1\u001b[0m \u001b[0;32mor\u001b[0m \u001b[0mindexer\u001b[0m\u001b[0;34m.\u001b[0m\u001b[0msize\u001b[0m \u001b[0;34m>\u001b[0m \u001b[0;36m1\u001b[0m\u001b[0;34m:\u001b[0m\u001b[0;34m\u001b[0m\u001b[0;34m\u001b[0m\u001b[0m\n",
            "\u001b[0;32mpandas/_libs/index.pyx\u001b[0m in \u001b[0;36mpandas._libs.index.IndexEngine.get_loc\u001b[0;34m()\u001b[0m\n",
            "\u001b[0;32mpandas/_libs/index.pyx\u001b[0m in \u001b[0;36mpandas._libs.index.IndexEngine.get_loc\u001b[0;34m()\u001b[0m\n",
            "\u001b[0;32mpandas/_libs/hashtable_class_helper.pxi\u001b[0m in \u001b[0;36mpandas._libs.hashtable.PyObjectHashTable.get_item\u001b[0;34m()\u001b[0m\n",
            "\u001b[0;32mpandas/_libs/hashtable_class_helper.pxi\u001b[0m in \u001b[0;36mpandas._libs.hashtable.PyObjectHashTable.get_item\u001b[0;34m()\u001b[0m\n",
            "\u001b[0;31mKeyError\u001b[0m: 'target'"
          ]
        }
      ],
      "execution_count": 32,
      "metadata": {
        "collapsed": true,
        "jupyter": {
          "source_hidden": false,
          "outputs_hidden": false
        },
        "nteract": {
          "transient": {
            "deleting": false
          }
        },
        "gather": {
          "logged": 1627387278776
        }
      }
    },
    {
      "cell_type": "code",
      "source": [
        "x_train, x_test, y_train, y_test = train_test_split(Converted_Dataset, test_size=0.2, random_state=223)"
      ],
      "outputs": [
        {
          "output_type": "error",
          "ename": "ValueError",
          "evalue": "not enough values to unpack (expected 4, got 2)",
          "traceback": [
            "\u001b[0;31m---------------------------------------------------------------------------\u001b[0m",
            "\u001b[0;31mValueError\u001b[0m                                Traceback (most recent call last)",
            "\u001b[0;32m<ipython-input-38-a5b3a78f200e>\u001b[0m in \u001b[0;36m<module>\u001b[0;34m\u001b[0m\n\u001b[0;32m----> 1\u001b[0;31m \u001b[0mx_train\u001b[0m\u001b[0;34m,\u001b[0m \u001b[0mx_test\u001b[0m\u001b[0;34m,\u001b[0m \u001b[0my_train\u001b[0m\u001b[0;34m,\u001b[0m \u001b[0my_test\u001b[0m \u001b[0;34m=\u001b[0m \u001b[0mtrain_test_split\u001b[0m\u001b[0;34m(\u001b[0m\u001b[0mConverted_Dataset\u001b[0m\u001b[0;34m,\u001b[0m \u001b[0mtest_size\u001b[0m\u001b[0;34m=\u001b[0m\u001b[0;36m0.2\u001b[0m\u001b[0;34m,\u001b[0m \u001b[0mrandom_state\u001b[0m\u001b[0;34m=\u001b[0m\u001b[0;36m223\u001b[0m\u001b[0;34m)\u001b[0m\u001b[0;34m\u001b[0m\u001b[0;34m\u001b[0m\u001b[0m\n\u001b[0m",
            "\u001b[0;31mValueError\u001b[0m: not enough values to unpack (expected 4, got 2)"
          ]
        }
      ],
      "execution_count": 38,
      "metadata": {
        "collapsed": true,
        "jupyter": {
          "source_hidden": false,
          "outputs_hidden": false
        },
        "nteract": {
          "transient": {
            "deleting": false
          }
        },
        "gather": {
          "logged": 1627387393836
        }
      }
    },
    {
      "cell_type": "code",
      "source": [
        "from sklearn.metrics import mean_squared_error\r\n",
        "from math import sqrt\r\n",
        "\r\n",
        "y_actual = y_test.values.flatten().tolist()\r\n",
        "rmse = sqrt(mean_squared_error(y_actual, y_predict))\r\n",
        "rmse"
      ],
      "outputs": [
        {
          "output_type": "execute_result",
          "execution_count": 34,
          "data": {
            "text/plain": "3.5571996559346375"
          },
          "metadata": {}
        }
      ],
      "execution_count": 34,
      "metadata": {
        "collapsed": true,
        "jupyter": {
          "source_hidden": false,
          "outputs_hidden": false
        },
        "nteract": {
          "transient": {
            "deleting": false
          }
        },
        "gather": {
          "logged": 1627387307480
        }
      }
    },
    {
      "cell_type": "code",
      "source": [
        "sum_actuals = sum_errors = 0\r\n",
        "\r\n",
        "for actual_val, predict_val in zip(y_actual, y_predict):\r\n",
        "    abs_error = actual_val - predict_val\r\n",
        "    if abs_error < 0:\r\n",
        "        abs_error = abs_error * -1\r\n",
        "\r\n",
        "    sum_errors = sum_errors + abs_error\r\n",
        "    sum_actuals = sum_actuals + actual_val\r\n",
        "\r\n",
        "mean_abs_percent_error = sum_errors / sum_actuals\r\n",
        "print(\"Model MAPE:\")\r\n",
        "print(mean_abs_percent_error)\r\n",
        "print()\r\n",
        "print(\"Model Accuracy:\")\r\n",
        "print(1 - mean_abs_percent_error)"
      ],
      "outputs": [
        {
          "output_type": "stream",
          "name": "stdout",
          "text": [
            "Model MAPE:\n",
            "0.026455020167458935\n",
            "\n",
            "Model Accuracy:\n",
            "0.9735449798325411\n"
          ]
        }
      ],
      "execution_count": 35,
      "metadata": {
        "collapsed": true,
        "jupyter": {
          "source_hidden": false,
          "outputs_hidden": false
        },
        "nteract": {
          "transient": {
            "deleting": false
          }
        },
        "gather": {
          "logged": 1627387327346
        }
      }
    }
  ],
  "metadata": {
    "kernelspec": {
      "name": "python3-azureml",
      "language": "python",
      "display_name": "Python 3.6 - AzureML"
    },
    "language_info": {
      "name": "python",
      "version": "3.6.9",
      "mimetype": "text/x-python",
      "codemirror_mode": {
        "name": "ipython",
        "version": 3
      },
      "pygments_lexer": "ipython3",
      "nbconvert_exporter": "python",
      "file_extension": ".py"
    },
    "kernel_info": {
      "name": "python3-azureml"
    },
    "microsoft": {
      "host": {
        "AzureML": {
          "notebookHasBeenCompleted": true
        }
      }
    },
    "nteract": {
      "version": "nteract-front-end@1.0.0"
    }
  },
  "nbformat": 4,
  "nbformat_minor": 2
}